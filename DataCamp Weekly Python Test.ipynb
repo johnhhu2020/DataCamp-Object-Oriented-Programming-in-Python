{
 "cells": [
  {
   "cell_type": "code",
   "execution_count": 1,
   "id": "cb0cdb2f-ec4e-4a94-8808-82071c4cbc52",
   "metadata": {},
   "outputs": [
    {
     "data": {
      "text/html": [
       "<div>\n",
       "<style scoped>\n",
       "    .dataframe tbody tr th:only-of-type {\n",
       "        vertical-align: middle;\n",
       "    }\n",
       "\n",
       "    .dataframe tbody tr th {\n",
       "        vertical-align: top;\n",
       "    }\n",
       "\n",
       "    .dataframe thead th {\n",
       "        text-align: right;\n",
       "    }\n",
       "</style>\n",
       "<table border=\"1\" class=\"dataframe\">\n",
       "  <thead>\n",
       "    <tr style=\"text-align: right;\">\n",
       "      <th></th>\n",
       "      <th>High</th>\n",
       "      <th>Low</th>\n",
       "      <th>Open</th>\n",
       "      <th>Close</th>\n",
       "      <th>Volume</th>\n",
       "      <th>Adj Close</th>\n",
       "    </tr>\n",
       "    <tr>\n",
       "      <th>Date</th>\n",
       "      <th></th>\n",
       "      <th></th>\n",
       "      <th></th>\n",
       "      <th></th>\n",
       "      <th></th>\n",
       "      <th></th>\n",
       "    </tr>\n",
       "  </thead>\n",
       "  <tbody>\n",
       "    <tr>\n",
       "      <th>2016-11-08</th>\n",
       "      <td>27.930000</td>\n",
       "      <td>27.424999</td>\n",
       "      <td>27.577499</td>\n",
       "      <td>27.764999</td>\n",
       "      <td>97016800.0</td>\n",
       "      <td>26.172829</td>\n",
       "    </tr>\n",
       "    <tr>\n",
       "      <th>2016-11-09</th>\n",
       "      <td>27.830000</td>\n",
       "      <td>27.012501</td>\n",
       "      <td>27.469999</td>\n",
       "      <td>27.719999</td>\n",
       "      <td>236705600.0</td>\n",
       "      <td>26.130411</td>\n",
       "    </tr>\n",
       "    <tr>\n",
       "      <th>2016-11-10</th>\n",
       "      <td>27.772499</td>\n",
       "      <td>26.457500</td>\n",
       "      <td>27.772499</td>\n",
       "      <td>26.947500</td>\n",
       "      <td>228538000.0</td>\n",
       "      <td>25.402210</td>\n",
       "    </tr>\n",
       "    <tr>\n",
       "      <th>2016-11-11</th>\n",
       "      <td>27.217501</td>\n",
       "      <td>26.637501</td>\n",
       "      <td>26.780001</td>\n",
       "      <td>27.107500</td>\n",
       "      <td>136575600.0</td>\n",
       "      <td>25.553038</td>\n",
       "    </tr>\n",
       "    <tr>\n",
       "      <th>2016-11-14</th>\n",
       "      <td>26.952499</td>\n",
       "      <td>26.020000</td>\n",
       "      <td>26.927500</td>\n",
       "      <td>26.427500</td>\n",
       "      <td>204702000.0</td>\n",
       "      <td>24.912027</td>\n",
       "    </tr>\n",
       "    <tr>\n",
       "      <th>...</th>\n",
       "      <td>...</td>\n",
       "      <td>...</td>\n",
       "      <td>...</td>\n",
       "      <td>...</td>\n",
       "      <td>...</td>\n",
       "      <td>...</td>\n",
       "    </tr>\n",
       "    <tr>\n",
       "      <th>2021-06-02</th>\n",
       "      <td>125.239998</td>\n",
       "      <td>124.050003</td>\n",
       "      <td>124.279999</td>\n",
       "      <td>125.059998</td>\n",
       "      <td>59278900.0</td>\n",
       "      <td>124.872902</td>\n",
       "    </tr>\n",
       "    <tr>\n",
       "      <th>2021-06-03</th>\n",
       "      <td>124.849998</td>\n",
       "      <td>123.129997</td>\n",
       "      <td>124.680000</td>\n",
       "      <td>123.540001</td>\n",
       "      <td>76229200.0</td>\n",
       "      <td>123.355186</td>\n",
       "    </tr>\n",
       "    <tr>\n",
       "      <th>2021-06-04</th>\n",
       "      <td>126.160004</td>\n",
       "      <td>123.849998</td>\n",
       "      <td>124.070000</td>\n",
       "      <td>125.889999</td>\n",
       "      <td>75169300.0</td>\n",
       "      <td>125.701668</td>\n",
       "    </tr>\n",
       "    <tr>\n",
       "      <th>2021-06-07</th>\n",
       "      <td>126.320000</td>\n",
       "      <td>124.830002</td>\n",
       "      <td>126.169998</td>\n",
       "      <td>125.900002</td>\n",
       "      <td>71057600.0</td>\n",
       "      <td>125.711655</td>\n",
       "    </tr>\n",
       "    <tr>\n",
       "      <th>2021-06-08</th>\n",
       "      <td>128.460007</td>\n",
       "      <td>126.209999</td>\n",
       "      <td>126.599998</td>\n",
       "      <td>126.739998</td>\n",
       "      <td>74403800.0</td>\n",
       "      <td>126.550392</td>\n",
       "    </tr>\n",
       "  </tbody>\n",
       "</table>\n",
       "<p>1152 rows × 6 columns</p>\n",
       "</div>"
      ],
      "text/plain": [
       "                  High         Low        Open       Close       Volume  \\\n",
       "Date                                                                      \n",
       "2016-11-08   27.930000   27.424999   27.577499   27.764999   97016800.0   \n",
       "2016-11-09   27.830000   27.012501   27.469999   27.719999  236705600.0   \n",
       "2016-11-10   27.772499   26.457500   27.772499   26.947500  228538000.0   \n",
       "2016-11-11   27.217501   26.637501   26.780001   27.107500  136575600.0   \n",
       "2016-11-14   26.952499   26.020000   26.927500   26.427500  204702000.0   \n",
       "...                ...         ...         ...         ...          ...   \n",
       "2021-06-02  125.239998  124.050003  124.279999  125.059998   59278900.0   \n",
       "2021-06-03  124.849998  123.129997  124.680000  123.540001   76229200.0   \n",
       "2021-06-04  126.160004  123.849998  124.070000  125.889999   75169300.0   \n",
       "2021-06-07  126.320000  124.830002  126.169998  125.900002   71057600.0   \n",
       "2021-06-08  128.460007  126.209999  126.599998  126.739998   74403800.0   \n",
       "\n",
       "             Adj Close  \n",
       "Date                    \n",
       "2016-11-08   26.172829  \n",
       "2016-11-09   26.130411  \n",
       "2016-11-10   25.402210  \n",
       "2016-11-11   25.553038  \n",
       "2016-11-14   24.912027  \n",
       "...                ...  \n",
       "2021-06-02  124.872902  \n",
       "2021-06-03  123.355186  \n",
       "2021-06-04  125.701668  \n",
       "2021-06-07  125.711655  \n",
       "2021-06-08  126.550392  \n",
       "\n",
       "[1152 rows x 6 columns]"
      ]
     },
     "execution_count": 1,
     "metadata": {},
     "output_type": "execute_result"
    }
   ],
   "source": [
    "import datetime\n",
    "import pandas_datareader as pdr\n",
    "\n",
    "aapl = pdr.get_data_yahoo('AAPL','2016-11-08','2021-06-08')\n",
    "aapl"
   ]
  },
  {
   "cell_type": "code",
   "execution_count": 7,
   "id": "61c0d7cf-1f2d-4f94-afed-e357d98f76f0",
   "metadata": {},
   "outputs": [
    {
     "data": {
      "text/html": [
       "<div>\n",
       "<style scoped>\n",
       "    .dataframe tbody tr th:only-of-type {\n",
       "        vertical-align: middle;\n",
       "    }\n",
       "\n",
       "    .dataframe tbody tr th {\n",
       "        vertical-align: top;\n",
       "    }\n",
       "\n",
       "    .dataframe thead th {\n",
       "        text-align: right;\n",
       "    }\n",
       "</style>\n",
       "<table border=\"1\" class=\"dataframe\">\n",
       "  <thead>\n",
       "    <tr style=\"text-align: right;\">\n",
       "      <th></th>\n",
       "      <th>High</th>\n",
       "      <th>Low</th>\n",
       "      <th>Open</th>\n",
       "      <th>Close</th>\n",
       "      <th>Volume</th>\n",
       "      <th>Adj Close</th>\n",
       "    </tr>\n",
       "    <tr>\n",
       "      <th>Date</th>\n",
       "      <th></th>\n",
       "      <th></th>\n",
       "      <th></th>\n",
       "      <th></th>\n",
       "      <th></th>\n",
       "      <th></th>\n",
       "    </tr>\n",
       "  </thead>\n",
       "  <tbody>\n",
       "    <tr>\n",
       "      <th>2016-11-30</th>\n",
       "      <td>27.720312</td>\n",
       "      <td>27.185625</td>\n",
       "      <td>27.457500</td>\n",
       "      <td>27.516875</td>\n",
       "      <td>1.397670e+08</td>\n",
       "      <td>25.938935</td>\n",
       "    </tr>\n",
       "    <tr>\n",
       "      <th>2016-12-31</th>\n",
       "      <td>28.756309</td>\n",
       "      <td>28.386309</td>\n",
       "      <td>28.498928</td>\n",
       "      <td>28.583929</td>\n",
       "      <td>1.159565e+08</td>\n",
       "      <td>26.944800</td>\n",
       "    </tr>\n",
       "    <tr>\n",
       "      <th>2017-01-31</th>\n",
       "      <td>29.970250</td>\n",
       "      <td>29.696375</td>\n",
       "      <td>29.773375</td>\n",
       "      <td>29.892500</td>\n",
       "      <td>1.126244e+08</td>\n",
       "      <td>28.178332</td>\n",
       "    </tr>\n",
       "    <tr>\n",
       "      <th>2017-02-28</th>\n",
       "      <td>33.540395</td>\n",
       "      <td>33.209210</td>\n",
       "      <td>33.308684</td>\n",
       "      <td>33.428552</td>\n",
       "      <td>1.210460e+08</td>\n",
       "      <td>31.606276</td>\n",
       "    </tr>\n",
       "    <tr>\n",
       "      <th>2017-03-31</th>\n",
       "      <td>35.299457</td>\n",
       "      <td>34.927282</td>\n",
       "      <td>35.090543</td>\n",
       "      <td>35.154457</td>\n",
       "      <td>9.767450e+07</td>\n",
       "      <td>33.282219</td>\n",
       "    </tr>\n",
       "    <tr>\n",
       "      <th>2017-04-30</th>\n",
       "      <td>35.899474</td>\n",
       "      <td>35.581842</td>\n",
       "      <td>35.757500</td>\n",
       "      <td>35.721710</td>\n",
       "      <td>7.859034e+07</td>\n",
       "      <td>33.819264</td>\n",
       "    </tr>\n",
       "    <tr>\n",
       "      <th>2017-05-31</th>\n",
       "      <td>38.265341</td>\n",
       "      <td>37.777159</td>\n",
       "      <td>37.991477</td>\n",
       "      <td>38.056932</td>\n",
       "      <td>1.189058e+08</td>\n",
       "      <td>36.125685</td>\n",
       "    </tr>\n",
       "    <tr>\n",
       "      <th>2017-06-30</th>\n",
       "      <td>37.272159</td>\n",
       "      <td>36.645682</td>\n",
       "      <td>37.053750</td>\n",
       "      <td>36.957840</td>\n",
       "      <td>1.243960e+08</td>\n",
       "      <td>35.133983</td>\n",
       "    </tr>\n",
       "    <tr>\n",
       "      <th>2017-07-31</th>\n",
       "      <td>37.294125</td>\n",
       "      <td>36.776375</td>\n",
       "      <td>37.024125</td>\n",
       "      <td>37.074875</td>\n",
       "      <td>8.440238e+07</td>\n",
       "      <td>35.245243</td>\n",
       "    </tr>\n",
       "    <tr>\n",
       "      <th>2017-08-31</th>\n",
       "      <td>40.037935</td>\n",
       "      <td>39.450870</td>\n",
       "      <td>39.736739</td>\n",
       "      <td>39.755326</td>\n",
       "      <td>1.149685e+08</td>\n",
       "      <td>37.897228</td>\n",
       "    </tr>\n",
       "    <tr>\n",
       "      <th>2017-09-30</th>\n",
       "      <td>39.717375</td>\n",
       "      <td>39.111625</td>\n",
       "      <td>39.527250</td>\n",
       "      <td>39.402125</td>\n",
       "      <td>1.360748e+08</td>\n",
       "      <td>37.604737</td>\n",
       "    </tr>\n",
       "    <tr>\n",
       "      <th>2017-10-31</th>\n",
       "      <td>39.646705</td>\n",
       "      <td>39.167614</td>\n",
       "      <td>39.338977</td>\n",
       "      <td>39.454318</td>\n",
       "      <td>9.168933e+07</td>\n",
       "      <td>37.654551</td>\n",
       "    </tr>\n",
       "    <tr>\n",
       "      <th>2017-11-30</th>\n",
       "      <td>43.357024</td>\n",
       "      <td>42.747738</td>\n",
       "      <td>43.122619</td>\n",
       "      <td>43.101548</td>\n",
       "      <td>1.144121e+08</td>\n",
       "      <td>41.233917</td>\n",
       "    </tr>\n",
       "    <tr>\n",
       "      <th>2017-12-31</th>\n",
       "      <td>43.221375</td>\n",
       "      <td>42.712125</td>\n",
       "      <td>42.930500</td>\n",
       "      <td>42.972875</td>\n",
       "      <td>1.062368e+08</td>\n",
       "      <td>41.160039</td>\n",
       "    </tr>\n",
       "    <tr>\n",
       "      <th>2018-01-31</th>\n",
       "      <td>43.800834</td>\n",
       "      <td>43.204524</td>\n",
       "      <td>43.505357</td>\n",
       "      <td>43.501309</td>\n",
       "      <td>1.256532e+08</td>\n",
       "      <td>41.666180</td>\n",
       "    </tr>\n",
       "    <tr>\n",
       "      <th>2018-02-28</th>\n",
       "      <td>42.471973</td>\n",
       "      <td>41.369869</td>\n",
       "      <td>41.819079</td>\n",
       "      <td>41.909737</td>\n",
       "      <td>1.953462e+08</td>\n",
       "      <td>40.255957</td>\n",
       "    </tr>\n",
       "    <tr>\n",
       "      <th>2018-03-31</th>\n",
       "      <td>44.199881</td>\n",
       "      <td>43.265358</td>\n",
       "      <td>43.761786</td>\n",
       "      <td>43.624048</td>\n",
       "      <td>1.359481e+08</td>\n",
       "      <td>41.954098</td>\n",
       "    </tr>\n",
       "    <tr>\n",
       "      <th>2018-04-30</th>\n",
       "      <td>42.914405</td>\n",
       "      <td>42.073095</td>\n",
       "      <td>42.441310</td>\n",
       "      <td>42.458572</td>\n",
       "      <td>1.268865e+08</td>\n",
       "      <td>40.833238</td>\n",
       "    </tr>\n",
       "    <tr>\n",
       "      <th>2018-05-31</th>\n",
       "      <td>46.617273</td>\n",
       "      <td>45.965568</td>\n",
       "      <td>46.239091</td>\n",
       "      <td>46.384205</td>\n",
       "      <td>1.129048e+08</td>\n",
       "      <td>44.719295</td>\n",
       "    </tr>\n",
       "    <tr>\n",
       "      <th>2018-06-30</th>\n",
       "      <td>47.457976</td>\n",
       "      <td>46.854762</td>\n",
       "      <td>47.180119</td>\n",
       "      <td>47.155357</td>\n",
       "      <td>1.004999e+08</td>\n",
       "      <td>45.525101</td>\n",
       "    </tr>\n",
       "  </tbody>\n",
       "</table>\n",
       "</div>"
      ],
      "text/plain": [
       "                 High        Low       Open      Close        Volume  \\\n",
       "Date                                                                   \n",
       "2016-11-30  27.720312  27.185625  27.457500  27.516875  1.397670e+08   \n",
       "2016-12-31  28.756309  28.386309  28.498928  28.583929  1.159565e+08   \n",
       "2017-01-31  29.970250  29.696375  29.773375  29.892500  1.126244e+08   \n",
       "2017-02-28  33.540395  33.209210  33.308684  33.428552  1.210460e+08   \n",
       "2017-03-31  35.299457  34.927282  35.090543  35.154457  9.767450e+07   \n",
       "2017-04-30  35.899474  35.581842  35.757500  35.721710  7.859034e+07   \n",
       "2017-05-31  38.265341  37.777159  37.991477  38.056932  1.189058e+08   \n",
       "2017-06-30  37.272159  36.645682  37.053750  36.957840  1.243960e+08   \n",
       "2017-07-31  37.294125  36.776375  37.024125  37.074875  8.440238e+07   \n",
       "2017-08-31  40.037935  39.450870  39.736739  39.755326  1.149685e+08   \n",
       "2017-09-30  39.717375  39.111625  39.527250  39.402125  1.360748e+08   \n",
       "2017-10-31  39.646705  39.167614  39.338977  39.454318  9.168933e+07   \n",
       "2017-11-30  43.357024  42.747738  43.122619  43.101548  1.144121e+08   \n",
       "2017-12-31  43.221375  42.712125  42.930500  42.972875  1.062368e+08   \n",
       "2018-01-31  43.800834  43.204524  43.505357  43.501309  1.256532e+08   \n",
       "2018-02-28  42.471973  41.369869  41.819079  41.909737  1.953462e+08   \n",
       "2018-03-31  44.199881  43.265358  43.761786  43.624048  1.359481e+08   \n",
       "2018-04-30  42.914405  42.073095  42.441310  42.458572  1.268865e+08   \n",
       "2018-05-31  46.617273  45.965568  46.239091  46.384205  1.129048e+08   \n",
       "2018-06-30  47.457976  46.854762  47.180119  47.155357  1.004999e+08   \n",
       "\n",
       "            Adj Close  \n",
       "Date                   \n",
       "2016-11-30  25.938935  \n",
       "2016-12-31  26.944800  \n",
       "2017-01-31  28.178332  \n",
       "2017-02-28  31.606276  \n",
       "2017-03-31  33.282219  \n",
       "2017-04-30  33.819264  \n",
       "2017-05-31  36.125685  \n",
       "2017-06-30  35.133983  \n",
       "2017-07-31  35.245243  \n",
       "2017-08-31  37.897228  \n",
       "2017-09-30  37.604737  \n",
       "2017-10-31  37.654551  \n",
       "2017-11-30  41.233917  \n",
       "2017-12-31  41.160039  \n",
       "2018-01-31  41.666180  \n",
       "2018-02-28  40.255957  \n",
       "2018-03-31  41.954098  \n",
       "2018-04-30  40.833238  \n",
       "2018-05-31  44.719295  \n",
       "2018-06-30  45.525101  "
      ]
     },
     "execution_count": 7,
     "metadata": {},
     "output_type": "execute_result"
    }
   ],
   "source": [
    "aapl_monthly = aapl.resample('M').mean()\n",
    "aapl_monthly.head(20)"
   ]
  },
  {
   "cell_type": "code",
   "execution_count": 8,
   "id": "67e2709d-52db-46fe-8945-4249e8717b46",
   "metadata": {},
   "outputs": [
    {
     "data": {
      "text/html": [
       "<div>\n",
       "<style scoped>\n",
       "    .dataframe tbody tr th:only-of-type {\n",
       "        vertical-align: middle;\n",
       "    }\n",
       "\n",
       "    .dataframe tbody tr th {\n",
       "        vertical-align: top;\n",
       "    }\n",
       "\n",
       "    .dataframe thead th {\n",
       "        text-align: right;\n",
       "    }\n",
       "</style>\n",
       "<table border=\"1\" class=\"dataframe\">\n",
       "  <thead>\n",
       "    <tr style=\"text-align: right;\">\n",
       "      <th></th>\n",
       "      <th>High</th>\n",
       "      <th>Low</th>\n",
       "      <th>Open</th>\n",
       "      <th>Close</th>\n",
       "      <th>Volume</th>\n",
       "      <th>Adj Close</th>\n",
       "    </tr>\n",
       "    <tr>\n",
       "      <th>Date</th>\n",
       "      <th></th>\n",
       "      <th></th>\n",
       "      <th></th>\n",
       "      <th></th>\n",
       "      <th></th>\n",
       "      <th></th>\n",
       "    </tr>\n",
       "  </thead>\n",
       "  <tbody>\n",
       "    <tr>\n",
       "      <th>2016-11-30</th>\n",
       "      <td>28.049999</td>\n",
       "      <td>27.567499</td>\n",
       "      <td>27.900000</td>\n",
       "      <td>27.629999</td>\n",
       "      <td>144649200.0</td>\n",
       "      <td>26.045574</td>\n",
       "    </tr>\n",
       "    <tr>\n",
       "      <th>2016-12-31</th>\n",
       "      <td>29.082500</td>\n",
       "      <td>28.690001</td>\n",
       "      <td>28.950001</td>\n",
       "      <td>29.037500</td>\n",
       "      <td>115127600.0</td>\n",
       "      <td>27.372362</td>\n",
       "    </tr>\n",
       "    <tr>\n",
       "      <th>2017-01-31</th>\n",
       "      <td>30.347500</td>\n",
       "      <td>30.155001</td>\n",
       "      <td>30.287500</td>\n",
       "      <td>30.337500</td>\n",
       "      <td>196804000.0</td>\n",
       "      <td>28.597815</td>\n",
       "    </tr>\n",
       "    <tr>\n",
       "      <th>2017-02-28</th>\n",
       "      <td>34.360001</td>\n",
       "      <td>34.174999</td>\n",
       "      <td>34.270000</td>\n",
       "      <td>34.247501</td>\n",
       "      <td>93931600.0</td>\n",
       "      <td>32.423565</td>\n",
       "    </tr>\n",
       "    <tr>\n",
       "      <th>2017-03-31</th>\n",
       "      <td>36.067501</td>\n",
       "      <td>35.752499</td>\n",
       "      <td>35.930000</td>\n",
       "      <td>35.915001</td>\n",
       "      <td>78646800.0</td>\n",
       "      <td>34.002254</td>\n",
       "    </tr>\n",
       "    <tr>\n",
       "      <th>2017-04-30</th>\n",
       "      <td>36.799999</td>\n",
       "      <td>36.240002</td>\n",
       "      <td>36.275002</td>\n",
       "      <td>36.645000</td>\n",
       "      <td>134411600.0</td>\n",
       "      <td>34.693382</td>\n",
       "    </tr>\n",
       "    <tr>\n",
       "      <th>2017-05-31</th>\n",
       "      <td>38.542500</td>\n",
       "      <td>38.095001</td>\n",
       "      <td>38.492500</td>\n",
       "      <td>38.189999</td>\n",
       "      <td>97804800.0</td>\n",
       "      <td>36.305336</td>\n",
       "    </tr>\n",
       "    <tr>\n",
       "      <th>2017-06-30</th>\n",
       "      <td>36.240002</td>\n",
       "      <td>35.945000</td>\n",
       "      <td>36.112499</td>\n",
       "      <td>36.005001</td>\n",
       "      <td>92096400.0</td>\n",
       "      <td>34.228165</td>\n",
       "    </tr>\n",
       "    <tr>\n",
       "      <th>2017-07-31</th>\n",
       "      <td>37.582500</td>\n",
       "      <td>37.032501</td>\n",
       "      <td>37.474998</td>\n",
       "      <td>37.182499</td>\n",
       "      <td>79383600.0</td>\n",
       "      <td>35.347557</td>\n",
       "    </tr>\n",
       "    <tr>\n",
       "      <th>2017-08-31</th>\n",
       "      <td>41.130001</td>\n",
       "      <td>40.869999</td>\n",
       "      <td>40.910000</td>\n",
       "      <td>41.000000</td>\n",
       "      <td>107140400.0</td>\n",
       "      <td>39.129723</td>\n",
       "    </tr>\n",
       "    <tr>\n",
       "      <th>2017-09-30</th>\n",
       "      <td>38.612499</td>\n",
       "      <td>38.180000</td>\n",
       "      <td>38.564999</td>\n",
       "      <td>38.452499</td>\n",
       "      <td>74795200.0</td>\n",
       "      <td>36.698429</td>\n",
       "    </tr>\n",
       "    <tr>\n",
       "      <th>2017-10-31</th>\n",
       "      <td>42.412498</td>\n",
       "      <td>41.735001</td>\n",
       "      <td>41.974998</td>\n",
       "      <td>42.259998</td>\n",
       "      <td>144187200.0</td>\n",
       "      <td>40.332249</td>\n",
       "    </tr>\n",
       "    <tr>\n",
       "      <th>2017-11-30</th>\n",
       "      <td>43.035000</td>\n",
       "      <td>42.110001</td>\n",
       "      <td>42.607498</td>\n",
       "      <td>42.962502</td>\n",
       "      <td>166108800.0</td>\n",
       "      <td>41.150101</td>\n",
       "    </tr>\n",
       "    <tr>\n",
       "      <th>2017-12-31</th>\n",
       "      <td>43.075001</td>\n",
       "      <td>42.314999</td>\n",
       "      <td>42.540001</td>\n",
       "      <td>43.064999</td>\n",
       "      <td>102223600.0</td>\n",
       "      <td>41.248272</td>\n",
       "    </tr>\n",
       "    <tr>\n",
       "      <th>2018-01-31</th>\n",
       "      <td>42.110001</td>\n",
       "      <td>41.625000</td>\n",
       "      <td>41.717499</td>\n",
       "      <td>41.857498</td>\n",
       "      <td>129915600.0</td>\n",
       "      <td>40.091717</td>\n",
       "    </tr>\n",
       "    <tr>\n",
       "      <th>2018-02-28</th>\n",
       "      <td>45.154999</td>\n",
       "      <td>44.512501</td>\n",
       "      <td>44.814999</td>\n",
       "      <td>44.529999</td>\n",
       "      <td>151128400.0</td>\n",
       "      <td>42.825367</td>\n",
       "    </tr>\n",
       "    <tr>\n",
       "      <th>2018-03-31</th>\n",
       "      <td>42.235001</td>\n",
       "      <td>41.117500</td>\n",
       "      <td>41.660000</td>\n",
       "      <td>41.669998</td>\n",
       "      <td>150347200.0</td>\n",
       "      <td>40.074856</td>\n",
       "    </tr>\n",
       "    <tr>\n",
       "      <th>2018-04-30</th>\n",
       "      <td>41.814999</td>\n",
       "      <td>40.459999</td>\n",
       "      <td>40.532501</td>\n",
       "      <td>41.314999</td>\n",
       "      <td>169709600.0</td>\n",
       "      <td>39.733440</td>\n",
       "    </tr>\n",
       "    <tr>\n",
       "      <th>2018-05-31</th>\n",
       "      <td>47.057499</td>\n",
       "      <td>46.535000</td>\n",
       "      <td>46.805000</td>\n",
       "      <td>46.717499</td>\n",
       "      <td>109931200.0</td>\n",
       "      <td>45.102379</td>\n",
       "    </tr>\n",
       "    <tr>\n",
       "      <th>2018-06-30</th>\n",
       "      <td>46.825001</td>\n",
       "      <td>45.855000</td>\n",
       "      <td>45.955002</td>\n",
       "      <td>46.794998</td>\n",
       "      <td>70925200.0</td>\n",
       "      <td>45.177208</td>\n",
       "    </tr>\n",
       "  </tbody>\n",
       "</table>\n",
       "</div>"
      ],
      "text/plain": [
       "                 High        Low       Open      Close       Volume  Adj Close\n",
       "Date                                                                          \n",
       "2016-11-30  28.049999  27.567499  27.900000  27.629999  144649200.0  26.045574\n",
       "2016-12-31  29.082500  28.690001  28.950001  29.037500  115127600.0  27.372362\n",
       "2017-01-31  30.347500  30.155001  30.287500  30.337500  196804000.0  28.597815\n",
       "2017-02-28  34.360001  34.174999  34.270000  34.247501   93931600.0  32.423565\n",
       "2017-03-31  36.067501  35.752499  35.930000  35.915001   78646800.0  34.002254\n",
       "2017-04-30  36.799999  36.240002  36.275002  36.645000  134411600.0  34.693382\n",
       "2017-05-31  38.542500  38.095001  38.492500  38.189999   97804800.0  36.305336\n",
       "2017-06-30  36.240002  35.945000  36.112499  36.005001   92096400.0  34.228165\n",
       "2017-07-31  37.582500  37.032501  37.474998  37.182499   79383600.0  35.347557\n",
       "2017-08-31  41.130001  40.869999  40.910000  41.000000  107140400.0  39.129723\n",
       "2017-09-30  38.612499  38.180000  38.564999  38.452499   74795200.0  36.698429\n",
       "2017-10-31  42.412498  41.735001  41.974998  42.259998  144187200.0  40.332249\n",
       "2017-11-30  43.035000  42.110001  42.607498  42.962502  166108800.0  41.150101\n",
       "2017-12-31  43.075001  42.314999  42.540001  43.064999  102223600.0  41.248272\n",
       "2018-01-31  42.110001  41.625000  41.717499  41.857498  129915600.0  40.091717\n",
       "2018-02-28  45.154999  44.512501  44.814999  44.529999  151128400.0  42.825367\n",
       "2018-03-31  42.235001  41.117500  41.660000  41.669998  150347200.0  40.074856\n",
       "2018-04-30  41.814999  40.459999  40.532501  41.314999  169709600.0  39.733440\n",
       "2018-05-31  47.057499  46.535000  46.805000  46.717499  109931200.0  45.102379\n",
       "2018-06-30  46.825001  45.855000  45.955002  46.794998   70925200.0  45.177208"
      ]
     },
     "execution_count": 8,
     "metadata": {},
     "output_type": "execute_result"
    }
   ],
   "source": [
    "aapl_monthly1 = aapl.asfreq('M',method = 'bfill')\n",
    "aapl_monthly1.head(20)"
   ]
  },
  {
   "cell_type": "code",
   "execution_count": null,
   "id": "7d628d31-a2af-45a2-b5cf-5f8cbdd5075b",
   "metadata": {},
   "outputs": [],
   "source": []
  },
  {
   "cell_type": "code",
   "execution_count": null,
   "id": "4d101778-9c4a-4997-a1cb-5c271f58432c",
   "metadata": {},
   "outputs": [],
   "source": []
  },
  {
   "cell_type": "code",
   "execution_count": null,
   "id": "42392134-aa69-43ad-91db-921d7aa9a7bb",
   "metadata": {},
   "outputs": [],
   "source": []
  },
  {
   "cell_type": "code",
   "execution_count": 24,
   "id": "2ff51bcd-14c9-41a7-8a12-fbbbdaed0b55",
   "metadata": {},
   "outputs": [
    {
     "ename": "TypeError",
     "evalue": "distance_to_origin() takes 1 positional argument but 3 were given",
     "output_type": "error",
     "traceback": [
      "\u001b[0;31m---------------------------------------------------------------------------\u001b[0m",
      "\u001b[0;31mTypeError\u001b[0m                                 Traceback (most recent call last)",
      "\u001b[0;32m/tmp/ipykernel_3811/3964742818.py\u001b[0m in \u001b[0;36m<module>\u001b[0;34m\u001b[0m\n\u001b[1;32m      9\u001b[0m \u001b[0;34m\u001b[0m\u001b[0m\n\u001b[1;32m     10\u001b[0m \u001b[0mpo\u001b[0m \u001b[0;34m=\u001b[0m \u001b[0mPoint\u001b[0m\u001b[0;34m(\u001b[0m\u001b[0;34m)\u001b[0m\u001b[0;34m\u001b[0m\u001b[0;34m\u001b[0m\u001b[0m\n\u001b[0;32m---> 11\u001b[0;31m \u001b[0mpo\u001b[0m\u001b[0;34m.\u001b[0m\u001b[0mdistance_to_origin\u001b[0m\u001b[0;34m(\u001b[0m\u001b[0;36m3\u001b[0m\u001b[0;34m,\u001b[0m\u001b[0;36m4\u001b[0m\u001b[0;34m)\u001b[0m\u001b[0;34m\u001b[0m\u001b[0;34m\u001b[0m\u001b[0m\n\u001b[0m",
      "\u001b[0;31mTypeError\u001b[0m: distance_to_origin() takes 1 positional argument but 3 were given"
     ]
    }
   ],
   "source": [
    "# Write the class Point as outlined in the instructions\n",
    "class Point():\n",
    "    def __init__(self,x= 0.0,y= 0.0):\n",
    "        self.x = x\n",
    "        self.y = y\n",
    "\n",
    "    def distance_to_origin(self):\n",
    "        return math.sqrt((self.x)**2+(self.y)**2)\n",
    "\n",
    "po = Point()\n",
    "po.distance_to_origin(3,4)"
   ]
  },
  {
   "cell_type": "code",
   "execution_count": 15,
   "id": "f7c220df-f39c-4fd1-a143-db1008169630",
   "metadata": {},
   "outputs": [
    {
     "data": {
      "text/plain": [
       "7"
      ]
     },
     "execution_count": 15,
     "metadata": {},
     "output_type": "execute_result"
    }
   ],
   "source": [
    "3^2+4^2"
   ]
  },
  {
   "cell_type": "code",
   "execution_count": 16,
   "id": "755326d1-abce-4b51-8481-8dcfe38d2e5b",
   "metadata": {},
   "outputs": [
    {
     "data": {
      "text/plain": [
       "17"
      ]
     },
     "execution_count": 16,
     "metadata": {},
     "output_type": "execute_result"
    }
   ],
   "source": [
    "3**2+4*2"
   ]
  },
  {
   "cell_type": "code",
   "execution_count": 26,
   "id": "a3b8db7d-f95c-47f3-97a1-56555af227e7",
   "metadata": {},
   "outputs": [
    {
     "name": "stdout",
     "output_type": "stream",
     "text": [
      "5.0\n"
     ]
    }
   ],
   "source": [
    "import math\n",
    "\n",
    "p = 3**2+4**2\n",
    "print(math.sqrt(p))"
   ]
  },
  {
   "cell_type": "code",
   "execution_count": 28,
   "id": "f5b2f9e7-a40f-4551-b403-e0a2dd99a593",
   "metadata": {},
   "outputs": [
    {
     "data": {
      "text/plain": [
       "5.0"
      ]
     },
     "execution_count": 28,
     "metadata": {},
     "output_type": "execute_result"
    }
   ],
   "source": [
    "import math\n",
    "\n",
    "math.sqrt(3**2+4**2)"
   ]
  },
  {
   "cell_type": "code",
   "execution_count": 86,
   "id": "52234e51-e71b-413e-b50e-de0249e993f2",
   "metadata": {},
   "outputs": [
    {
     "name": "stdout",
     "output_type": "stream",
     "text": [
      "(-3.0, 0.0)\n",
      "5.0\n"
     ]
    }
   ],
   "source": [
    "# Write the class Point as outlined in the instructions\n",
    "#import math\n",
    "class Point():\n",
    "    import math\n",
    "\n",
    "    def __init__(self,x= 0.0,y= 0.0):\n",
    "        self.x = x\n",
    "        self.y = y\n",
    "\n",
    "    def distance_to_origin(self):\n",
    "        #import math\n",
    "        #return self.math.sqrt((self.x)**2+(self.y)**2)\n",
    "        return Point.math.sqrt((self.x)**2 + (self.y)**2)\n",
    "\n",
    "    def reflect(self,axis):\n",
    "        if axis == 'x':\n",
    "            self.y = - self.y\n",
    "        elif axis == 'y':\n",
    "            self.x = -self.x\n",
    "\n",
    "pt = Point(x=3.0)\n",
    "pt.reflect('y')\n",
    "print((pt.x,pt.y))\n",
    "pt.y =4.0\n",
    "print(pt.distance_to_origin())"
   ]
  },
  {
   "cell_type": "code",
   "execution_count": null,
   "id": "9c347b4c-4c63-482b-8148-754e2634baed",
   "metadata": {},
   "outputs": [],
   "source": []
  },
  {
   "cell_type": "code",
   "execution_count": null,
   "id": "8d3dea33-459a-4816-99a8-05d0331d9b62",
   "metadata": {},
   "outputs": [],
   "source": []
  },
  {
   "cell_type": "code",
   "execution_count": null,
   "id": "282a875d-0281-4ff6-8920-2b1378470661",
   "metadata": {},
   "outputs": [],
   "source": []
  },
  {
   "cell_type": "code",
   "execution_count": 54,
   "id": "5da4630c-28f0-4094-8379-df7216079a34",
   "metadata": {},
   "outputs": [
    {
     "data": {
      "text/plain": [
       "3"
      ]
     },
     "execution_count": 54,
     "metadata": {},
     "output_type": "execute_result"
    }
   ],
   "source": [
    "d = {\n",
    "    'one': 1,\n",
    "    'two': 2,\n",
    "    'three': 3,\n",
    "    'four': 4\n",
    "}\n",
    "\n",
    "d.get('three')  '''*************************'''"
   ]
  },
  {
   "cell_type": "code",
   "execution_count": 55,
   "id": "bf800112-550f-4404-957d-5cd41182533e",
   "metadata": {},
   "outputs": [
    {
     "data": {
      "text/plain": [
       "{0: 0, 1: 10, 2: 20, 3: 30, 4: 40}"
      ]
     },
     "execution_count": 55,
     "metadata": {},
     "output_type": "execute_result"
    }
   ],
   "source": [
    "dict_gen = {num:num*10  for num in range(5) }\n",
    "\n",
    "dict_gen"
   ]
  },
  {
   "cell_type": "code",
   "execution_count": 40,
   "id": "4096d830-5500-429a-bdb6-e049624080e7",
   "metadata": {},
   "outputs": [
    {
     "data": {
      "text/plain": [
       "3"
      ]
     },
     "execution_count": 40,
     "metadata": {},
     "output_type": "execute_result"
    }
   ],
   "source": [
    "def return_sum(x = 1, y = 2):\n",
    "    return x + y\n",
    "\n",
    "return_sum()"
   ]
  },
  {
   "cell_type": "code",
   "execution_count": 10,
   "id": "6ec7f6f0-b6a5-46be-aff9-a6146d5c9d48",
   "metadata": {},
   "outputs": [
    {
     "data": {
      "text/plain": [
       "['HELLO', 'WORLD']"
      ]
     },
     "execution_count": 10,
     "metadata": {},
     "output_type": "execute_result"
    }
   ],
   "source": [
    "[i.upper() for i in['hello', 'world']]\n",
    "\n",
    "'''*****************************************************'''"
   ]
  },
  {
   "cell_type": "code",
   "execution_count": 11,
   "id": "d9389c55-17f6-4baf-bed2-410e70a8d645",
   "metadata": {},
   "outputs": [
    {
     "ename": "AttributeError",
     "evalue": "'set' object has no attribute 'append'",
     "output_type": "error",
     "traceback": [
      "\u001b[0;31m---------------------------------------------------------------------------\u001b[0m",
      "\u001b[0;31mAttributeError\u001b[0m                            Traceback (most recent call last)",
      "\u001b[0;32m/tmp/ipykernel_2219/2336994364.py\u001b[0m in \u001b[0;36m<module>\u001b[0;34m\u001b[0m\n\u001b[1;32m      2\u001b[0m \u001b[0mb\u001b[0m \u001b[0;34m=\u001b[0m \u001b[0;34m{\u001b[0m\u001b[0;36m4\u001b[0m\u001b[0;34m,\u001b[0m \u001b[0;36m5\u001b[0m\u001b[0;34m,\u001b[0m \u001b[0;36m6\u001b[0m\u001b[0;34m}\u001b[0m\u001b[0;34m\u001b[0m\u001b[0;34m\u001b[0m\u001b[0m\n\u001b[1;32m      3\u001b[0m \u001b[0;34m\u001b[0m\u001b[0m\n\u001b[0;32m----> 4\u001b[0;31m \u001b[0ma\u001b[0m\u001b[0;34m.\u001b[0m\u001b[0mappend\u001b[0m\u001b[0;34m(\u001b[0m\u001b[0mb\u001b[0m\u001b[0;34m)\u001b[0m\u001b[0;34m\u001b[0m\u001b[0;34m\u001b[0m\u001b[0m\n\u001b[0m",
      "\u001b[0;31mAttributeError\u001b[0m: 'set' object has no attribute 'append'"
     ]
    }
   ],
   "source": [
    "a = {1, 2, 3}\n",
    "b = {4, 5, 6}\n",
    "\n",
    "a.append(b)"
   ]
  },
  {
   "cell_type": "code",
   "execution_count": 14,
   "id": "e308d13a-62a1-42a7-8e5a-859009f5b05d",
   "metadata": {},
   "outputs": [
    {
     "ename": "TypeError",
     "evalue": "unhashable type: 'set'",
     "output_type": "error",
     "traceback": [
      "\u001b[0;31m---------------------------------------------------------------------------\u001b[0m",
      "\u001b[0;31mTypeError\u001b[0m                                 Traceback (most recent call last)",
      "\u001b[0;32m/tmp/ipykernel_2219/440161623.py\u001b[0m in \u001b[0;36m<module>\u001b[0;34m\u001b[0m\n\u001b[1;32m      2\u001b[0m \u001b[0mb\u001b[0m \u001b[0;34m=\u001b[0m \u001b[0;34m{\u001b[0m\u001b[0;36m4\u001b[0m\u001b[0;34m,\u001b[0m \u001b[0;36m5\u001b[0m\u001b[0;34m,\u001b[0m \u001b[0;36m6\u001b[0m\u001b[0;34m}\u001b[0m\u001b[0;34m\u001b[0m\u001b[0;34m\u001b[0m\u001b[0m\n\u001b[1;32m      3\u001b[0m \u001b[0;34m\u001b[0m\u001b[0m\n\u001b[0;32m----> 4\u001b[0;31m \u001b[0ma\u001b[0m\u001b[0;34m.\u001b[0m\u001b[0madd\u001b[0m\u001b[0;34m(\u001b[0m\u001b[0mb\u001b[0m\u001b[0;34m)\u001b[0m\u001b[0;34m\u001b[0m\u001b[0;34m\u001b[0m\u001b[0m\n\u001b[0m",
      "\u001b[0;31mTypeError\u001b[0m: unhashable type: 'set'"
     ]
    }
   ],
   "source": [
    "a = {1, 2, 3}\n",
    "b = {4, 5, 6}\n",
    "\n",
    "a.add(b)"
   ]
  },
  {
   "cell_type": "code",
   "execution_count": 18,
   "id": "36c1ec6d-3abc-4b0f-8b4c-9cbe44853c5d",
   "metadata": {},
   "outputs": [
    {
     "name": "stdout",
     "output_type": "stream",
     "text": [
      "None\n"
     ]
    }
   ],
   "source": [
    "a = {1, 2, 3}\n",
    "b = {4, 5, 6}\n",
    "\n",
    "f = a.update(b)\n",
    "print(f)"
   ]
  },
  {
   "cell_type": "code",
   "execution_count": 49,
   "id": "168233f1-c840-4f8a-aec0-460d32af8611",
   "metadata": {},
   "outputs": [
    {
     "name": "stdout",
     "output_type": "stream",
     "text": [
      "{1, 2, 3, 4, 5, 6}\n"
     ]
    }
   ],
   "source": [
    "a = {1, 2, 3}\n",
    "b = {4, 5, 6}\n",
    "\n",
    "f = a.union(b)\n",
    "print(f)\n",
    "\n",
    "#******************************************"
   ]
  },
  {
   "cell_type": "code",
   "execution_count": 47,
   "id": "e2b5ea54-de0e-4481-856c-952482531cac",
   "metadata": {},
   "outputs": [
    {
     "name": "stdout",
     "output_type": "stream",
     "text": [
      "{'apple', 'mango', 'banana', 'papaya', 'pineapple', 'cherry'}\n",
      "{'mango', 'apple', 'banana', 'papaya', 'pineapple', 'cherry'}\n",
      "{'apple', 'mango', 'banana', 'papaya', 'pineapple', 'cherry'}\n"
     ]
    },
    {
     "ename": "TypeError",
     "evalue": "'set' object is not subscriptable",
     "output_type": "error",
     "traceback": [
      "\u001b[0;31m---------------------------------------------------------------------------\u001b[0m",
      "\u001b[0;31mTypeError\u001b[0m                                 Traceback (most recent call last)",
      "\u001b[0;32m/tmp/ipykernel_2219/3566933903.py\u001b[0m in \u001b[0;36m<module>\u001b[0;34m\u001b[0m\n\u001b[1;32m     11\u001b[0m \u001b[0mprint\u001b[0m\u001b[0;34m(\u001b[0m\u001b[0mthisset\u001b[0m\u001b[0;34m)\u001b[0m\u001b[0;34m\u001b[0m\u001b[0;34m\u001b[0m\u001b[0m\n\u001b[1;32m     12\u001b[0m \u001b[0;34m\u001b[0m\u001b[0m\n\u001b[0;32m---> 13\u001b[0;31m \u001b[0mprint\u001b[0m\u001b[0;34m(\u001b[0m\u001b[0mthisset\u001b[0m\u001b[0;34m[\u001b[0m\u001b[0;36m0\u001b[0m\u001b[0;34m]\u001b[0m\u001b[0;34m)\u001b[0m\u001b[0;34m\u001b[0m\u001b[0;34m\u001b[0m\u001b[0m\n\u001b[0m",
      "\u001b[0;31mTypeError\u001b[0m: 'set' object is not subscriptable"
     ]
    }
   ],
   "source": [
    "thisset = {'apple', 'banana', 'cherry'}\n",
    "tropical = {'pineapple', 'mango', 'papaya'}\n",
    "\n",
    "thisset.update(tropical)\n",
    "print(thisset) \n",
    "\n",
    "i = thisset.union(tropical)\n",
    "print(i)\n",
    "\n",
    "tropical |= thisset\n",
    "print(thisset)\n",
    "\n",
    "print(thisset[0])"
   ]
  },
  {
   "cell_type": "code",
   "execution_count": 40,
   "id": "2660ad09-a5ff-4f1b-9695-1ce5470f371b",
   "metadata": {},
   "outputs": [
    {
     "ename": "SyntaxError",
     "evalue": "invalid syntax (2443022367.py, line 4)",
     "output_type": "error",
     "traceback": [
      "\u001b[0;36m  File \u001b[0;32m\"/tmp/ipykernel_2219/2443022367.py\"\u001b[0;36m, line \u001b[0;32m4\u001b[0m\n\u001b[0;31m    f = thisset.add.i, for i in(tropical)\u001b[0m\n\u001b[0m                       ^\u001b[0m\n\u001b[0;31mSyntaxError\u001b[0m\u001b[0;31m:\u001b[0m invalid syntax\n"
     ]
    }
   ],
   "source": [
    "thisset = {'apple', 'banana', 'cherry'}\n",
    "tropical = {'pineapple', 'mango', 'papaya'}\n",
    "\n",
    "f = thisset.add.i, for i in(tropical)\n",
    "\n",
    "print(f) "
   ]
  },
  {
   "cell_type": "code",
   "execution_count": 36,
   "id": "10494152-6e68-4b41-9e6c-106592bfaef2",
   "metadata": {},
   "outputs": [
    {
     "data": {
      "text/plain": [
       "('Earth', 12742)"
      ]
     },
     "execution_count": 36,
     "metadata": {},
     "output_type": "execute_result"
    }
   ],
   "source": [
    "class Planet:\n",
    "    def __init__(self, name, diameter_km):\n",
    "        self.name = name\n",
    "        self.diameter_km = diameter_km\n",
    "    \n",
    "e = Planet('Earth',12742)\n",
    "e.name, e.diameter_km"
   ]
  },
  {
   "cell_type": "code",
   "execution_count": 73,
   "id": "de740126-c6e1-45df-8d6c-dc4358f657e6",
   "metadata": {},
   "outputs": [
    {
     "name": "stdout",
     "output_type": "stream",
     "text": [
      "153\n"
     ]
    }
   ],
   "source": [
    "def add_many(args):\n",
    "    s = 0\n",
    "    for n in args:\n",
    "        s += n\n",
    "    print(s)\n",
    "    \n",
    "add_many((100,50,3))"
   ]
  },
  {
   "cell_type": "code",
   "execution_count": 75,
   "id": "412cf130-d011-4513-aab3-f5ac380b6ef1",
   "metadata": {},
   "outputs": [
    {
     "data": {
      "text/plain": [
       "{1, 2, 3}"
      ]
     },
     "execution_count": 75,
     "metadata": {},
     "output_type": "execute_result"
    }
   ],
   "source": [
    "x = (1,2,3)\n",
    "set(x)"
   ]
  },
  {
   "cell_type": "code",
   "execution_count": 79,
   "id": "a43847fc-02e6-439e-942d-4d064c7611f6",
   "metadata": {},
   "outputs": [
    {
     "name": "stdout",
     "output_type": "stream",
     "text": [
      "that value cant be turned into an integer\n"
     ]
    },
    {
     "data": {
      "text/plain": [
       "12"
      ]
     },
     "execution_count": 79,
     "metadata": {},
     "output_type": "execute_result"
    }
   ],
   "source": [
    "def to_int(x):\n",
    "    try:\n",
    "        return int(x)\n",
    "    except ValueError:\n",
    "        print('that value cant be turned into an integer')\n",
    "\n",
    "to_int(\"\")\n",
    "to_int(12)"
   ]
  },
  {
   "cell_type": "code",
   "execution_count": 81,
   "id": "23a6bc8d-01b8-48f2-b71b-9acdd63b1abd",
   "metadata": {},
   "outputs": [
    {
     "data": {
      "text/plain": [
       "24"
      ]
     },
     "execution_count": 81,
     "metadata": {},
     "output_type": "execute_result"
    }
   ],
   "source": [
    "def factorial(n):\n",
    "    '''return n!'''\n",
    "    return 1 if n< 2 else n*factorial(n-1)\n",
    "\n",
    "factorial(4)"
   ]
  },
  {
   "cell_type": "code",
   "execution_count": 82,
   "id": "8b9fd20e-6760-4f46-be34-0713793a6e20",
   "metadata": {},
   "outputs": [
    {
     "data": {
      "text/plain": [
       "'/home/jhu/.virtual_environments'"
      ]
     },
     "execution_count": 82,
     "metadata": {},
     "output_type": "execute_result"
    }
   ],
   "source": [
    "pwd"
   ]
  },
  {
   "cell_type": "code",
   "execution_count": 84,
   "id": "fbefad81-07bd-4688-9819-a2ebdfd1ccd2",
   "metadata": {},
   "outputs": [
    {
     "name": "stdout",
     "output_type": "stream",
     "text": [
      "True\n"
     ]
    }
   ],
   "source": [
    "with open ('hello.txt', 'w') as file:\n",
    "    file.write('hello, john hhu')\n",
    "    \n",
    "print(file.closed)\n"
   ]
  },
  {
   "cell_type": "code",
   "execution_count": 94,
   "id": "0ce1f178-19dc-4118-9b85-f429931b9bf0",
   "metadata": {},
   "outputs": [
    {
     "data": {
      "text/plain": [
       "[0.7997059176124843,\n",
       " 0.5198341604444204,\n",
       " 0.5174099571573066,\n",
       " 0.9777635754012898,\n",
       " 0.8314183261660627,\n",
       " 0.3957877912571517]"
      ]
     },
     "execution_count": 94,
     "metadata": {},
     "output_type": "execute_result"
    }
   ],
   "source": [
    "def sample(n):\n",
    "    import random as random\n",
    "    \n",
    "    x = []\n",
    "    for i in range(n):\n",
    "        x.append(random.random())\n",
    "    return x\n",
    "\n",
    "sample(6)"
   ]
  },
  {
   "cell_type": "code",
   "execution_count": 95,
   "id": "33a3ea86-1120-4213-bb19-be5e3b16efe6",
   "metadata": {},
   "outputs": [
    {
     "data": {
      "text/plain": [
       "[0.40033313388255576,\n",
       " 0.16787660972599805,\n",
       " 0.7119073607680337,\n",
       " 0.28876185923082176,\n",
       " 0.7201267791696299,\n",
       " 0.3701865129781474]"
      ]
     },
     "execution_count": 95,
     "metadata": {},
     "output_type": "execute_result"
    }
   ],
   "source": [
    "def efficient_sample(n):\n",
    "    import random as random\n",
    "    \n",
    "    x = [random.random() for i in range(n)]\n",
    "    return x\n",
    "\n",
    "efficient_sample(6)"
   ]
  },
  {
   "cell_type": "code",
   "execution_count": 58,
   "id": "154930e0-c087-47c4-a14d-6c4b40ea53fb",
   "metadata": {},
   "outputs": [
    {
     "name": "stderr",
     "output_type": "stream",
     "text": [
      "<>:3: SyntaxWarning: 'list' object is not callable; perhaps you missed a comma?\n",
      "<>:3: SyntaxWarning: 'list' object is not callable; perhaps you missed a comma?\n",
      "/tmp/ipykernel_3811/2841676018.py:3: SyntaxWarning: 'list' object is not callable; perhaps you missed a comma?\n",
      "  lst_iterator =   [0](lst)\n"
     ]
    },
    {
     "ename": "TypeError",
     "evalue": "'list' object is not callable",
     "output_type": "error",
     "traceback": [
      "\u001b[0;31m---------------------------------------------------------------------------\u001b[0m",
      "\u001b[0;31mTypeError\u001b[0m                                 Traceback (most recent call last)",
      "\u001b[0;32m/tmp/ipykernel_3811/2841676018.py\u001b[0m in \u001b[0;36m<module>\u001b[0;34m\u001b[0m\n\u001b[1;32m      1\u001b[0m \u001b[0mlst\u001b[0m \u001b[0;34m=\u001b[0m \u001b[0;34m[\u001b[0m\u001b[0;36m1\u001b[0m\u001b[0;34m,\u001b[0m \u001b[0;36m2\u001b[0m\u001b[0;34m,\u001b[0m \u001b[0;36m3\u001b[0m\u001b[0;34m,\u001b[0m \u001b[0;36m4\u001b[0m\u001b[0;34m]\u001b[0m\u001b[0;34m\u001b[0m\u001b[0;34m\u001b[0m\u001b[0m\n\u001b[1;32m      2\u001b[0m \u001b[0;34m\u001b[0m\u001b[0m\n\u001b[0;32m----> 3\u001b[0;31m \u001b[0mlst_iterator\u001b[0m \u001b[0;34m=\u001b[0m   \u001b[0;34m[\u001b[0m\u001b[0;36m0\u001b[0m\u001b[0;34m]\u001b[0m\u001b[0;34m(\u001b[0m\u001b[0mlst\u001b[0m\u001b[0;34m)\u001b[0m\u001b[0;34m\u001b[0m\u001b[0;34m\u001b[0m\u001b[0m\n\u001b[0m\u001b[1;32m      4\u001b[0m \u001b[0;34m\u001b[0m\u001b[0m\n\u001b[1;32m      5\u001b[0m \u001b[0mnext\u001b[0m\u001b[0;34m(\u001b[0m\u001b[0mlst_iterator\u001b[0m\u001b[0;34m)\u001b[0m\u001b[0;34m\u001b[0m\u001b[0;34m\u001b[0m\u001b[0m\n",
      "\u001b[0;31mTypeError\u001b[0m: 'list' object is not callable"
     ]
    }
   ],
   "source": [
    "lst = [1, 2, 3, 4]\n",
    "\n",
    "lst_iterator =   [0](lst)\n",
    "\n",
    "next(lst_iterator)"
   ]
  },
  {
   "cell_type": "code",
   "execution_count": null,
   "id": "a252599b-6b0d-44a4-a082-8ae5f9d4d883",
   "metadata": {},
   "outputs": [],
   "source": []
  },
  {
   "cell_type": "code",
   "execution_count": 7,
   "id": "18f4cb44-936b-497b-985e-80191686e980",
   "metadata": {},
   "outputs": [
    {
     "name": "stdout",
     "output_type": "stream",
     "text": [
      "Object `complex()` not found.\n"
     ]
    }
   ],
   "source": [
    "?complex()"
   ]
  },
  {
   "cell_type": "code",
   "execution_count": 8,
   "id": "57a637a3-3bd9-4ee3-90ca-a173e30edab1",
   "metadata": {},
   "outputs": [
    {
     "data": {
      "text/plain": [
       "\u001b[0;31mInit signature:\u001b[0m \u001b[0mcomplex\u001b[0m\u001b[0;34m(\u001b[0m\u001b[0mreal\u001b[0m\u001b[0;34m=\u001b[0m\u001b[0;36m0\u001b[0m\u001b[0;34m,\u001b[0m \u001b[0mimag\u001b[0m\u001b[0;34m=\u001b[0m\u001b[0;36m0\u001b[0m\u001b[0;34m)\u001b[0m\u001b[0;34m\u001b[0m\u001b[0;34m\u001b[0m\u001b[0m\n",
       "\u001b[0;31mDocstring:\u001b[0m     \n",
       "Create a complex number from a real part and an optional imaginary part.\n",
       "\n",
       "This is equivalent to (real + imag*1j) where imag defaults to 0.\n",
       "\u001b[0;31mType:\u001b[0m           type\n",
       "\u001b[0;31mSubclasses:\u001b[0m     \n"
      ]
     },
     "metadata": {},
     "output_type": "display_data"
    }
   ],
   "source": [
    "?complex"
   ]
  },
  {
   "cell_type": "code",
   "execution_count": 6,
   "id": "2f5c4faf-f46a-45b3-ae31-e5c2ad2e0832",
   "metadata": {},
   "outputs": [
    {
     "name": "stdout",
     "output_type": "stream",
     "text": [
      "Help on class complex in module builtins:\n",
      "\n",
      "class complex(object)\n",
      " |  complex(real=0, imag=0)\n",
      " |  \n",
      " |  Create a complex number from a real part and an optional imaginary part.\n",
      " |  \n",
      " |  This is equivalent to (real + imag*1j) where imag defaults to 0.\n",
      " |  \n",
      " |  Methods defined here:\n",
      " |  \n",
      " |  __abs__(self, /)\n",
      " |      abs(self)\n",
      " |  \n",
      " |  __add__(self, value, /)\n",
      " |      Return self+value.\n",
      " |  \n",
      " |  __bool__(self, /)\n",
      " |      self != 0\n",
      " |  \n",
      " |  __divmod__(self, value, /)\n",
      " |      Return divmod(self, value).\n",
      " |  \n",
      " |  __eq__(self, value, /)\n",
      " |      Return self==value.\n",
      " |  \n",
      " |  __float__(self, /)\n",
      " |      float(self)\n",
      " |  \n",
      " |  __floordiv__(self, value, /)\n",
      " |      Return self//value.\n",
      " |  \n",
      " |  __format__(...)\n",
      " |      complex.__format__() -> str\n",
      " |      \n",
      " |      Convert to a string according to format_spec.\n",
      " |  \n",
      " |  __ge__(self, value, /)\n",
      " |      Return self>=value.\n",
      " |  \n",
      " |  __getattribute__(self, name, /)\n",
      " |      Return getattr(self, name).\n",
      " |  \n",
      " |  __getnewargs__(...)\n",
      " |  \n",
      " |  __gt__(self, value, /)\n",
      " |      Return self>value.\n",
      " |  \n",
      " |  __hash__(self, /)\n",
      " |      Return hash(self).\n",
      " |  \n",
      " |  __int__(self, /)\n",
      " |      int(self)\n",
      " |  \n",
      " |  __le__(self, value, /)\n",
      " |      Return self<=value.\n",
      " |  \n",
      " |  __lt__(self, value, /)\n",
      " |      Return self<value.\n",
      " |  \n",
      " |  __mod__(self, value, /)\n",
      " |      Return self%value.\n",
      " |  \n",
      " |  __mul__(self, value, /)\n",
      " |      Return self*value.\n",
      " |  \n",
      " |  __ne__(self, value, /)\n",
      " |      Return self!=value.\n",
      " |  \n",
      " |  __neg__(self, /)\n",
      " |      -self\n",
      " |  \n",
      " |  __pos__(self, /)\n",
      " |      +self\n",
      " |  \n",
      " |  __pow__(self, value, mod=None, /)\n",
      " |      Return pow(self, value, mod).\n",
      " |  \n",
      " |  __radd__(self, value, /)\n",
      " |      Return value+self.\n",
      " |  \n",
      " |  __rdivmod__(self, value, /)\n",
      " |      Return divmod(value, self).\n",
      " |  \n",
      " |  __repr__(self, /)\n",
      " |      Return repr(self).\n",
      " |  \n",
      " |  __rfloordiv__(self, value, /)\n",
      " |      Return value//self.\n",
      " |  \n",
      " |  __rmod__(self, value, /)\n",
      " |      Return value%self.\n",
      " |  \n",
      " |  __rmul__(self, value, /)\n",
      " |      Return value*self.\n",
      " |  \n",
      " |  __rpow__(self, value, mod=None, /)\n",
      " |      Return pow(value, self, mod).\n",
      " |  \n",
      " |  __rsub__(self, value, /)\n",
      " |      Return value-self.\n",
      " |  \n",
      " |  __rtruediv__(self, value, /)\n",
      " |      Return value/self.\n",
      " |  \n",
      " |  __sub__(self, value, /)\n",
      " |      Return self-value.\n",
      " |  \n",
      " |  __truediv__(self, value, /)\n",
      " |      Return self/value.\n",
      " |  \n",
      " |  conjugate(...)\n",
      " |      complex.conjugate() -> complex\n",
      " |      \n",
      " |      Return the complex conjugate of its argument. (3-4j).conjugate() == 3+4j.\n",
      " |  \n",
      " |  ----------------------------------------------------------------------\n",
      " |  Static methods defined here:\n",
      " |  \n",
      " |  __new__(*args, **kwargs) from builtins.type\n",
      " |      Create and return a new object.  See help(type) for accurate signature.\n",
      " |  \n",
      " |  ----------------------------------------------------------------------\n",
      " |  Data descriptors defined here:\n",
      " |  \n",
      " |  imag\n",
      " |      the imaginary part of a complex number\n",
      " |  \n",
      " |  real\n",
      " |      the real part of a complex number\n",
      "\n"
     ]
    }
   ],
   "source": [
    "help(complex)"
   ]
  },
  {
   "cell_type": "code",
   "execution_count": 4,
   "id": "d79b4795-df95-4545-9b5f-adc0f8e96bb4",
   "metadata": {},
   "outputs": [
    {
     "name": "stdout",
     "output_type": "stream",
     "text": [
      "Found existing installation: colorama 0.4.4\n",
      "Uninstalling colorama-0.4.4:\n",
      "  Would remove:\n",
      "    /home/jhu/.virtual_environments/py39/lib/python3.9/site-packages/colorama-0.4.4.dist-info/*\n",
      "    /home/jhu/.virtual_environments/py39/lib/python3.9/site-packages/colorama/*\n",
      "Proceed (Y/n)? ^C\n",
      "\u001b[31mERROR: Operation cancelled by user\u001b[0m\n"
     ]
    },
    {
     "ename": "NameError",
     "evalue": "name 'y' is not defined",
     "output_type": "error",
     "traceback": [
      "\u001b[0;31m---------------------------------------------------------------------------\u001b[0m",
      "\u001b[0;31mNameError\u001b[0m                                 Traceback (most recent call last)",
      "\u001b[0;32m/tmp/ipykernel_2219/3026994568.py\u001b[0m in \u001b[0;36m<module>\u001b[0;34m\u001b[0m\n\u001b[1;32m      1\u001b[0m \u001b[0mget_ipython\u001b[0m\u001b[0;34m(\u001b[0m\u001b[0;34m)\u001b[0m\u001b[0;34m.\u001b[0m\u001b[0msystem\u001b[0m\u001b[0;34m(\u001b[0m\u001b[0;34m'pip uninstall colorama'\u001b[0m\u001b[0;34m)\u001b[0m\u001b[0;34m\u001b[0m\u001b[0;34m\u001b[0m\u001b[0m\n\u001b[0;32m----> 2\u001b[0;31m \u001b[0my\u001b[0m\u001b[0;34m\u001b[0m\u001b[0;34m\u001b[0m\u001b[0m\n\u001b[0m",
      "\u001b[0;31mNameError\u001b[0m: name 'y' is not defined"
     ]
    }
   ],
   "source": [
    "!pip uninstall colorama\n",
    "y"
   ]
  },
  {
   "cell_type": "code",
   "execution_count": 3,
   "id": "66f9135f-acd7-4d29-82ab-644aba6e42e2",
   "metadata": {},
   "outputs": [
    {
     "ename": "NameError",
     "evalue": "name 'y' is not defined",
     "output_type": "error",
     "traceback": [
      "\u001b[0;31m---------------------------------------------------------------------------\u001b[0m",
      "\u001b[0;31mNameError\u001b[0m                                 Traceback (most recent call last)",
      "\u001b[0;32m/tmp/ipykernel_2219/859018229.py\u001b[0m in \u001b[0;36m<module>\u001b[0;34m\u001b[0m\n\u001b[0;32m----> 1\u001b[0;31m \u001b[0my\u001b[0m\u001b[0;34m\u001b[0m\u001b[0;34m\u001b[0m\u001b[0m\n\u001b[0m",
      "\u001b[0;31mNameError\u001b[0m: name 'y' is not defined"
     ]
    }
   ],
   "source": [
    "y\n"
   ]
  },
  {
   "cell_type": "code",
   "execution_count": null,
   "id": "32acf63c-9937-4a96-8973-07de667869fb",
   "metadata": {},
   "outputs": [],
   "source": []
  }
 ],
 "metadata": {
  "kernelspec": {
   "display_name": "Python 3 (ipykernel)",
   "language": "python",
   "name": "python3"
  },
  "language_info": {
   "codemirror_mode": {
    "name": "ipython",
    "version": 3
   },
   "file_extension": ".py",
   "mimetype": "text/x-python",
   "name": "python",
   "nbconvert_exporter": "python",
   "pygments_lexer": "ipython3",
   "version": "3.9.2"
  }
 },
 "nbformat": 4,
 "nbformat_minor": 5
}
