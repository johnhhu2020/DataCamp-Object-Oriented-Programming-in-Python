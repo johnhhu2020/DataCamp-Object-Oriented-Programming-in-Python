{
 "cells": [
  {
   "cell_type": "markdown",
   "id": "d20f85f4-e8c2-4256-99ba-15d6513efa0f",
   "metadata": {},
   "source": [
    "\n",
    "\n",
    "# Python Class: Object-Oriented Programming(OOP) Tutorial  DataCamp\n",
    "\n"
   ]
  },
  {
   "cell_type": "markdown",
   "id": "d6de958a-5459-4851-aee0-9c1d597509f5",
   "metadata": {},
   "source": [
    "## OOP Fundamentals\n",
    "\n",
    "In this chapter, you'll learn what object-oriented programming (OOP) is, how it differs from procedural-programming, and how it can be applied. You'll then define your own classes, and learn how to create methods, attributes, and constructors\n",
    "\n",
    "What is OOP?     50 xp\n",
    "OOP termininology     100 xp\n",
    "Exploring object interface     100 xp\n",
    "Class anatomy: attributes and methods     50 xp\n",
    "Understanding class definitions     100 xp\n",
    "Create your first class     100 xp\n",
    "Using attributes in class definition     100 xp\n",
    "Class anatomy: the __init__ constructor     50 xp\n",
    "Correct use of __init__     50 xp\n",
    "Add a class constructor     100 xp\n",
    "Write a class from scratch     100 xp"
   ]
  },
  {
   "cell_type": "code",
   "execution_count": null,
   "id": "5b480852-a4e6-40be-a13b-a06ef9db217f",
   "metadata": {},
   "outputs": [],
   "source": []
  },
  {
   "cell_type": "markdown",
   "id": "8b78baf6-8519-45be-ae9e-6c57e42c5181",
   "metadata": {},
   "source": [
    "## Inheritance and Polymorphism\n",
    "\n",
    "Inheritance and polymorphism are the core concepts of OOP that enable efficient and consistent code reuse. Learn how to inherit from a class, customize and redefine methods, and review the differences between class-level data and instance-level data\n",
    "\n",
    "Instance and class data     50 xp\n",
    "Class-level attributes     100 xp\n",
    "Changing class attributes     100 xp\n",
    "Alternative constructors     100 xp\n",
    "Class inheritance     50 xp\n",
    "Understanding inheritance     100 xp\n",
    "Create a subclass     100 xp\n",
    "Customizing functionality via inheritance     50 xp\n",
    "Method inheritance     100 xp\n",
    "Inheritance of class attributes     100 xp\n",
    "Customizing a DataFrame     100 xp"
   ]
  },
  {
   "cell_type": "code",
   "execution_count": null,
   "id": "34ccc3da-8387-4a89-a8b0-4edfc26122cf",
   "metadata": {},
   "outputs": [],
   "source": []
  },
  {
   "cell_type": "markdown",
   "id": "affa2608-e2ef-4a2d-b0b4-ddb9339f4fff",
   "metadata": {},
   "source": [
    "## Integrating with Standard Python\n",
    "\n",
    "In this chapter, you'll learn how to make sure that objects that store the same data are considered equal, how to define and customize string representations of objects, and even how to create new error types. Through interactive exercises, you’ll learn how to further customize your classes to make them work more like standard Python data types.\n",
    "\n",
    "Operator overloading: comparison     50 xp\n",
    "Overloading equality     100 xp\n",
    "Checking class equality     100 xp\n",
    "Comparison and inheritance     100 xp\n",
    "Operator overloading: string representation     50 xp\n",
    "String formatting review     100 xp\n",
    "String representation of objects     100 xp\n",
    "Exceptions     50 xp\n",
    "Catching exceptions     100 xp\n",
    "Custom exceptions     100 xp\n",
    "Handling exception hierarchies     100 xp"
   ]
  },
  {
   "cell_type": "code",
   "execution_count": null,
   "id": "a1df5344-fcc7-4710-bd52-29f7b1d30694",
   "metadata": {},
   "outputs": [],
   "source": []
  },
  {
   "cell_type": "markdown",
   "id": "3333ab35-7b1a-4e4f-bc85-302285baffd2",
   "metadata": {},
   "source": [
    "## Best Practices of Class Design\n",
    "\n",
    "How do you design classes for inheritance? Does Python have private attributes? Is it possible to control attribute access? You'll find answers to these questions (and more) as you learn class design best practices.\n",
    "\n",
    "Designing for inheritance and polymorphism     50 xp\n",
    "Polymorphic methods     50 xp\n",
    "Square and rectangle     100 xp\n",
    "Managing data access: private attributes     50 xp\n",
    "Attribute naming conventions     100 xp\n",
    "Using internal attributes     100 xp\n",
    "Properties     50 xp\n",
    "What do properties do?     50 xp\n",
    "Create and set properties     100 xp\n",
    "Read-only properties     100 xp\n",
    "Congratulations!     50 xp"
   ]
  },
  {
   "cell_type": "code",
   "execution_count": null,
   "id": "c8c9618a-af05-4edd-891b-01b205344e1f",
   "metadata": {},
   "outputs": [],
   "source": []
  },
  {
   "cell_type": "code",
   "execution_count": 1,
   "id": "8669301a-d936-4f58-a2de-196ed0dd3c1d",
   "metadata": {},
   "outputs": [],
   "source": [
    "class dog:\n",
    "    def __init__(self):\n",
    "        pass"
   ]
  },
  {
   "cell_type": "markdown",
   "id": "12180767-c93a-4bf4-bed4-ad6d974748e6",
   "metadata": {
    "tags": []
   },
   "source": [
    "\n",
    "## Instantiate an object"
   ]
  },
  {
   "cell_type": "code",
   "execution_count": 2,
   "id": "8ad96fea-40a4-4559-9cf3-4654af62b729",
   "metadata": {},
   "outputs": [
    {
     "name": "stdout",
     "output_type": "stream",
     "text": [
      "<__main__.dog object at 0x7f4ea5013ee0>\n"
     ]
    }
   ],
   "source": [
    "ozzy = dog()\n",
    "print(ozzy)"
   ]
  },
  {
   "cell_type": "markdown",
   "id": "7dd6c906-103e-468b-acc8-a4cca86ce8ea",
   "metadata": {},
   "source": [
    "\n",
    "### Adding attributes to a class"
   ]
  },
  {
   "cell_type": "code",
   "execution_count": 3,
   "id": "e410a4c5-8fd6-4efb-9fbe-51c2b28f33d3",
   "metadata": {},
   "outputs": [],
   "source": [
    "class dog:\n",
    "    def __init__(self,name,age):\n",
    "        self.name = name\n",
    "        self.age = age"
   ]
  },
  {
   "cell_type": "code",
   "execution_count": 4,
   "id": "77a53763-10f9-4ac6-b65e-acdc5dad5c85",
   "metadata": {},
   "outputs": [
    {
     "name": "stdout",
     "output_type": "stream",
     "text": [
      "2\n"
     ]
    }
   ],
   "source": [
    "ozzy = dog('Ozzy',2)\n",
    "print(ozzy.age)"
   ]
  },
  {
   "cell_type": "code",
   "execution_count": 5,
   "id": "699102ce-518b-460a-b4dc-d6291f09166c",
   "metadata": {},
   "outputs": [
    {
     "name": "stdout",
     "output_type": "stream",
     "text": [
      "Ozzy is 2 years old\n"
     ]
    }
   ],
   "source": [
    "#print(ozzy.name + ' is ' + ozzy.age + ' years old')\n",
    "print(ozzy.name + ' is ' + str(ozzy.age) + ' years old')"
   ]
  },
  {
   "cell_type": "markdown",
   "id": "6f25dd85-2d5a-4fa4-9b50-c105f79a58ec",
   "metadata": {},
   "source": [
    "\n",
    "## Defing methods in class"
   ]
  },
  {
   "cell_type": "code",
   "execution_count": 6,
   "id": "e39c4ae5-1f27-4b55-8a6e-9fe87753bd3d",
   "metadata": {},
   "outputs": [],
   "source": [
    "class dog:\n",
    "    def __init__(self,name,age):\n",
    "        self.name = name\n",
    "        self.age = age\n",
    "        \n",
    "    def bark(self):\n",
    "        print('Bark, Bark')"
   ]
  },
  {
   "cell_type": "code",
   "execution_count": 7,
   "id": "858ef1f7-0ea0-4abc-86e0-5b1891b686a2",
   "metadata": {},
   "outputs": [
    {
     "data": {
      "text/plain": [
       "<function __main__.dog.bark(self)>"
      ]
     },
     "execution_count": 7,
     "metadata": {},
     "output_type": "execute_result"
    }
   ],
   "source": [
    "#dog.bark()\n",
    "dog.bark"
   ]
  },
  {
   "cell_type": "code",
   "execution_count": 8,
   "id": "e4632e9e-899b-4600-b22a-9ca23d1f0567",
   "metadata": {},
   "outputs": [
    {
     "name": "stdout",
     "output_type": "stream",
     "text": [
      "Bark, Bark\n"
     ]
    }
   ],
   "source": [
    "ozzy = dog('Ozzy',2)\n",
    "ozzy.bark()"
   ]
  },
  {
   "cell_type": "markdown",
   "id": "dcd07901-0d4c-42ab-adc7-1f4573c98dc9",
   "metadata": {},
   "source": [
    "### Notice here when calling a methods, the parentheses .bark() are always included but its not applicable on attributes like dog.name or dog.age\n"
   ]
  },
  {
   "cell_type": "code",
   "execution_count": 5,
   "id": "2b3a3cb3-76a8-4754-840a-a4687ecf368a",
   "metadata": {},
   "outputs": [],
   "source": [
    "class dog:\n",
    "    def __init__(self):\n",
    "        pass\n",
    "    \n",
    "    def bark(self):\n",
    "        print('Bark, Bark')"
   ]
  },
  {
   "cell_type": "code",
   "execution_count": 6,
   "id": "c9607ae4-4556-4d88-aa7f-7c87742425bd",
   "metadata": {},
   "outputs": [
    {
     "name": "stdout",
     "output_type": "stream",
     "text": [
      "Bark, Bark\n"
     ]
    }
   ],
   "source": [
    "oo = dog()\n",
    "oo.bark()"
   ]
  },
  {
   "cell_type": "code",
   "execution_count": 7,
   "id": "96beae9d-a611-41d0-89ad-8f7ed3bded49",
   "metadata": {},
   "outputs": [
    {
     "data": {
      "text/plain": [
       "<function __main__.dog.bark(self)>"
      ]
     },
     "execution_count": 7,
     "metadata": {},
     "output_type": "execute_result"
    }
   ],
   "source": [
    "dog.bark"
   ]
  },
  {
   "cell_type": "code",
   "execution_count": 9,
   "id": "05b85d07-c755-4ded-a3fa-3fca7e0ef2b4",
   "metadata": {},
   "outputs": [
    {
     "name": "stdout",
     "output_type": "stream",
     "text": [
      "Bark, Bark\n"
     ]
    }
   ],
   "source": [
    "dog().bark()"
   ]
  },
  {
   "cell_type": "markdown",
   "id": "d41cc30a-cacc-4e36-bd31-e592f89471d8",
   "metadata": {
    "tags": []
   },
   "source": [
    "\n",
    "## Recall what have learned"
   ]
  },
  {
   "cell_type": "code",
   "execution_count": 12,
   "id": "93810e8f-bf37-4ee8-aac7-e2df15e3fb52",
   "metadata": {},
   "outputs": [],
   "source": [
    "class Dog:\n",
    "    def __init__(self,name,age):\n",
    "        self.name = name\n",
    "        self.age = age\n",
    "    \n",
    "    def bark(self):\n",
    "        print('Bark, Bark')\n",
    "    \n",
    "    def dog_info(self):\n",
    "        print(self.name + ' is ' + str(self.age) + ' years old')\n",
    "\n",
    "ozzy = Dog('Ozzy',2)\n",
    "skippy = Dog('Skippy',12)\n",
    "filou = Dog('Filou',8)\n"
   ]
  },
  {
   "cell_type": "code",
   "execution_count": 13,
   "id": "9f8d12b9-2f21-40ed-914b-5a5f950c512d",
   "metadata": {},
   "outputs": [
    {
     "name": "stdout",
     "output_type": "stream",
     "text": [
      "Bark, Bark\n"
     ]
    }
   ],
   "source": [
    "ozzy.bark()"
   ]
  },
  {
   "cell_type": "code",
   "execution_count": 14,
   "id": "ed021117-bcde-4925-8790-0bf796ed21e3",
   "metadata": {},
   "outputs": [
    {
     "name": "stdout",
     "output_type": "stream",
     "text": [
      "Ozzy is 2 years old\n"
     ]
    }
   ],
   "source": [
    "ozzy.dog_info()"
   ]
  },
  {
   "cell_type": "code",
   "execution_count": 15,
   "id": "4215534d-e8e5-4f1c-a6f9-5bbe41603c8b",
   "metadata": {},
   "outputs": [
    {
     "name": "stdout",
     "output_type": "stream",
     "text": [
      "Ozzy is 3 years old\n"
     ]
    }
   ],
   "source": [
    "ozzy.age = 3\n",
    "ozzy.dog_info()"
   ]
  },
  {
   "cell_type": "code",
   "execution_count": 16,
   "id": "481f002f-56ce-442f-91c0-6e7262ab3631",
   "metadata": {},
   "outputs": [
    {
     "data": {
      "text/plain": [
       "'Ozzy'"
      ]
     },
     "execution_count": 16,
     "metadata": {},
     "output_type": "execute_result"
    }
   ],
   "source": [
    "ozzy.name"
   ]
  },
  {
   "cell_type": "code",
   "execution_count": 17,
   "id": "669c0405-427d-43e6-8950-d1e5190b150b",
   "metadata": {},
   "outputs": [
    {
     "name": "stdout",
     "output_type": "stream",
     "text": [
      "Ozzy\n"
     ]
    }
   ],
   "source": [
    "print(ozzy.name)"
   ]
  },
  {
   "cell_type": "code",
   "execution_count": 18,
   "id": "22f50490-60f0-4377-ba3c-bdd3f028e98d",
   "metadata": {},
   "outputs": [
    {
     "name": "stdout",
     "output_type": "stream",
     "text": [
      "Ozzy is 2 years old\n"
     ]
    }
   ],
   "source": [
    "class Dog:\n",
    "    def __init__(self,name,age):\n",
    "        self.name = name\n",
    "        self.age = age\n",
    "    \n",
    "    def bark(self):\n",
    "        print('Bark, Bark')\n",
    "    \n",
    "    def dog_info(self):\n",
    "        print(self.name + ' is ' + str(self.age) + ' years old')\n",
    "    \n",
    "    def birthday(self):\n",
    "        self.age += 1\n",
    "\n",
    "ozzy = Dog('Ozzy',2)\n",
    "ozzy.dog_info()"
   ]
  },
  {
   "cell_type": "code",
   "execution_count": 19,
   "id": "8602ba9b-721e-4462-b784-d7c01887a01a",
   "metadata": {},
   "outputs": [
    {
     "name": "stdout",
     "output_type": "stream",
     "text": [
      "Ozzy is 3 years old\n"
     ]
    }
   ],
   "source": [
    "ozzy.birthday()\n",
    "ozzy.dog_info()"
   ]
  },
  {
   "cell_type": "markdown",
   "id": "a953488f-7dd9-4b24-99ee-652c5f077c43",
   "metadata": {},
   "source": [
    "\n",
    "## Passing arguments to a method"
   ]
  },
  {
   "cell_type": "code",
   "execution_count": 20,
   "id": "702ee88b-982d-4bc6-952f-dfc3058362a8",
   "metadata": {},
   "outputs": [],
   "source": [
    "class Dog:\n",
    "    def __init__(self,name,age):\n",
    "        self.name = name\n",
    "        self.age = age\n",
    "    \n",
    "    def bark(self):\n",
    "        print('Bark Bark')\n",
    "    \n",
    "    def dog_info(self):\n",
    "        print(self.name + ' is ' + str(self.age) + ' years old')\n",
    "    \n",
    "    def birthday(self):\n",
    "        self.age += 1\n",
    "    \n",
    "    def setBuddy(self,buddy):\n",
    "        self.buddy = buddy\n",
    "        buddy.buddy = self\n",
    "\n",
    "ozzy = Dog('Ozzy',2)\n",
    "filou = Dog('Filou',8)"
   ]
  },
  {
   "cell_type": "code",
   "execution_count": 21,
   "id": "1e25a26d-86f8-44e7-a8ac-699fd39e3acc",
   "metadata": {},
   "outputs": [
    {
     "name": "stdout",
     "output_type": "stream",
     "text": [
      "8\n",
      "Filou\n",
      "2\n",
      "Ozzy\n"
     ]
    }
   ],
   "source": [
    "ozzy.setBuddy(filou)\n",
    "\n",
    "print(ozzy.buddy.age)\n",
    "print(ozzy.buddy.name)\n",
    "\n",
    "print(filou.buddy.age)\n",
    "print(filou.buddy.name)"
   ]
  },
  {
   "cell_type": "code",
   "execution_count": 22,
   "id": "c9ed3fd5-1a79-4a58-81a9-af1ea7ea16f2",
   "metadata": {},
   "outputs": [
    {
     "name": "stdout",
     "output_type": "stream",
     "text": [
      "Filou is 8 years old\n"
     ]
    }
   ],
   "source": [
    "ozzy.buddy.dog_info()"
   ]
  },
  {
   "cell_type": "code",
   "execution_count": 1,
   "id": "f4b8b394-8fdf-4fd4-b51b-ab07ca402036",
   "metadata": {},
   "outputs": [
    {
     "name": "stdout",
     "output_type": "stream",
     "text": [
      "10\n"
     ]
    },
    {
     "data": {
      "text/plain": [
       "10"
      ]
     },
     "execution_count": 1,
     "metadata": {},
     "output_type": "execute_result"
    }
   ],
   "source": [
    "# Create a Player class\n",
    "class Player:\n",
    "    MAX_POSITION = 10\n",
    "\n",
    "    def __init__(self, position=0):\n",
    "        self.position = position\n",
    "\n",
    "\n",
    "# Print Player.MAX_POSITION       \n",
    "print(Player.MAX_POSITION)\n",
    "\n",
    "# Create a player p and print its MAX_POSITITON\n",
    "p = Player()\n",
    "p.MAX_POSITION"
   ]
  },
  {
   "cell_type": "code",
   "execution_count": 3,
   "id": "cd90e14c-c42e-4c01-813d-cb61db839504",
   "metadata": {},
   "outputs": [
    {
     "name": "stdout",
     "output_type": "stream",
     "text": [
      "10\n",
      "10\n"
     ]
    }
   ],
   "source": [
    "# Create a Player class\n",
    "class Player:\n",
    "    MAX_POSITION = 10\n",
    "    \n",
    "    def __init__(self):\n",
    "        self.position = 0\n",
    "\n",
    "# Print Player.MAX_POSITION  \n",
    "print(Player.MAX_POSITION)   \n",
    "\n",
    "# Create a player p and print its MAX_POSITITON\n",
    "p = Player()\n",
    "print(p.MAX_POSITION)"
   ]
  },
  {
   "cell_type": "code",
   "execution_count": 4,
   "id": "ee112dc0-5a4c-4e87-ad41-08111acf7a0e",
   "metadata": {},
   "outputs": [
    {
     "name": "stdout",
     "output_type": "stream",
     "text": [
      "MAX_SPEED of p1 and p2 before assignment:\n",
      "3\n",
      "3\n",
      "MAX_SPEED of p1 and p2 after assignment:\n",
      "7\n",
      "3\n",
      "MAX_SPEED of Player:\n",
      "3\n"
     ]
    }
   ],
   "source": [
    "# Create Players p1 and p2\n",
    "class Player:\n",
    "    MAX_SPEED = 3\n",
    "    MAX_POSITION = 10\n",
    "\n",
    "    def __init__(self,position = 0):\n",
    "        self.position = position\n",
    "\n",
    "p1 = Player()\n",
    "p2 = Player()\n",
    "\n",
    "\n",
    "print(\"MAX_SPEED of p1 and p2 before assignment:\")\n",
    "# Print p1.MAX_SPEED and p2.MAX_SPEED\n",
    "print(p1.MAX_SPEED)\n",
    "print(p2.MAX_SPEED)\n",
    "\n",
    "# Assign 7 to p1.MAX_SPEED\n",
    "p1.MAX_SPEED = 7\n",
    "\n",
    "print(\"MAX_SPEED of p1 and p2 after assignment:\")\n",
    "# Print p1.MAX_SPEED and p2.MAX_SPEED\n",
    "print(p1.MAX_SPEED)\n",
    "print(p2.MAX_SPEED)\n",
    "\n",
    "print(\"MAX_SPEED of Player:\")\n",
    "# Print Player.MAX_SPEED\n",
    "print(Player.MAX_SPEED)"
   ]
  },
  {
   "cell_type": "code",
   "execution_count": 5,
   "id": "0fb853c0-81e0-4f12-bb29-352c98d3c0a4",
   "metadata": {},
   "outputs": [
    {
     "name": "stdout",
     "output_type": "stream",
     "text": [
      "MAX_SPEED of p1 and p2 before assignment:\n",
      "3\n",
      "3\n",
      "MAX_SPEED of p1 and p2 after assignment:\n",
      "7\n",
      "3\n",
      "MAX_SPEED of Player:\n",
      "3\n"
     ]
    }
   ],
   "source": [
    "# Create Players p1 and p2\n",
    "p1, p2 = Player(), Player()\n",
    "\n",
    "print(\"MAX_SPEED of p1 and p2 before assignment:\")\n",
    "# Print p1.MAX_SPEED and p2.MAX_SPEED\n",
    "print(p1.MAX_SPEED)\n",
    "print(p2.MAX_SPEED)\n",
    "\n",
    "# Assign 7 to p1.MAX_SPEED\n",
    "p1.MAX_SPEED = 7\n",
    "\n",
    "print(\"MAX_SPEED of p1 and p2 after assignment:\")\n",
    "# Print p1.MAX_SPEED and p2.MAX_SPEED\n",
    "print(p1.MAX_SPEED)\n",
    "print(p2.MAX_SPEED)\n",
    "\n",
    "print(\"MAX_SPEED of Player:\")\n",
    "# Print Player.MAX_SPEED\n",
    "print(Player.MAX_SPEED)"
   ]
  },
  {
   "cell_type": "markdown",
   "id": "c1d43b85-df68-4fe3-9569-420334705e74",
   "metadata": {},
   "source": [
    "\n",
    "## Instance and class data\n"
   ]
  },
  {
   "cell_type": "markdown",
   "id": "553ac56a-549e-433c-a51b-3c5f549f89f8",
   "metadata": {},
   "source": [
    "## class attributes  &  class mathods\n",
    "\n",
    "**remember the Employee class we defined, \n",
    "it had attributes like name and salary, \n",
    "and we were able to assign specific value to them for each new instance**\n",
    "\n",
    "### there attributes are called  instance sttributes\n",
    "**we use self to bind them to a particular instance\n",
    "\n"
   ]
  },
  {
   "cell_type": "code",
   "execution_count": null,
   "id": "f22abd35-ffeb-441f-88bb-53d5f121ec66",
   "metadata": {},
   "outputs": [],
   "source": [
    "class Employee:\n",
    "    def __init__(self,name,salary):\n",
    "        self.name,self.salary = name,salary\n",
    "        \n",
    "        \n",
    "emp1 = Employee('Jhu',6000) # echa new instance can have assign value\n",
    "emp2 = Employee('Hhu',8000)"
   ]
  },
  {
   "cell_type": "markdown",
   "id": "626117f4-c602-4c14-8e7e-25ee6de09eec",
   "metadata": {},
   "source": [
    "## Class-level data\n",
    "\n",
    "**data shared among all instance of a class\n",
    "\n",
    "\n",
    "#### we can use this attributes inside the class, only prepended by the class name\n",
    "#### not use self to define class attributes, use ClassName.ATTR_name to access class attribute\n",
    "#### this min_salary variable will be shared among all the instance of the employee class\n",
    "#### we can access it like any other attribute from an object instance, and the value\n",
    "#### will be same across instances"
   ]
  },
  {
   "cell_type": "code",
   "execution_count": 78,
   "id": "d471d4c5-5509-4bdc-94c7-ccd5a88542a5",
   "metadata": {},
   "outputs": [
    {
     "name": "stdout",
     "output_type": "stream",
     "text": [
      "John Hhu 87000\n"
     ]
    },
    {
     "data": {
      "text/plain": [
       "Manager: (name: John Hhu, salary: 100000, bonus: 10000)"
      ]
     },
     "execution_count": 78,
     "metadata": {},
     "output_type": "execute_result"
    }
   ],
   "source": [
    "class Employee:\n",
    "    MIN_SALARY = 30000  # <= a class attribute, shared among all Employee instances\n",
    "\n",
    "    def __init__(self, name, salary=MIN_SALARY):\n",
    "        self.name = name\n",
    "        if salary >= Employee.MIN_SALARY:\n",
    "            self.salary = salary\n",
    "        else:\n",
    "            self.salary = Employee.MIN_SALARY\n",
    "        \n",
    "    def give_raise(self, amount):\n",
    "        self.salary += amount      \n",
    "        \n",
    "        \n",
    "# Define a new class Manager inheriting from Employee\n",
    "class Manager(Employee):\n",
    "    MIN_SALARY = 87000\n",
    "    # the main use case for class attributes is global constance that are related to class\n",
    "    \n",
    "    def __init__(self, name, salary = Manager.MIN_SALARY, bonus=10000):\n",
    "        Employee.__init__(self,name, salary)\n",
    "        self.name, self.salary, self.bonus = name, salary, bonus\n",
    "        \n",
    "    def give_raise(self,bonus):  # use method inheritance from Employee class ?\n",
    "        self.salary += bonus\n",
    "        \n",
    "    def __repr__(self):\n",
    "        return \"Manager: (name: {name}, salary: {salary}, bonus: {bonus})\"\\\n",
    "    .format(name=self.name, salary=self.salary, bonus=self.bonus)\n",
    "\n",
    "        \n",
    "# Define a Manager object\n",
    "mng1 = Manager('Debbie Lashko',86500)\n",
    "mng2 = Manager('John Hhu',100000)\n",
    "mng3 = Manager('Uuh')\n",
    "emp1 = Employee('John P',200000)\n",
    "\n",
    "mng1.MIN_SALARY\n",
    "emp1.MIN_SALARY\n",
    "print(mng2.name, mng2.MIN_SALARY)\n",
    "mng3.salary\n",
    "mng3.bonus\n",
    "mng2"
   ]
  },
  {
   "cell_type": "markdown",
   "id": "cd129656-77c2-491a-90f5-1f5ad64ed1ad",
   "metadata": {},
   "source": [
    "\n",
    "## class method\n",
    "\n",
    "\n",
    "**methods are already share among all the instances, the only difference is the data fed into it. \n",
    "\n",
    "## it is possiable to define methods bound to class rather than an instance, but they have a narrow\n",
    "application scope, because these methods will not be able to use any instance-level data.\n",
    "\n",
    "**you cant refer to any instance attributes in that method\n",
    "\n",
    "## to define a class method, you start with a classmethod decorator, followed by a method definition\n",
    "\n",
    "\n",
    "class MyClass:\n",
    "\n",
    "    @classmethod     # <= use decorator to declare a class method\n",
    "    def my_class_method(cls, args ...):     # <= cls argument refers to the class\n",
    "    # Do stuff here\n",
    "    # Cant use any instance attributes :(\n",
    "    \n",
    "    \n",
    "**to call a class method, use class.method syntax, rather than object.method syntax**\n",
    "\n",
    "MyClass.my_class_method(arg, ...)"
   ]
  },
  {
   "cell_type": "markdown",
   "id": "e061beee-c271-492c-8af9-4aa768d4367d",
   "metadata": {},
   "source": [
    "## why we need class method at all?\n",
    "\n",
    "## the main use case is  alternative constructors, \n",
    "a class can only have one __init__() method, \n",
    "but there may be multiple ways to initialize an object\n",
    "\n",
    "\n",
    "for example we might want to create an Employee object from data stored in a file\n",
    "**we cant use method, because it would require an instance, and there isnt one yet.\n",
    "      emp1 = Employee()\n",
    "      emp1.open_file(\"/ab/cf/at.txt\")\n"
   ]
  },
  {
   "cell_type": "code",
   "execution_count": 117,
   "id": "a33872b0-8625-4bf1-9bd4-bb81ce7ab553",
   "metadata": {},
   "outputs": [
    {
     "name": "stdout",
     "output_type": "stream",
     "text": [
      "Jjj\n",
      "Employee: (name: Jjj, slalry: 60000)\n"
     ]
    },
    {
     "ename": "AttributeError",
     "evalue": "'str' object has no attribute 'name'",
     "output_type": "error",
     "traceback": [
      "\u001b[0;31m---------------------------------------------------------------------------\u001b[0m",
      "\u001b[0;31mAttributeError\u001b[0m                            Traceback (most recent call last)",
      "\u001b[0;32m/tmp/ipykernel_44506/3050055703.py\u001b[0m in \u001b[0;36m<module>\u001b[0;34m\u001b[0m\n\u001b[1;32m     40\u001b[0m \u001b[0;31m# we cant use method, because it would require an instance, and there isnt one yet\u001b[0m\u001b[0;34m\u001b[0m\u001b[0;34m\u001b[0m\u001b[0;34m\u001b[0m\u001b[0m\n\u001b[1;32m     41\u001b[0m \u001b[0;31m# --------------------------------------------------------------- #\u001b[0m\u001b[0;34m\u001b[0m\u001b[0;34m\u001b[0m\u001b[0;34m\u001b[0m\u001b[0m\n\u001b[0;32m---> 42\u001b[0;31m \u001b[0mtt\u001b[0m\u001b[0;34m.\u001b[0m\u001b[0mname\u001b[0m\u001b[0;34m\u001b[0m\u001b[0;34m\u001b[0m\u001b[0m\n\u001b[0m\u001b[1;32m     43\u001b[0m \u001b[0;34m\u001b[0m\u001b[0m\n\u001b[1;32m     44\u001b[0m \u001b[0mna1\u001b[0m \u001b[0;34m=\u001b[0m \u001b[0mEmployee\u001b[0m\u001b[0;34m.\u001b[0m\u001b[0mfrom_file\u001b[0m\u001b[0;34m(\u001b[0m\u001b[0;34m\"hello.txt\"\u001b[0m\u001b[0;34m)\u001b[0m\u001b[0;34m\u001b[0m\u001b[0;34m\u001b[0m\u001b[0m\n",
      "\u001b[0;31mAttributeError\u001b[0m: 'str' object has no attribute 'name'"
     ]
    }
   ],
   "source": [
    "class Employee:\n",
    "    MIN_SALARY = 30000\n",
    "    \n",
    "    def __init__(self, name, salary=60000, file_name=None):\n",
    "        self.name = name\n",
    "        self.file_name = file_name\n",
    "        if salary >= Employee.MIN_SALARY:\n",
    "            self.salary = salary\n",
    "        else:\n",
    "            self.salary = Employee.MIN_SALARY\n",
    "            \n",
    "            \n",
    "    def file_open(self,file_name):\n",
    "        with open(file_name, 'r') as f:\n",
    "            name = f.readline()\n",
    "        return name\n",
    "            \n",
    "            \n",
    "    @classmethod\n",
    "    def from_file(cls,file_name):\n",
    "        with open(file_name, \"r\") as f:\n",
    "            name = f.readline()\n",
    "        return cls(name)\n",
    "    \n",
    "    def __repr__(self):\n",
    "        return \"Employee: (name: {name}, slalry: {salary})\"\\\n",
    "    .format(name = self.name, salary = self.salary)\n",
    "    \n",
    "    \n",
    "emp1 = Employee('Jjj')\n",
    "print(emp1.name)\n",
    "print(emp1)\n",
    "    \n",
    "    \n",
    "tt = Employee(\"hello.txt\").file_open(\"hello.txt\")  \n",
    "# --------------------------------------------------------------- #\n",
    "# the attributes has already set in its __init__ constructor\n",
    "#   so we need another specific class to do the file data read\n",
    "#     a class can only have one __init__() method  *****\n",
    "# we cant use method, because it would require an instance, and there isnt one yet\n",
    "# --------------------------------------------------------------- #\n",
    "tt.name\n",
    "    \n",
    "na1 = Employee.from_file(\"hello.txt\")\n",
    "na1.name"
   ]
  },
  {
   "cell_type": "code",
   "execution_count": 124,
   "id": "18095913-d27c-405a-a2a9-512817ae6f13",
   "metadata": {},
   "outputs": [
    {
     "name": "stdout",
     "output_type": "stream",
     "text": [
      "Jjj\n",
      "Employee: (name: Jjj, slalry: 60000)\n"
     ]
    },
    {
     "data": {
      "text/plain": [
       "'hello, john hhu, this is a test file for class method\\n'"
      ]
     },
     "execution_count": 124,
     "metadata": {},
     "output_type": "execute_result"
    }
   ],
   "source": [
    "class Employee:\n",
    "    MIN_SALARY = 30000\n",
    "    \n",
    "    def __init__(self, name, salary=60000):\n",
    "        self.name = name\n",
    "        if salary >= Employee.MIN_SALARY:\n",
    "            self.salary = salary\n",
    "        else:\n",
    "            self.salary = Employee.MIN_SALARY\n",
    "            \n",
    "            \n",
    "    @classmethod\n",
    "    def from_file(cls,file_name):\n",
    "        with open(file_name, \"r\") as f:\n",
    "            name = f.readline()\n",
    "        return cls(name)\n",
    "    \n",
    "    def __repr__(self):\n",
    "        return \"Employee: (name: {name}, slalry: {salary})\"\\\n",
    "    .format(name = self.name, salary = self.salary)\n",
    "    \n",
    "    \n",
    "emp1 = Employee('Jjj')\n",
    "print(emp1.name)\n",
    "print(emp1)\n",
    "    \n",
    "    \n",
    "na1 = Employee.from_file(\"hello.txt\")  \n",
    "# <= using class.method, it will create an employee object without explicitly calling the constructor\n",
    "\n",
    "na1.name"
   ]
  },
  {
   "cell_type": "code",
   "execution_count": 122,
   "id": "f01f40ba-59de-4043-9e7c-eadc50cfa4af",
   "metadata": {},
   "outputs": [
    {
     "name": "stdout",
     "output_type": "stream",
     "text": [
      "hello, john hhu, this is a test file for class method\n",
      "\n"
     ]
    }
   ],
   "source": [
    "# use one class to open file and use another to process the data of it? good or bad? \n",
    "\n",
    "\n",
    "class Program:\n",
    "    def __init__(self, file_name):\n",
    "        self.t = open(file_name, 'r')      # <= with open(file_name, \"r\") as f:\n",
    "        #with open(file_name,\"r\") as f:    # <=     self.name = f.readline()\n",
    "        #    self.name = f.readline()      # <= def closs(self) with not work with this situation\n",
    "        self.name = self.t.readline()\n",
    "        \n",
    "\n",
    "    def check(self):\n",
    "        pass\n",
    "        \n",
    "\n",
    "    def close(self):\n",
    "        if self.t:\n",
    "            self.t.close()\n",
    "            self.t = None\n",
    "            \n",
    "pro = Program(\"hello.txt\")\n",
    "print(pro.name)\n",
    "            \n",
    "import contextlib\n",
    "with contextlib.closing(Program('hello.txt')) as program:  # <= further Python programing study needed\n",
    "    program.check()"
   ]
  },
  {
   "cell_type": "markdown",
   "id": "c8343c4f-4c3d-4e16-be81-08385a0d1afa",
   "metadata": {},
   "source": [
    "# <= further Python programing study needed\n",
    "\n",
    "\n",
    "including yield & return\n",
    "    **yield turns function into an generator\n",
    "__exit__ program to release memory and others"
   ]
  },
  {
   "cell_type": "markdown",
   "id": "5a2df610-1c51-4bb3-af43-2e092199fb45",
   "metadata": {},
   "source": [
    "## Class-level attributes\n",
    "\n",
    "Class attributes store data that is shared among all the class instances. They are assigned values in the class body, and are referred to using the ClassName. syntax rather than self. syntax when used in methods.\n",
    "\n",
    "In this exercise, you will be a game developer working on a game that will have several players moving on a grid and interacting with each other. As the first step, you want to define a Player class that will just move along a straight line. Player will have a position attribute and a move() method. The grid is limited, so the position of Player will have a maximal value.\n",
    "\n",
    "\n",
    "    Define a class Player that has:\n",
    "    A class attribute MAX_POSITION with value 10.\n",
    "    The __init__() method that sets the position instance attribute to 0.\n",
    "    Print Player.MAX_POSITION.\n",
    "    Create a Player object p and print its MAX_POSITION.\n"
   ]
  },
  {
   "cell_type": "code",
   "execution_count": 129,
   "id": "bfb761cf-3ef6-4758-af86-3e9256bbf0f3",
   "metadata": {},
   "outputs": [
    {
     "name": "stdout",
     "output_type": "stream",
     "text": [
      "10\n",
      "10\n"
     ]
    }
   ],
   "source": [
    "# Create a Player class\n",
    "class Player:\n",
    "    MAX_POSITION = 10\n",
    "\n",
    "    def __init__(self,position=0): \n",
    "        self.position = position\n",
    "    #<= The __init__() method that sets the position instance attribute to 0. \n",
    "\n",
    "    def move(self): pass\n",
    "\n",
    "\n",
    "# Print Player.MAX_POSITION       \n",
    "print(Player.MAX_POSITION)\n",
    "\n",
    "# Create a player p and print its MAX_POSITITON\n",
    "p = Player()\n",
    "print(p.MAX_POSITION)"
   ]
  },
  {
   "cell_type": "markdown",
   "id": "36417526-0723-4d9c-babb-21e8e5d675a5",
   "metadata": {},
   "source": [
    "## Changing class attributes\n",
    "\n",
    "You learned how to define class attributes and how to access them from class instances. So what will happen if you try to assign another value to a class attribute when accessing it from an instance? The answer is not as simple as you might think!\n",
    "\n",
    "The Player class from the previous exercise is pre-defined. Recall that it has a position instance attribute, and MAX_SPEED and MAX_POSITION class attributes. The initial value of MAX_SPEED is 3.\n",
    "\n",
    "\n",
    "    Create two Player objects p1 and p2.\n",
    "    Print p1.MAX_SPEED and p2.MAX_SPEED.\n",
    "    Assign 7 to p1.MAX_SPEED.\n",
    "    Print p1.MAX_SPEED and p2.MAX_SPEED again.\n",
    "    Print Player.MAX_SPEED.\n",
    "    Examine the output carefully.\n"
   ]
  },
  {
   "cell_type": "code",
   "execution_count": 130,
   "id": "c5545700-fed4-4739-ab5c-b3524e43ba10",
   "metadata": {},
   "outputs": [
    {
     "name": "stdout",
     "output_type": "stream",
     "text": [
      "MAX_SPEED of p1 and p2 before assignment:\n",
      "10\n",
      "10\n",
      "MAX_SPEED of p1 and p2 after assignment:\n",
      "7\n",
      "10\n",
      "MAX_SPEED of Player:\n",
      "10\n"
     ]
    }
   ],
   "source": [
    "class Player:\n",
    "    MAX_SPEED = 10\n",
    "    \n",
    "    def __init__(self,position = 0):\n",
    "        self.position = position\n",
    "\n",
    "\n",
    "# Create Players p1 and p2\n",
    "p1 = Player()\n",
    "p2 = Player()\n",
    "\n",
    "print(\"MAX_SPEED of p1 and p2 before assignment:\")\n",
    "# Print p1.MAX_SPEED and p2.MAX_SPEED\n",
    "print(p1.MAX_SPEED)\n",
    "print(p2.MAX_SPEED)\n",
    "\n",
    "# Assign 7 to p1.MAX_SPEED\n",
    "p1.MAX_SPEED = 7\n",
    "\n",
    "print(\"MAX_SPEED of p1 and p2 after assignment:\")\n",
    "# Print p1.MAX_SPEED and p2.MAX_SPEED\n",
    "print(p1.MAX_SPEED)\n",
    "print(p2.MAX_SPEED)\n",
    "\n",
    "print(\"MAX_SPEED of Player:\")\n",
    "# Print Player.MAX_SPEED\n",
    "print(Player.MAX_SPEED)"
   ]
  },
  {
   "cell_type": "markdown",
   "id": "fc2dafed-d870-4b16-988b-3ae4f750d592",
   "metadata": {},
   "source": [
    "## Alternative constructors\n",
    "\n",
    "Python allows you to define class methods as well, using the @classmethod decorator and a special first argument cls. The main use of class methods is defining methods that return an instance of the class, but aren't using the same code as __init__().\n",
    "\n",
    "For example, you are developing a time series package and want to define your own class for working with dates, BetterDate. The attributes of the class will be year, month, and day. You want to have a constructor that creates BetterDate objects given the values for year, month, and day, but you also want to be able to create BetterDate objects from strings like 2020-04-30.\n",
    "\n",
    "You might find the following functions useful:\n",
    "\n",
    "    .split(\"-\") method will split a string at\"-\" into an array, e.g. \"2020-04-30\".split(\"-\") returns [\"2020\", \"04\", \"30\"],\n",
    "    int() will convert a string into a number, e.g. int(\"2019\") is 2019 .\n"
   ]
  },
  {
   "cell_type": "code",
   "execution_count": 132,
   "id": "808138a4-da8c-4a06-9e68-cec722870d8a",
   "metadata": {},
   "outputs": [
    {
     "name": "stdout",
     "output_type": "stream",
     "text": [
      "2020\n",
      "4\n",
      "30\n"
     ]
    }
   ],
   "source": [
    "class BetterDate:    \n",
    "    # Constructor\n",
    "    def __init__(self, year, month, day):\n",
    "        # --------------------------------------------------------------------- #\n",
    "        # you want to have a constructor that creates BetterDate objects\n",
    "        # given the values for year, month, and day, \n",
    "        \n",
    "      # Recall that Python allows multiple variable assignments in one line\n",
    "      self.year, self.month, self.day = year, month, day\n",
    "    \n",
    "    # Define a class method from_str\n",
    "    @classmethod\n",
    "    def from_str(cls, datestr):\n",
    "        # --------------------------------------------------------------------- #\n",
    "        # but you also want to be able to create BetterDate objects from strings like 2020-04-30\n",
    "        \n",
    "        # Split the string at \"-\" and convert each part to integer\n",
    "        parts = datestr.split(\"-\")\n",
    "        year, month, day = int(parts[0]), int(parts[1]), int(parts[2])\n",
    "        # Return the class instance\n",
    "        return cls(year, month, day)  # <= it returns an object instance\n",
    "        \n",
    "        \n",
    "bd = BetterDate.from_str('2020-04-30')   \n",
    "print(bd.year)\n",
    "print(bd.month)\n",
    "print(bd.day)"
   ]
  },
  {
   "cell_type": "markdown",
   "id": "07e81b44-fc1c-4de2-aa7f-d4077d88f062",
   "metadata": {},
   "source": [
    "## class inheritance\n",
    "\n",
    "**Object-oriented Programming is fundamentally about code reuse\n",
    "\n",
    "\n",
    "Modules like Pandas or Numpy are a great tool that allows you to use code written by other programmers.\n",
    "\n",
    "## but what if that code doesnt match your needs exactly? \n",
    "\n",
    "You could do that by importing Pandas and writing a new function, but it will not be integrated into the DataFrame interface. OOP will alow you to keep interface consistent while customizing functionality.\n",
    "\n",
    "## it would be better to have a general Data Structure that implements the basic functionality only once. and we can accomplish this with inheritance. \n",
    "\n",
    "\n",
    "class inheritance is mechanism by which we can define a new class that get all the functionality of another class plus maybe something extra with out reimplimenting the code. "
   ]
  },
  {
   "cell_type": "markdown",
   "id": "3afc8626-365e-4aa1-8b29-816f35764790",
   "metadata": {},
   "source": [
    "\n",
    "## Inheritance is a powerful tool of object-oriented languages that allows you to customize functionality of existing classes without having to re-implement methods from scratch.\n",
    "\n",
    "\n",
    "## implementing class inheritance\n",
    "\n",
    "## we can create an object even though we did not define a constructor"
   ]
  },
  {
   "cell_type": "code",
   "execution_count": 136,
   "id": "ccfdd3ac-9f97-4a91-a989-92024eef186e",
   "metadata": {},
   "outputs": [
    {
     "data": {
      "text/plain": [
       "5400"
      ]
     },
     "execution_count": 136,
     "metadata": {},
     "output_type": "execute_result"
    }
   ],
   "source": [
    "class BankAccount:\n",
    "    def __init__(self, balance):\n",
    "        self.balance = balance\n",
    "        \n",
    "    def withdraw(self,amount):\n",
    "        self.balance -= amount\n",
    "        \n",
    "        \n",
    "class SavingAccount(BankAccount):\n",
    "    pass\n",
    "\n",
    "\n",
    "ba = BankAccount(5000)\n",
    "ba.withdraw(500)\n",
    "ba.balance\n",
    "\n",
    "# ----------------------------------------------------------------------- #\n",
    "# we can create an object even though we did not define a constructor\n",
    "sa = SavingAccount(6000)\n",
    "sa.withdraw(600)\n",
    "sa.balance"
   ]
  },
  {
   "cell_type": "code",
   "execution_count": 10,
   "id": "c29c917e-c909-4c1b-91b3-4b16d125df9d",
   "metadata": {},
   "outputs": [
    {
     "data": {
      "text/plain": [
       "970"
      ]
     },
     "execution_count": 10,
     "metadata": {},
     "output_type": "execute_result"
    }
   ],
   "source": [
    "class BankAccount:\n",
    "    def __init__(self,balance):\n",
    "        self.balance = balance\n",
    "        \n",
    "    def withdraw(self,amount):\n",
    "        self.balance -= amount\n",
    "    \n",
    "    \n",
    "class SavingAccount(BankAccount):\n",
    "    pass\n",
    "\n",
    "\n",
    "saving_acct = SavingAccount(1000)\n",
    "type(saving_acct)\n",
    "\n",
    "#<= we can access balance attribute and withdraw method from the instance of SavingAccount,\n",
    "# even though these features weren't defined in the new class --- inheritance\n",
    "saving_acct.balance  \n",
    "saving_acct.withdraw(30)\n",
    "saving_acct.balance"
   ]
  },
  {
   "cell_type": "code",
   "execution_count": 13,
   "id": "f23b7866-738a-4935-bc73-006fae89adc8",
   "metadata": {
    "tags": []
   },
   "outputs": [
    {
     "data": {
      "text/plain": [
       "True"
      ]
     },
     "execution_count": 13,
     "metadata": {},
     "output_type": "execute_result"
    }
   ],
   "source": [
    "isinstance(saving_acct,SavingAccount)"
   ]
  },
  {
   "cell_type": "code",
   "execution_count": 14,
   "id": "45220364-5177-41ce-a8f4-078ea23a1a6f",
   "metadata": {},
   "outputs": [
    {
     "data": {
      "text/plain": [
       "True"
      ]
     },
     "execution_count": 14,
     "metadata": {},
     "output_type": "execute_result"
    }
   ],
   "source": [
    "isinstance(saving_acct,BankAccount)"
   ]
  },
  {
   "cell_type": "markdown",
   "id": "bf7aa97a-9f15-4a27-bdbe-8f0c633bb3ed",
   "metadata": {},
   "source": [
    "## Understanding inheritance\n",
    "\n",
    "Inheritance is a powerful tool of object-oriented languages that allows you to customize functionality of existing classes without having to re-implement methods from scratch.\n",
    "\n",
    "In this exercise you'll check your understanding of the basics of inheritance. In the questions, we'll make use of the following two classes:\n",
    "\n",
    "class Counter:\n",
    "    def __init__(self, count):\n",
    "       self.count = count\n",
    "\n",
    "    def add_counts(self, n):\n",
    "       self.count += n\n",
    "\n",
    "class Indexer(Counter):\n",
    "   pass\n",
    "\n",
    "\n",
    "Hint\n",
    "\n",
    "    In the video SavingsAccount was inherited from BankAccount. The objects of the class SavingsAccount were both instances of SavingsAccount and BankAccount.\n",
    "    In absence of any other methods, the child class (in this case, Indexer) will use the methods of the Counter class if they are called from an instance.\n"
   ]
  },
  {
   "cell_type": "markdown",
   "id": "b66dc4be-23ee-4063-ab55-7c619c565e8f",
   "metadata": {},
   "source": [
    "**running ind = Indexer() will cause an error, because attribute data missing - count\n",
    "**inheritance represent is-a relashionship"
   ]
  },
  {
   "cell_type": "markdown",
   "id": "0208d45c-c342-4bf1-87ae-98b98ca03506",
   "metadata": {},
   "source": [
    "## Create a subclass\n",
    "\n",
    "The purpose of child classes -- or sub-classes, as they are usually called - is to customize and extend functionality of the parent class.\n",
    "\n",
    "Recall the Employee class from earlier in the course. In most organizations, managers enjoy more privileges and more responsibilities than a regular employee. So it would make sense to introduce a Manager class that has more functionality than Employee.\n",
    "\n",
    "But a Manager is still an employee, so the Manager class should be inherited from the Employee class.\n",
    "\n",
    "\n",
    "\n",
    "    Add an empty Manager class that is inherited from Employee.\n",
    "    Create an object mng of the Manager class with the name Debbie Lashko and salary 86500.\n",
    "    Print the name of mng.\n"
   ]
  },
  {
   "cell_type": "code",
   "execution_count": 31,
   "id": "f7fc3fd8-0526-4bc0-923c-82f42059a9fa",
   "metadata": {},
   "outputs": [
    {
     "data": {
      "text/plain": [
       "95600"
      ]
     },
     "execution_count": 31,
     "metadata": {},
     "output_type": "execute_result"
    }
   ],
   "source": [
    "class Employee:\n",
    "    MIN_SALARY = 30000\n",
    "    \n",
    "    def __init__(self, name, salary=Employee.MIN_SALARY):\n",
    "        self.name = name\n",
    "        if salary >= Employee.MIN_SALARY:\n",
    "            self.salary = salary\n",
    "        else:\n",
    "            self.salary = Employee.MIN_SALARY\n",
    "        \n",
    "    def give_raise(self, amount):\n",
    "        self.salary += amount      \n",
    "        \n",
    "# Define a new class Manager inheriting from Employee\n",
    "class Manager(Employee):\n",
    "    MIN_SALARY = 90000\n",
    "    \n",
    "    def __init__(self,name,salary = Manager.MIN_SALARY):\n",
    "        \n",
    "        Employee.__init__(self, name, salary)\n",
    "        self.name = name\n",
    "        self.salary = salary\n",
    "\n",
    "# Define a Manager object\n",
    "mng = Manager('Debbie Lashko',86500)\n",
    "mng11 = Manager('John')\n",
    "mng11.give_raise(5600)\n",
    "\n",
    "# Print mng's name\n",
    "mng.name\n",
    "mng.salary\n",
    "\n",
    "mng11.salary"
   ]
  },
  {
   "cell_type": "markdown",
   "id": "d04f4eb1-e868-4f36-b2b8-fa096357af8e",
   "metadata": {},
   "source": [
    "## Customizing functionality via inheritance\n",
    "\n",
    "\n",
    "\n",
    "**customizing constructors\n",
    "\n",
    "Adding the specific SavingAccount constructor, it will take a balance parameter just like BankAccount, and an additional **interest_rate parameter. \n",
    "\n",
    "in that constructor, we __first run the code for creating a generic BankAccount by explicitly calling the __init__ method of the BankAccount class. then we can add more functionality. \n",
    "\n",
    "**in this case just initializing an attribute --interest_rate"
   ]
  },
  {
   "cell_type": "code",
   "execution_count": 12,
   "id": "23b898ea-251b-4e4d-b56e-5f18e4d40c07",
   "metadata": {},
   "outputs": [],
   "source": [
    "class BankAccount:\n",
    "    def __init__(self,balance):\n",
    "        self.balance = balance\n",
    "        \n",
    "class SavingAccount(BankAccount):\n",
    "    def __init__(self,balance,interest_rate):\n",
    "        BankAccount.__init__(self,balance)\n",
    "        self.interest_rate = interest_rate"
   ]
  },
  {
   "cell_type": "code",
   "execution_count": 32,
   "id": "b1708dfd-cca3-428a-9b97-52ea9fca8a61",
   "metadata": {},
   "outputs": [
    {
     "ename": "TypeError",
     "evalue": "withdraw() got an unexpected keyword argument 'fee'",
     "output_type": "error",
     "traceback": [
      "\u001b[0;31m---------------------------------------------------------------------------\u001b[0m",
      "\u001b[0;31mTypeError\u001b[0m                                 Traceback (most recent call last)",
      "\u001b[0;32m/tmp/ipykernel_55664/3837729264.py\u001b[0m in \u001b[0;36m<module>\u001b[0;34m\u001b[0m\n\u001b[1;32m     79\u001b[0m \u001b[0mbank_acct\u001b[0m\u001b[0;34m.\u001b[0m\u001b[0mbalance\u001b[0m\u001b[0;34m\u001b[0m\u001b[0;34m\u001b[0m\u001b[0m\n\u001b[1;32m     80\u001b[0m \u001b[0;34m\u001b[0m\u001b[0m\n\u001b[0;32m---> 81\u001b[0;31m \u001b[0mbank_acct\u001b[0m\u001b[0;34m.\u001b[0m\u001b[0mwithdraw\u001b[0m\u001b[0;34m(\u001b[0m\u001b[0;36m200\u001b[0m\u001b[0;34m,\u001b[0m\u001b[0mfee\u001b[0m \u001b[0;34m=\u001b[0m \u001b[0;36m15\u001b[0m\u001b[0;34m)\u001b[0m\u001b[0;34m\u001b[0m\u001b[0;34m\u001b[0m\u001b[0m\n\u001b[0m\u001b[1;32m     82\u001b[0m \u001b[0mbank_acct\u001b[0m\u001b[0;34m.\u001b[0m\u001b[0mbalance\u001b[0m\u001b[0;34m\u001b[0m\u001b[0;34m\u001b[0m\u001b[0m\n",
      "\u001b[0;31mTypeError\u001b[0m: withdraw() got an unexpected keyword argument 'fee'"
     ]
    }
   ],
   "source": [
    "class BankAccount:\n",
    "    def __init__(self,balance):\n",
    "        self.balance = balance\n",
    "        \n",
    "    def withdraw(self,amount):\n",
    "        self.balance -= amount\n",
    "    \n",
    "    \n",
    "class SavingAccount(BankAccount):\n",
    "    # constructor specifically for SavingAccount with additional parameter -interest_rate\n",
    "    def __init__(self,balance,interest_rate):\n",
    "        # ------------------------------------------------------------- #\n",
    "        # call the parent constructor using class.__init__()\n",
    "        BankAccount.__init__(self,balance)\n",
    "        self.interest_rate = interest_rate # <= add more functionality, initializing an attribute\n",
    "    \n",
    "    \n",
    "    # SavingAccount have inherited the withdraw() method from parent class, no need to define it\n",
    "    \n",
    "        \n",
    "    # add new functionality\n",
    "    def compute_interest(self,n_periods = 1):\n",
    "        return self.balance * ((1 + self.interest_rate)**n_periods - 1)\n",
    "    \n",
    "    \n",
    "class CheckingAccount(BankAccount):\n",
    "    def __init__(self, balance, limit):\n",
    "        BankAccount.__init__(self,balance)\n",
    "        self.limit = limit\n",
    "        \n",
    "    def deposit(self, amount):\n",
    "        self.balance += amount\n",
    "        \n",
    "    def withdraw(self, amount,fee=0):\n",
    "        # <= customizing functionality based on BankAccount\n",
    "        \n",
    "        if fee <= self.limit:          ############ change the signature of method in sub class\n",
    "            BankAccount.withdraw(self, amount - fee)\n",
    "            # notice that we can change the signature of the method in the sub class by adding a parameter\n",
    "        else:\n",
    "            # <= use Parent.method(self,args) to call a method from the parent class   *******\n",
    "            BankAccount.withdraw(self, amount - self.limit)  \n",
    "            \n",
    "            \n",
    "bank = BankAccount(5000)\n",
    "bank.withdraw(100)\n",
    "bank.balance\n",
    "\n",
    "# construct the object using the new constructor\n",
    "acct = SavingAccount(50000,0.03)\n",
    "acct.interest_rate\n",
    "\n",
    "\n",
    "check_acct = CheckingAccount(1000,limit=25)\n",
    "check_acct.balance\n",
    "check_acct.deposit(1000)\n",
    "check_acct.balance\n",
    "\n",
    "\n",
    "# ------------------------------------------------------------------------- #\n",
    "# Now when we call withdraw() method from an object that is a CheckAccount instance, \n",
    "# the new customized version will be used, The interface of the call is the same, \n",
    "# and the actually method that is called is determined by the instance class\n",
    "########## will call withdraw from checking account\n",
    "check_acct.withdraw(200)\n",
    "check_acct.balance\n",
    "\n",
    "\n",
    "# ------------------------------------------------------------------------- #\n",
    "# Another difference is that for a CheckAccount instance, we can call the\n",
    "# method with 2 parameters not BankAccount, becaused the method has customized\n",
    "check_acct.withdraw(200,fee = 15) # <= or just .withdraw(200, 15) \n",
    "check_acct.balance\n",
    "\n",
    "\n",
    "bank_acct = BankAccount(1000)\n",
    "# will call withdraw from bank account\n",
    "bank_acct.withdraw(200)\n",
    "bank_acct.balance\n",
    "\n",
    "bank_acct.withdraw(200,fee = 15)\n",
    "bank_acct.balance"
   ]
  },
  {
   "cell_type": "markdown",
   "id": "15976c06-3266-48d9-b425-9c0358ab2809",
   "metadata": {},
   "source": [
    "\n",
    "### Method inheritance\n",
    "\n",
    "\n",
    "\n",
    "Inheritance is powerful because it allows us to reuse and customize code without rewriting existing code. By calling methods of the parent class within the child class, we reuse all the code in those methods, making our code concise and manageable.\n",
    "\n",
    "In this exercise, you'll continue working with the Manager class that is inherited from the Employee class. You'll add new data to the class, and __customize the give_raise() method from Chapter 1 to increase the manager's raise amount by a bonus percentage whenever they are given a raise.\n",
    "\n",
    "A simplified version of the Employee class, as well as the beginning of the Manager class from the previous lesson is provided for you in the script pane.\n",
    "\n",
    "\n",
    "Add a constructor to Manager that:\n",
    "\n",
    "    accepts name, salary (default 50000), and project (default None)\n",
    "    calls the constructor of the Employee class with the name and salary parameters,\n",
    "    creates a project attribute and sets it to the project parameter.\n"
   ]
  },
  {
   "cell_type": "code",
   "execution_count": 23,
   "id": "e7bc0f23-0111-4d81-b079-bffed08094f3",
   "metadata": {},
   "outputs": [
    {
     "data": {
      "text/plain": [
       "103500"
      ]
     },
     "execution_count": 23,
     "metadata": {},
     "output_type": "execute_result"
    }
   ],
   "source": [
    "class Employee:\n",
    "    def __init__(self, name, salary=30000):\n",
    "        self.name = name\n",
    "        self.salary = salary\n",
    "\n",
    "    def give_raise(self, amount):\n",
    "        self.salary += amount\n",
    "\n",
    "        \n",
    "class Manager(Employee):\n",
    "  # Add a constructor \n",
    "    def __init__(self, name, salary = 50000, project = None):\n",
    "\n",
    "        # Call the parent's constructor   \n",
    "        Employee.__init__(self, name, salary)\n",
    "\n",
    "        # Assign project attribute\n",
    "        self.project = project  \n",
    "        \n",
    "        \n",
    "    def give_raise(self,percentage):\n",
    "        self.salary = round(self.salary*(1+percentage))\n",
    "\n",
    "  \n",
    "    def display(self):\n",
    "        print(\"Manager \", self.name)\n",
    "        \n",
    "        \n",
    "emp1 = Employee('John',80000)\n",
    "emp1.give_raise(2000)\n",
    "emp1.salary\n",
    "\n",
    "mng1 = Manager('John',90000)\n",
    "mng1.give_raise(0.15)\n",
    "mng1.salary"
   ]
  },
  {
   "cell_type": "code",
   "execution_count": 28,
   "id": "7fee9549-7fe0-41be-b0e8-019b98a38370",
   "metadata": {},
   "outputs": [
    {
     "data": {
      "text/plain": [
       "78400.0"
      ]
     },
     "execution_count": 28,
     "metadata": {},
     "output_type": "execute_result"
    }
   ],
   "source": [
    "class Employee:\n",
    "    MIN_SALARY = 60000\n",
    "    \n",
    "    def __init__(self, name, salary=Employee.MIN_SALARY):\n",
    "        self.name = name\n",
    "        self.salary = salary\n",
    "\n",
    "    def give_raise(self, amount):\n",
    "        self.salary += amount\n",
    "\n",
    "        \n",
    "class Manager(Employee):\n",
    "    MIN_SALARY = 70000\n",
    "    \n",
    "  # Add a constructor \n",
    "    def __init__(self, name, salary=Manager.MIN_SALARY, project=0):\n",
    "        Employee.__init__(self,name,salary)\n",
    "        self.project = project # <= can we not wrote these lines? self.project = project\n",
    "\n",
    "    def give_rise(self,percentage): # (self,name,salary,amount)\n",
    "\n",
    "        # Assign project attribute\n",
    "        self.salary = round(self.salary * (1 + percentage), 1) \n",
    "\n",
    "  \n",
    "    def display(self):\n",
    "        print(\"Manager \", self.name)\n",
    "        \n",
    "        \n",
    "        \n",
    "Manager('John').salary\n",
    "\n",
    "Manager('John',project = 12).give_rise(0.15)\n",
    "mng11 = Manager('John', project = 12)\n",
    "mng11.give_rise(0.12)\n",
    "mng11.salary\n",
    "\n",
    "#Manager('John',project = 12).salary\n",
    "\n",
    "#\n",
    "#jhu = Manager('John',project = 12)\n",
    "#jhu.give_rise(amount = 5000)\n",
    "#jhu.project\n",
    "#\n",
    "#joh = Manager('Jhu')\n",
    "#joh.project\n",
    "###jhu.salary"
   ]
  },
  {
   "cell_type": "code",
   "execution_count": 86,
   "id": "2b906408-bc07-4b3a-ac1a-3e3e95ef5a50",
   "metadata": {},
   "outputs": [
    {
     "name": "stdout",
     "output_type": "stream",
     "text": [
      "Manager  John\n"
     ]
    },
    {
     "data": {
      "text/plain": [
       "12"
      ]
     },
     "execution_count": 86,
     "metadata": {},
     "output_type": "execute_result"
    }
   ],
   "source": [
    "class Employee:\n",
    "    def __init__(self, name, salary=30000):\n",
    "        self.name = name\n",
    "        self.salary = salary\n",
    "\n",
    "    def give_raise(self, amount):\n",
    "        self.salary += amount\n",
    "\n",
    "        \n",
    "class Manager(Employee):\n",
    "  # Add a constructor \n",
    "    def __init__(self, name, salary=50000, project=None):\n",
    "\n",
    "        # Call the parent's constructor   \n",
    "        Employee.__init__(self, name, salary)\n",
    "\n",
    "        # Assign project attribute\n",
    "        self.project = project  \n",
    "\n",
    "  \n",
    "    def display(self):\n",
    "        print(\"Manager \", self.name)\n",
    "        \n",
    "jhu = Manager('John',project=12)\n",
    "jhu.display()\n",
    "\n",
    "jhu.project"
   ]
  },
  {
   "cell_type": "markdown",
   "id": "578e6ef3-fa86-4d31-bd4b-0bc8f82b29db",
   "metadata": {},
   "source": [
    "### Inheritance of class attributes\n",
    "\n",
    "\n",
    "In the beginning of this chapter, you learned about class attributes and methods that are shared among all the instances of a class. How do they work with inheritance?\n",
    "\n",
    "In this exercise, you'll create subclasses of the Player class from the first lesson of the chapter, and explore the inheritance of class attributes and methods.\n",
    "\n",
    "The Player class has been defined for you. Recall that the Player class had two **class-level attributes: MAX_POSITION and MAX_SPEED, with default values 10 and 3.\n",
    "\n",
    "    Create a class Racer inherited from Player,\n",
    "    Assign 5 to MAX_SPEED in the body of the class.  ***************\n",
    "    Create a Player object p and a Racer object r (no arguments needed for the constructor).\n",
    "\n",
    "Examine the printouts carefully. Next step is a quiz!"
   ]
  },
  {
   "cell_type": "code",
   "execution_count": 37,
   "id": "78aaa98f-611f-49aa-8287-5e01d9211470",
   "metadata": {},
   "outputs": [
    {
     "name": "stdout",
     "output_type": "stream",
     "text": [
      "p.MAX_SPEED =  3\n",
      "r.MAX_SPEED =  5\n",
      "p.MAX_POSITION =  10\n",
      "r.MAX_POSITION =  10\n"
     ]
    }
   ],
   "source": [
    "class Player:\n",
    "    MAX_SPEED = 3\n",
    "    MAX_POSITION = 10\n",
    "    \n",
    "    def __init__(self):\n",
    "        pass\n",
    "\n",
    "\n",
    "# Create a Racer class and set MAX_SPEED to 5\n",
    "class Racer(Player):\n",
    "    MAX_SPEED = 5\n",
    "\n",
    "    def __init__(self):\n",
    "        pass\n",
    "    \n",
    "    \n",
    "# Create a Player and a Racer objects\n",
    "p = Player()\n",
    "r = Racer()\n",
    "\n",
    "print(\"p.MAX_SPEED = \", p.MAX_SPEED)\n",
    "print(\"r.MAX_SPEED = \", r.MAX_SPEED)\n",
    "\n",
    "print(\"p.MAX_POSITION = \", p.MAX_POSITION)\n",
    "print(\"r.MAX_POSITION = \", r.MAX_POSITION)"
   ]
  },
  {
   "cell_type": "code",
   "execution_count": 39,
   "id": "5f57cf0a-8817-4b82-aded-e8950bff8c30",
   "metadata": {},
   "outputs": [
    {
     "name": "stdout",
     "output_type": "stream",
     "text": [
      "p.MAX_SPEED =  3\n",
      "r.MAX_SPEED =  5\n",
      "p.MAX_POSITION =  10\n",
      "r.MAX_POSITION =  10\n"
     ]
    }
   ],
   "source": [
    "class Player:\n",
    "    \n",
    "    # ------------------------------------------------------------------------- #\n",
    "    # <= its not set default value of attribute in the constructor\n",
    "    def __init__(self,MAX_POSITION=10,MAX_SPEED=3):\n",
    "        self.MAX_POSITION = MAX_POSITION\n",
    "        self.MAX_SPEED = MAX_SPEED\n",
    "\n",
    "# Create a Racer class and set MAX_SPEED to 5\n",
    "class Racer(Player):\n",
    "    def __init__(self,MAX_POSITION=10,MAX_SPEED=5):  # <= the uncalled pramater needs a default value\n",
    "        Player.__init__(self,MAX_POSITION=10,MAX_SPEED=3) \n",
    "        self.MAX_SPEED = MAX_SPEED\n",
    "        \n",
    "# Create a Player and a Racer objects\n",
    "p = Player()\n",
    "r = Racer()\n",
    "\n",
    "print(\"p.MAX_SPEED = \", p.MAX_SPEED)\n",
    "print(\"r.MAX_SPEED = \", r.MAX_SPEED)\n",
    "\n",
    "print(\"p.MAX_POSITION = \", p.MAX_POSITION)\n",
    "print(\"r.MAX_POSITION = \", r.MAX_POSITION) "
   ]
  },
  {
   "cell_type": "code",
   "execution_count": 40,
   "id": "28deae1d-d213-414e-8803-1a7ddda7a206",
   "metadata": {},
   "outputs": [
    {
     "name": "stdout",
     "output_type": "stream",
     "text": [
      "p.MAX_SPEED =  3\n",
      "r.MAX_SPEED =  5\n",
      "p.MAX_POSITION =  10\n",
      "r.MAX_POSITION =  10\n"
     ]
    }
   ],
   "source": [
    "class Player:\n",
    "    def __init__(self,MAX_POSITION=10,MAX_SPEED=3):\n",
    "        self.MAX_POSITION = MAX_POSITION\n",
    "        self.MAX_SPEED = MAX_SPEED\n",
    "\n",
    "# Create a Racer class and set MAX_SPEED to 5\n",
    "class Racer(Player):\n",
    "    def __init__(self,MAX_SPEED=5):\n",
    "        # <= dont need the MAX_POSITION attribute inherited from Player()\n",
    "        Player.__init__(self,MAX_POSITION=10,MAX_SPEED=3) \n",
    "        self.MAX_SPEED = MAX_SPEED\n",
    "        \n",
    "# Create a Player and a Racer objects\n",
    "p = Player()\n",
    "r = Racer()\n",
    "\n",
    "print(\"p.MAX_SPEED = \", p.MAX_SPEED)\n",
    "print(\"r.MAX_SPEED = \", r.MAX_SPEED)\n",
    "\n",
    "print(\"p.MAX_POSITION = \", p.MAX_POSITION)\n",
    "print(\"r.MAX_POSITION = \", r.MAX_POSITION)"
   ]
  },
  {
   "cell_type": "markdown",
   "id": "b9ee27ce-0781-4db5-ac36-b6f2a6c2c451",
   "metadata": {},
   "source": [
    "## I'm guessing the better way is to set default value in the body of class, before its constructor,\n",
    "## in order to avoid this odd situation, WHAT HAPPENED HERE ??\n"
   ]
  },
  {
   "cell_type": "code",
   "execution_count": 41,
   "id": "d6e4ce73-1327-4c63-aa8b-1539274f32c8",
   "metadata": {},
   "outputs": [
    {
     "name": "stdout",
     "output_type": "stream",
     "text": [
      "p.MAX_SPEED =  3\n",
      "r.MAX_SPEED =  5\n",
      "p.MAX_POSITION =  10\n",
      "r.MAX_POSITION =  5\n"
     ]
    }
   ],
   "source": [
    "class Player:\n",
    "    def __init__(self,MAX_POSITION=10,MAX_SPEED=3):\n",
    "        self.MAX_POSITION = MAX_POSITION\n",
    "        self.MAX_SPEED = MAX_SPEED\n",
    "\n",
    "# Create a Racer class and set MAX_SPEED to 5\n",
    "class Racer(Player):\n",
    "    def __init__(self,MAX_SPEED=5):\n",
    "        Player.__init__(self,MAX_SPEED)  # <= dont need the MAX_POSITION attribute inherited\n",
    "        self.MAX_SPEED = MAX_SPEED  # <= without it the MAX_SPEED inherit from Player()\n",
    "        \n",
    "# Create a Player and a Racer objects\n",
    "p = Player()\n",
    "r = Racer()\n",
    "\n",
    "print(\"p.MAX_SPEED = \", p.MAX_SPEED)\n",
    "print(\"r.MAX_SPEED = \", r.MAX_SPEED)\n",
    "\n",
    "print(\"p.MAX_POSITION = \", p.MAX_POSITION)\n",
    "print(\"r.MAX_POSITION = \", r.MAX_POSITION)  # <= where does MAX_POSITION = 5 come from?\n",
    "\n",
    "\n",
    "# I'm guessing the better way is to set default value in the body of class, before its constructor,\n",
    "# in order to avoid this odd situation, WHAT HAPPENED HERE ??"
   ]
  },
  {
   "cell_type": "markdown",
   "id": "1dc90d1e-c19e-4119-8415-e753fdedb0b4",
   "metadata": {},
   "source": [
    "## Customizing a DataFrame\n",
    "\n",
    "\n",
    "In your company, any data has to come with a timestamp recording when the dataset was created, to make sure that outdated information is not being used. You would like to use pandas DataFrames for processing data, but you would need to customize the class to allow for the use of timestamps.\n",
    "\n",
    "In this exercise, you will implement a small LoggedDF class that inherits from a regular pandas DataFrame but __has a created_at attribute storing the timestamp__. You will then augment the standard to_csv() method to always include a column storing the creation date.\n",
    "\n",
    "Tip: all DataFrame methods have many parameters, and it is not sustainable to copy all of them for each method you're customizing. The trick is to use variable-length arguments *args and **kwargs to catch all of them.\n",
    "\n",
    "\n",
    "    Import pandas as pd.\n",
    "    Define LoggedDF class inherited from pd.DataFrame.\n",
    "    \n",
    "    Define a constructor with arguments *args and **kwargs that:\n",
    "        \n",
    "        calls the pd.DataFrame constructor with the same arguments,\n",
    "        assigns datetime.today() to self.created_at.\n"
   ]
  },
  {
   "cell_type": "code",
   "execution_count": 42,
   "id": "aac9af57-85b1-4ccc-839a-0416dba04498",
   "metadata": {},
   "outputs": [
    {
     "name": "stdout",
     "output_type": "stream",
     "text": [
      "[]\n",
      "2021-09-22 09:05:18.872281\n"
     ]
    }
   ],
   "source": [
    "# Import pandas as pd\n",
    "import pandas as pd\n",
    "from datetime import datetime\n",
    "\n",
    "# Define LoggedDF inherited from pd.DataFrame and add the constructor\n",
    "class LoggedDF(pd.DataFrame):\n",
    "    def __init__(self,created_at,*args,**kwargs):  \n",
    "                      # <= so when passing *args from parent class, \n",
    "                      # we set other atributs outside of __init__() method constructor ?\n",
    "        pd.DataFrame.__init__(self,*args,**kwargs) # <= ???\n",
    "        self.created_at = datetime.today()\n",
    "\n",
    "        \n",
    "ldf = LoggedDF({\"col1\": [1,2], \"col2\": [3,4]})\n",
    "print(ldf.values)\n",
    "print(ldf.created_at)"
   ]
  },
  {
   "cell_type": "code",
   "execution_count": 43,
   "id": "4e8e9e59-93e3-4fca-822a-c381370dcc41",
   "metadata": {},
   "outputs": [
    {
     "name": "stdout",
     "output_type": "stream",
     "text": [
      "[[1 3]\n",
      " [2 4]]\n",
      "2021-09-22 09:05:33.343572\n"
     ]
    }
   ],
   "source": [
    "# Import pandas as pd\n",
    "import pandas as pd\n",
    "from datetime import datetime\n",
    "\n",
    "# Define LoggedDF inherited from pd.DataFrame and add the constructor\n",
    "class LoggedDF(pd.DataFrame):\n",
    "  \n",
    "  def __init__(self, *args, **kwargs):\n",
    "        pd.DataFrame.__init__(self, *args, **kwargs)\n",
    "        \n",
    "        self.created_at = datetime.today()\n",
    "    \n",
    "    \n",
    "ldf = LoggedDF({\"col1\": [1,2], \"col2\": [3,4]})\n",
    "print(ldf.values)\n",
    "print(ldf.created_at)"
   ]
  },
  {
   "cell_type": "markdown",
   "id": "570d3a70-a384-4ec2-b4bb-0c13ffb26bbc",
   "metadata": {},
   "source": [
    "## Operator overloading: comparison\n",
    "\n"
   ]
  },
  {
   "cell_type": "code",
   "execution_count": 36,
   "id": "73590a14-0cf7-4ac3-b9e5-a6b274ea9a8e",
   "metadata": {},
   "outputs": [
    {
     "name": "stdout",
     "output_type": "stream",
     "text": [
      "<__main__.Customer object at 0x7f5f9864f490>\n",
      "<__main__.Customer object at 0x7f5f4f971610>\n"
     ]
    }
   ],
   "source": [
    "class Customer:\n",
    "    def __init__(self,name,balance,id):\n",
    "        self.name,self.balance,self.id = name,balance,id\n",
    "        \n",
    "cust1 = Customer('John',20000,964)\n",
    "cust2 = Customer('John',20000,964)\n",
    "\n",
    "cust1.name\n",
    "cust1.balance\n",
    "\n",
    "cust1==cust2\n",
    "\n",
    "print(cust1)\n",
    "print(cust2)  # <= Python allocate different chunk of memory to each object"
   ]
  },
  {
   "cell_type": "code",
   "execution_count": 46,
   "id": "a1851c14-7874-43e3-ab1b-d4cc8451a30d",
   "metadata": {},
   "outputs": [
    {
     "name": "stdout",
     "output_type": "stream",
     "text": [
      "[[ True  True  True  True]]\n",
      "[ True  True  True]\n",
      "[[12  3  4  8]]\n",
      "[[0 1 2]\n",
      " [0 2 4]\n",
      " [0 3 6]]\n"
     ]
    }
   ],
   "source": [
    "import numpy as np\n",
    "\n",
    "arry1 = np.array([[12,3,4,8]])\n",
    "arry2 = np.array([[12,3,4,8]])\n",
    "\n",
    "arr1 = np.array([1,2,3])\n",
    "arr2 = np.array([1,2,3])\n",
    "\n",
    "a = np.array([[0, 1, 2],\n",
    "              [0, 2, 4],\n",
    "              [0, 3, 6]])\n",
    "\n",
    "print(arry1 == arry2)  # <= in np or pd, different object with same data is equal\n",
    "print(arr1 == arr2)\n",
    "print(arry1)  # <= print the value of customer object\n",
    "print(a)"
   ]
  },
  {
   "cell_type": "markdown",
   "id": "9f6e4356-61d5-4f01-b9cf-c78b31d4474b",
   "metadata": {
    "tags": []
   },
   "source": [
    "## Overloading __eq__() method\n",
    "\n",
    "\n",
    "class Customer:\n",
    "    def __init__(self, id, name):\n",
    "        self.id, self.name = id, name\n",
    "    \n",
    "\n",
    "   **id we dont define it, when compare two object, Python compare by checking memory address\n",
    "   **whereas, two object were recoginzed as same thing if all attributes are equa\n",
    "   **Will be called when == is used**\n",
    "    def __eq__(self, other):  # accepts 2 arguments, self and other to compare\n",
    "        return (self.id == other.id) and (self.name == other.name)"
   ]
  },
  {
   "cell_type": "code",
   "execution_count": 44,
   "id": "41711e44-7aa3-46d9-8608-9f786a0802ba",
   "metadata": {},
   "outputs": [
    {
     "name": "stdout",
     "output_type": "stream",
     "text": [
      "__eq__ is called\n",
      "(20000, False, 964)\n",
      "<__main__.Customer object at 0x7ff8d83d6040>\n",
      "<__main__.Customer object at 0x7ff8d8350a60>\n"
     ]
    }
   ],
   "source": [
    "class Customer:\n",
    "    def __init__(self,name,balance,id):\n",
    "        self.name,self.balance,self.id = name,balance,id\n",
    "    \n",
    "    def __eq__(self,other):\n",
    "        print('__eq__ is called')\n",
    "        return (self.name == other.name) and \\\n",
    "    (self.balance,self.id == other.balance,other.id) \n",
    "        \n",
    "cust1 = Customer('John',20000,964)\n",
    "cust2 = Customer('John',20000,964)\n",
    "\n",
    "cust1.name\n",
    "cust1.balance\n",
    "\n",
    "print(cust1==cust2)\n",
    "\n",
    "print(cust1)\n",
    "print(cust2)  # <= Python allocate different chunk of memory to each object"
   ]
  },
  {
   "cell_type": "code",
   "execution_count": 45,
   "id": "81ae53e3-52ea-404b-a58e-c6993c033786",
   "metadata": {},
   "outputs": [
    {
     "name": "stdout",
     "output_type": "stream",
     "text": [
      "__eq__() method is called\n",
      "True\n",
      "<__main__.Customer object at 0x7ff8d8350040>\n",
      "<__main__.Customer object at 0x7ff8d840c280>\n"
     ]
    }
   ],
   "source": [
    "class Customer:\n",
    "    def __init__(self,name,balance,id):\n",
    "        self.name,self.balance,self.id = name,balance,id\n",
    "        \n",
    "    def __eq__(self,other):\n",
    "        print('__eq__() method is called')\n",
    "        \n",
    "        return self.name == other.name and \\\n",
    "               self.balance == other.balance and \\\n",
    "               self.id == other.id\n",
    "    \n",
    "cul1 = Customer('Jhu',20000,9854)\n",
    "cul2 = Customer('Jhu',20000,9854)\n",
    "\n",
    "print(cul1 == cul2)\n",
    "print(cul1)\n",
    "print(cul2)"
   ]
  },
  {
   "cell_type": "markdown",
   "id": "ee91d858-4817-4b8e-93e4-25153628e4a1",
   "metadata": {},
   "source": [
    "## Python comparison operators\n",
    "### that is if we need to customize those method\n",
    "==  __eq__()\n",
    "!=  __ne__()\n",
    ">=  __ge__()\n",
    "<=  __le__()\n",
    ">  __gt__()\n",
    "<  __lt__()"
   ]
  },
  {
   "cell_type": "markdown",
   "id": "d69ef210-55e6-41b4-aa23-3a7aaa627f42",
   "metadata": {},
   "source": [
    "## Overloading equality\n",
    "\n",
    "**When comparing two objects of a custom class using ==, Python by default compares just the object references, not the data contained in the objects**. To override this behavior, the class can implement the special __eq__() method, which accepts two arguments -- the objects to be compared -- and returns True or False. This method will be implicitly called when two objects are compared.\n",
    "\n",
    "The BankAccount class from the previous chapter is available for you in the script pane. It has one attribute, balance, and a withdraw() method. Two bank accounts with the same balance are not necessarily the same account, but a bank account usually has an account number, and two accounts with the same account number should be considered the same.\n",
    "\n",
    "\n",
    "\n",
    "Try selecting the code in lines 1-7 and pressing the \"Run code\" button. Then try to create a few BankAccount objects in the console and compare them.\n",
    "\n",
    "    Modify the __init__() method to accept a new parameter - number - and initialize a new number attribute.\n",
    "    Define an __eq__() method that returns True if the number attribute of two objects is equal.\n",
    "    Examine the print statements and the output in the console.\n",
    "\n",
    "\n",
    "Hint\n",
    "\n",
    "    The __eq__() method should accept two arguments, usually called self and other.\n",
    "    When adding parameters to __init__(), remember that parameters without default values should be placed before parameters that have default values.\n"
   ]
  },
  {
   "cell_type": "code",
   "execution_count": 48,
   "id": "0c21b41b-a156-436e-aaf8-c68b97b799cd",
   "metadata": {},
   "outputs": [
    {
     "name": "stdout",
     "output_type": "stream",
     "text": [
      "True\n",
      "False\n"
     ]
    }
   ],
   "source": [
    "class BankAccount:\n",
    "   # MODIFY to initialize a number attribute\n",
    "    def __init__(self, number, balance=0):\n",
    "        self.number = number\n",
    "        self.balance = balance\n",
    "        \n",
    "      \n",
    "    def withdraw(self, amount):\n",
    "        self.balance -= amount \n",
    "    \n",
    "    # Define __eq__ that returns True if the number attributes are equal \n",
    "    def __eq__(self,other):\n",
    "        return self.number == other.number   \n",
    "\n",
    "# Create accounts and compare them       \n",
    "acct1 = BankAccount(123, 1000)\n",
    "acct2 = BankAccount(123, 2000)\n",
    "acct3 = BankAccount(456, 3000)\n",
    "print(acct1 == acct2)\n",
    "print(acct1 == acct3)"
   ]
  },
  {
   "cell_type": "markdown",
   "id": "68048bb0-4d63-4367-a64a-545c8c93bd22",
   "metadata": {},
   "source": [
    "## Checking class equality\n",
    "\n",
    "In the previous exercise, you defined a BankAccount class with a number attribute that was used for comparison. But if you were to compare a BankAccount object to an object of another class that also has a number attribute, you could end up with unexpected results.\n",
    "\n",
    "For example, consider two classes"
   ]
  },
  {
   "cell_type": "code",
   "execution_count": 90,
   "id": "6cf897f1-9f90-4208-8894-43ee0d8fce6f",
   "metadata": {},
   "outputs": [
    {
     "name": "stdout",
     "output_type": "stream",
     "text": [
      "True\n",
      "True\n"
     ]
    }
   ],
   "source": [
    "class BankAccount:\n",
    "    def __init__(self, number, balance=0):\n",
    "        self.number, self.balance = number, balance\n",
    "      \n",
    "    def withdraw(self, amount):\n",
    "        self.balance -= amount \n",
    "\n",
    "    # MODIFY to add a check for the type()\n",
    "    def __eq__(self, other):\n",
    "        return (self.number == other.number)\n",
    "\n",
    "    \n",
    "class Phone:\n",
    "    def __init__(self,number,balance=0):\n",
    "        self.number,self.balance = number,balance\n",
    "        \n",
    "    def using(self,amount):   # <= interesting, even adding different methods\n",
    "        self.balance -= amount\n",
    "        \n",
    "    def __eq__(self,other):\n",
    "        return self.number,self.balance == bumber,balance\n",
    "    \n",
    "    \n",
    "acct = BankAccount(873555333,3000)\n",
    "pn = Phone(873555333,3000)\n",
    "acct.withdraw(3000)\n",
    "pn.using(3000)\n",
    "print(acct == pn)\n",
    "\n",
    "BankAccount(6000,5000).withdraw(2000)\n",
    "Phone(6000,5000).using(2000)\n",
    "print(acct == pn)"
   ]
  },
  {
   "cell_type": "markdown",
   "id": "15ec4183-3e8a-4fe8-a868-d224027181f9",
   "metadata": {},
   "source": [
    "### Checking class equality\n",
    "\n",
    "Both the Phone and the BankAccount classes have been defined. Try running the code as-is using the \"Run code\" button and examine the output.\n",
    "\n",
    "    Modify the definition of BankAccount to only return True if the number attribute is the same and the type() of both objects passed to it is the same.\n",
    "\n",
    "Run the code and examine the output again."
   ]
  },
  {
   "cell_type": "code",
   "execution_count": 51,
   "id": "20a1dc4b-390b-4b8e-93f7-e0683a26d979",
   "metadata": {},
   "outputs": [
    {
     "name": "stdout",
     "output_type": "stream",
     "text": [
      "True\n",
      "False\n",
      "False\n"
     ]
    }
   ],
   "source": [
    "class BankAccount:\n",
    "    def __init__(self, number, balance=0):\n",
    "        self.number, self.balance = number, balance\n",
    "      \n",
    "    def withdraw(self, amount):\n",
    "        self.balance -= amount \n",
    "\n",
    "    # MODIFY to add a check for the type()\n",
    "    def __eq__(self, other):\n",
    "        return (self.number == other.number) and \\\n",
    "        (type(self.number)==type(other.number))\n",
    "\n",
    "    \n",
    "class Phone:\n",
    "\n",
    "    def __init__(self, number): \n",
    "        self.number = number\n",
    "\n",
    "    def __eq__(self, other):\n",
    "        return (self.number == other.number) and type(self.number == other.number)\n",
    "\n",
    "    \n",
    "    \n",
    "acc1 = BankAccount(735553)\n",
    "pn1 = Phone(735553)\n",
    "print(acc1 == pn1)\n",
    "    \n",
    "acct = BankAccount('873555333')\n",
    "pn = Phone(873555333)\n",
    "print(acct == pn)\n",
    "\n",
    "acct1 = BankAccount('1234')\n",
    "acct2 = BankAccount(1234)\n",
    "print(acct1 == acct2)"
   ]
  },
  {
   "cell_type": "markdown",
   "id": "12850242-c4de-49cd-b1ad-7464d5dee794",
   "metadata": {},
   "source": [
    "## Comparison and inheritance\n",
    "\n",
    "\n",
    "What happens when an object is compared to an object of a child class? Consider the following two classes:\n",
    "\n",
    "The Child class inherits from the Parent class, and both implement the __eq__() method that includes a diagnostic printout."
   ]
  },
  {
   "cell_type": "code",
   "execution_count": 100,
   "id": "5078f975-0866-4ead-b51c-7fa2f07984d4",
   "metadata": {},
   "outputs": [
    {
     "name": "stdout",
     "output_type": "stream",
     "text": [
      "Child's __eq__() called\n"
     ]
    },
    {
     "data": {
      "text/plain": [
       "True"
      ]
     },
     "execution_count": 100,
     "metadata": {},
     "output_type": "execute_result"
    }
   ],
   "source": [
    "class Parent:\n",
    "    def __eq__(self, other):\n",
    "        print(\"Parent's __eq__() called\")\n",
    "        return True\n",
    "\n",
    "class Child(Parent):\n",
    "    def __eq__(self, other):\n",
    "        print(\"Child's __eq__() called\")\n",
    "        return True\n",
    "\n",
    "Parent()==Child()"
   ]
  },
  {
   "cell_type": "markdown",
   "id": "1b469358-a1c7-4eb7-b8a0-7c81880c9da9",
   "metadata": {},
   "source": [
    "## Operator overloading: string representation\n",
    "\n"
   ]
  },
  {
   "cell_type": "code",
   "execution_count": 105,
   "id": "fe47b36d-5cfe-41a5-bc09-694568a0238f",
   "metadata": {},
   "outputs": [
    {
     "name": "stdout",
     "output_type": "stream",
     "text": [
      "[1, 4, 21, 3, 9]\n",
      "<class 'list'>\n"
     ]
    }
   ],
   "source": [
    "das = [1,4,21,3,9]\n",
    "print(das)\n",
    "print(type(das))"
   ]
  },
  {
   "cell_type": "code",
   "execution_count": 111,
   "id": "b78e9ff2-7911-41fb-9cbf-1c47c25d8043",
   "metadata": {},
   "outputs": [
    {
     "name": "stdout",
     "output_type": "stream",
     "text": [
      "<__main__.Customer object at 0x7f5f4f8d2be0>\n"
     ]
    }
   ],
   "source": [
    "class Customer:\n",
    "    def __init__(self,name,balance,id):\n",
    "        self.name,self.balance,self.id = name,balance,id\n",
    "\n",
    "\n",
    "cust1 = Customer('John',20000,1863)\n",
    "print(cust1)  # <= it returns an object's address on the memory by default"
   ]
  },
  {
   "cell_type": "markdown",
   "id": "8bf9e249-ed32-470a-be5b-3f3cb97f18d0",
   "metadata": {},
   "source": [
    "### but there are plenty of classesfor which the printout is much more informative\n",
    "### if printout a np array or pd DataFrame, we can see actual data contained in the object\n",
    "\n",
    "\n",
    "Printing an object, there are two specially method can be defined in the class that will return a printable representation of an object.  \n",
    "\n",
    "__str__() method and __repr__() method\n",
    "\n",
    "print(obj) or str(obj)  and  repr(obj)\n",
    " "
   ]
  },
  {
   "cell_type": "code",
   "execution_count": 108,
   "id": "e92f8d1e-622b-437d-a33a-f5f6509afb97",
   "metadata": {},
   "outputs": [
    {
     "name": "stdout",
     "output_type": "stream",
     "text": [
      "[2 9 6 4 3]\n"
     ]
    }
   ],
   "source": [
    "import numpy as np\n",
    "\n",
    "ab = np.array([2,9,6,4,3])\n",
    "print(ab)"
   ]
  },
  {
   "cell_type": "code",
   "execution_count": 109,
   "id": "164ede8f-5e98-4e78-87ab-9c2c24cfaaee",
   "metadata": {},
   "outputs": [
    {
     "data": {
      "text/plain": [
       "'[2 9 6 4 3]'"
      ]
     },
     "execution_count": 109,
     "metadata": {},
     "output_type": "execute_result"
    }
   ],
   "source": [
    "str(ab)"
   ]
  },
  {
   "cell_type": "code",
   "execution_count": 110,
   "id": "2f2149f9-ba38-4fc8-b77f-0df2c7cfff93",
   "metadata": {},
   "outputs": [
    {
     "data": {
      "text/plain": [
       "'array([2, 9, 6, 4, 3])'"
      ]
     },
     "execution_count": 110,
     "metadata": {},
     "output_type": "execute_result"
    }
   ],
   "source": [
    "repr(ab)"
   ]
  },
  {
   "cell_type": "markdown",
   "id": "92e0081d-1aca-4f07-a672-df3c9dcfb400",
   "metadata": {},
   "source": [
    "### Triple quotes are used in Python to define multi-line strings\n",
    "### format() method is used on strings to substitute values inside {} curly bracket with variables\n",
    "\n",
    "\n",
    "\n",
    "# The best practics is to use __repr__ to print a string that can be used to reproduce the objuct. \n",
    "\n",
    "**following the best practices, we make sure that __repr__ returns the string that can be reproduce the object, in this case, the extract initialization call.  "
   ]
  },
  {
   "cell_type": "code",
   "execution_count": 76,
   "id": "38e6dbb4-77dd-477e-9c3a-64d466bcfce5",
   "metadata": {},
   "outputs": [
    {
     "name": "stdout",
     "output_type": "stream",
     "text": [
      "\n",
      "        Customer:\n",
      "          name: John\n",
      "          balance: 30000\n",
      "          id: 1763\n"
     ]
    },
    {
     "data": {
      "text/plain": [
       "Customer: (name =John, balance =30000, id =1763)"
      ]
     },
     "execution_count": 76,
     "metadata": {},
     "output_type": "execute_result"
    }
   ],
   "source": [
    "class Customer:\n",
    "    def __init__(self,name,balance,id):\n",
    "        self.name,self.balance,self.id = name,balance,id\n",
    "    \n",
    "    def __str__(self):\n",
    "                   # <= Triple quotes are used in Python to define multi-line strings\n",
    "        cust_str = '''\n",
    "        Customer:\n",
    "          name: {name}\n",
    "          balance: {balance}\n",
    "          id: {id}'''.format(name = self.name,balance = self.balance,\\\n",
    "                           id = self.id)\n",
    "        return cust_str\n",
    "    \n",
    "    def __repr__(self):\n",
    "        cust_repr = '''Customer: (name ={name}, balance ={balance}, id ={id})'''\\\n",
    "        .format(name= self.name,balance = self.balance,id = self.id)\n",
    "        return cust_repr\n",
    "\n",
    "cust1 = Customer('John',30000,1763)\n",
    "print(cust1)\n",
    "str(cust1)\n",
    "cust1\n",
    "#repr(cust1)"
   ]
  },
  {
   "cell_type": "code",
   "execution_count": 59,
   "id": "c96af554-4541-4f56-aab3-7cfc858eaa97",
   "metadata": {},
   "outputs": [
    {
     "name": "stdout",
     "output_type": "stream",
     "text": [
      "Customer: name=John, balance=30000, id=1763\n"
     ]
    },
    {
     "data": {
      "text/plain": [
       "'Customer:(name =John, balance =30000, id =1763)'"
      ]
     },
     "execution_count": 59,
     "metadata": {},
     "output_type": "execute_result"
    }
   ],
   "source": [
    "class Customer:\n",
    "    def __init__(self,name,balance,id):\n",
    "        self.name,self.balance,self.id = name,balance,id\n",
    "    \n",
    "    def __str__(self):\n",
    "                   # <= Triple quotes are used in Python to define multi-line strings\n",
    "        cust_str = \"Customer: name={name}, balance={balance}, id={id}\"\\\n",
    "        .format(name = self.name,balance = self.balance,id = self.id)\n",
    "        return cust_str\n",
    "    \n",
    "    def __repr__(self):\n",
    "        cust_repr = \"Customer:(name ={name}, balance ={balance}, id ={id})\"\\\n",
    "        .format(name= self.name,balance = self.balance,id = self.id)\n",
    "        return cust_repr\n",
    "\n",
    "cust1 = Customer('John',30000,1763)\n",
    "print(cust1)\n",
    "cust1\n",
    "str(cust1)\n",
    "repr(cust1)"
   ]
  },
  {
   "cell_type": "markdown",
   "id": "de53ba77-68b5-4368-821c-e9c24fdeb5ae",
   "metadata": {},
   "source": [
    "## String formatting review\n",
    "\n",
    "Before you start defining custom string representations for objects, make sure you are comfortable working with strings and formatting them. If you need a refresher, take a minute to look through the official Python tutorial on string formatting.\n",
    "\n",
    "In this exercise, consider the following code\n",
    "\n",
    "my_num = 5\n",
    "my_str = \"Hello\"\n",
    "\n",
    "f = ...\n",
    "print(f)\n",
    "\n",
    "where the definition for f is missing.\n",
    "\n",
    "Here are a few possible variants for the definition of f:\n",
    "\n",
    "\n",
    "f = \"my_num is {0}, and my_str is {1}.\".format(my_num, my_str)\n",
    "\n",
    "f = \"my_num is {}, and my_str is \\\"{}\\\".\".format(my_num, my_str)\n",
    "\n",
    "f = \"my_num is {n}, and my_str is '{s}'.\".format(n=my_num, s=my_str)\n",
    "\n",
    "f = \"my_num is {my_num}, and my_str is '{my_str}'.\".format()\n",
    "\n",
    "\n",
    "\n",
    "Question\n",
    "\n",
    "Pick the definition of f that will make the code above print exactly the following:\n",
    "\n",
    "**my_num is 5, and my_str is \"Hello\".\n",
    "\n",
    "There is only one correct answer! Feel free to use the script pane or console to experiment."
   ]
  },
  {
   "cell_type": "code",
   "execution_count": 178,
   "id": "d6fc65c8-9e6f-429a-9ceb-5deba51d0cae",
   "metadata": {},
   "outputs": [
    {
     "name": "stdout",
     "output_type": "stream",
     "text": [
      "my_num is 5, and my_str is Hello.\n"
     ]
    }
   ],
   "source": [
    "my_num = 5\n",
    "my_str = \"Hello\"\n",
    "\n",
    "\n",
    "f = \"my_num is {0}, and my_str is {1}.\".format(my_num, my_str)\n",
    "\n",
    "print(f)"
   ]
  },
  {
   "cell_type": "code",
   "execution_count": 187,
   "id": "d5d2d87d-8794-42b9-bc7f-6588834ef498",
   "metadata": {},
   "outputs": [
    {
     "name": "stdout",
     "output_type": "stream",
     "text": [
      "my_num is 5, and my_str is \"Hello\".\n"
     ]
    }
   ],
   "source": [
    "my_num = 5\n",
    "my_str = \"Hello\"\n",
    "\n",
    "\n",
    "f = \"my_num is {}, and my_str is \\\"{}\\\".\".format(my_num, my_str)\n",
    "\n",
    "print(f)"
   ]
  },
  {
   "cell_type": "code",
   "execution_count": 180,
   "id": "5fbd446e-ea7e-40d4-a765-2c7b330b6113",
   "metadata": {},
   "outputs": [
    {
     "name": "stdout",
     "output_type": "stream",
     "text": [
      "my_num is 5, and my_str is 'Hello'.\n"
     ]
    }
   ],
   "source": [
    "my_num = 5\n",
    "my_str = \"Hello\"\n",
    "\n",
    "\n",
    "f = \"my_num is {n}, and my_str is '{s}'.\".format(n=my_num, s=my_str)\n",
    "\n",
    "print(f)"
   ]
  },
  {
   "cell_type": "code",
   "execution_count": 60,
   "id": "3fb2d989-857b-42f7-a3ba-5eaefad3b13b",
   "metadata": {},
   "outputs": [
    {
     "name": "stdout",
     "output_type": "stream",
     "text": [
      "my_num is 5, and my_str is \"Hello\".\n"
     ]
    }
   ],
   "source": [
    "my_num = 5\n",
    "my_str = \"Hello\"\n",
    "\n",
    "\n",
    "f = '''my_num is {n}, and my_str is \"{s}\".'''.format(n=my_num, s=my_str)\n",
    "\n",
    "print(f)"
   ]
  },
  {
   "cell_type": "markdown",
   "id": "2cfbbea3-a515-4b3b-82b6-b07531ed773c",
   "metadata": {},
   "source": [
    "### String representation of objects\n",
    "\n",
    "\n",
    "\n",
    "There are two special methods in Python that return a string representation of an object. __str__() is called when you use print() or str() on an object, and __repr__() is called when you use repr() on an object, print the object in the console without calling print(), or instead of __str__() if __str__() is not defined.\n",
    "\n",
    "__str__() is supposed to provide a \"user-friendly\" output describing an object, and __repr__() should return the expression that, when evaluated, will return the same object, ensuring the reproducibility of your code.\n",
    "\n",
    "In this exercise, you will continue working with the Employee class from Chapter 2.\n",
    "\n",
    "\n",
    "### Hint\n",
    "\n",
    "    You can use triple quotes \"\"\" to define multi-line strings. Alternatively, you can use the special \\n character to start a new line.\n",
    "    The best way to insert values of variables into strings is by using .format() or f-strings, but you can also use string concatenation. for example \"My name is \" + name will concatenate the string \"My name is \" with the variable name.\n"
   ]
  },
  {
   "cell_type": "code",
   "execution_count": 204,
   "id": "1b9a0de8-b4e0-48e2-aa17-37ecf142d5bc",
   "metadata": {},
   "outputs": [
    {
     "name": "stdout",
     "output_type": "stream",
     "text": [
      "\n",
      "        Employee name: 'Amar Howard'\n",
      "        Employee salary: 30000\n",
      "\n",
      "        Employee name: 'Carolyn Ramirez'\n",
      "        Employee salary: 35000\n"
     ]
    },
    {
     "data": {
      "text/plain": [
       "<__main__.Employee at 0x7f5f4f8b25b0>"
      ]
     },
     "execution_count": 204,
     "metadata": {},
     "output_type": "execute_result"
    }
   ],
   "source": [
    "class Employee:\n",
    "    def __init__(self, name, salary=30000):\n",
    "        self.name, self.salary = name, salary\n",
    "            \n",
    "    # Add the __str__() method\n",
    "    def __str__(self):\n",
    "        return '''\n",
    "        Employee name: '{name}'\n",
    "        Employee salary: {salary}'''\\\n",
    "        .format(name=self.name,salary=self.salary)\n",
    "\n",
    "emp1 = Employee(\"Amar Howard\", 30000)\n",
    "print(emp1)\n",
    "emp2 = Employee(\"Carolyn Ramirez\", 35000)\n",
    "print(emp2)\n",
    "\n",
    "\n",
    "str(emp1)\n",
    "emp1    # <= very interesting doing these"
   ]
  },
  {
   "cell_type": "code",
   "execution_count": 68,
   "id": "eb6abd5f-4303-4fc9-8c96-00723a25285b",
   "metadata": {},
   "outputs": [
    {
     "name": "stdout",
     "output_type": "stream",
     "text": [
      "Employee name: Amar Howard\n",
      "Employee salary: 30000\n",
      "Employee name: Carolyn Ramirez\n",
      "Employee salary: 35000\n"
     ]
    }
   ],
   "source": [
    "class Employee:\n",
    "    def __init__(self, name, salary=30000):\n",
    "        self.name, self.salary = name, salary\n",
    "      \n",
    "    # Add the __str__() method\n",
    "    def __str__(self):            # <= using \\n here to cut string in its printout \n",
    "        s = \"Employee name: {name}\\nEmployee salary: {salary}\"\\\n",
    "        .format(name=self.name, salary=self.salary)      \n",
    "        return s\n",
    "\n",
    "emp1 = Employee(\"Amar Howard\", 30000)\n",
    "print(emp1)\n",
    "emp2 = Employee(\"Carolyn Ramirez\", 35000)\n",
    "print(emp2)"
   ]
  },
  {
   "cell_type": "markdown",
   "id": "cedbe010-c200-49a8-a1ae-5b90392c11cf",
   "metadata": {},
   "source": [
    "## Exceptions\n",
    "\n",
    "\n",
    "many type of Exceptions "
   ]
  },
  {
   "cell_type": "code",
   "execution_count": 215,
   "id": "9323c15f-0181-4b86-97e3-83b0359f5f66",
   "metadata": {},
   "outputs": [
    {
     "ename": "ZeroDivisionError",
     "evalue": "division by zero",
     "output_type": "error",
     "traceback": [
      "\u001b[0;31m---------------------------------------------------------------------------\u001b[0m",
      "\u001b[0;31mZeroDivisionError\u001b[0m                         Traceback (most recent call last)",
      "\u001b[0;32m/tmp/ipykernel_26572/1977999522.py\u001b[0m in \u001b[0;36m<module>\u001b[0;34m\u001b[0m\n\u001b[1;32m      2\u001b[0m \u001b[0;34m\u001b[0m\u001b[0m\n\u001b[1;32m      3\u001b[0m \u001b[0ma\u001b[0m \u001b[0;34m=\u001b[0m \u001b[0;36m8\u001b[0m\u001b[0;34m\u001b[0m\u001b[0;34m\u001b[0m\u001b[0m\n\u001b[0;32m----> 4\u001b[0;31m \u001b[0ma\u001b[0m\u001b[0;34m/\u001b[0m\u001b[0;36m0\u001b[0m\u001b[0;34m\u001b[0m\u001b[0;34m\u001b[0m\u001b[0m\n\u001b[0m",
      "\u001b[0;31mZeroDivisionError\u001b[0m: division by zero"
     ]
    }
   ],
   "source": [
    "# Exception - ZeroDivisionError\n",
    "\n",
    "a = 8\n",
    "a/0"
   ]
  },
  {
   "cell_type": "code",
   "execution_count": 217,
   "id": "e9c9ca0d-8bb4-408d-94bc-5f2d1f272ebe",
   "metadata": {},
   "outputs": [
    {
     "ename": "IndexError",
     "evalue": "list index out of range",
     "output_type": "error",
     "traceback": [
      "\u001b[0;31m---------------------------------------------------------------------------\u001b[0m",
      "\u001b[0;31mIndexError\u001b[0m                                Traceback (most recent call last)",
      "\u001b[0;32m/tmp/ipykernel_26572/3910563986.py\u001b[0m in \u001b[0;36m<module>\u001b[0;34m\u001b[0m\n\u001b[1;32m      2\u001b[0m \u001b[0;34m\u001b[0m\u001b[0m\n\u001b[1;32m      3\u001b[0m \u001b[0ma\u001b[0m \u001b[0;34m=\u001b[0m \u001b[0;34m[\u001b[0m\u001b[0;36m1\u001b[0m\u001b[0;34m,\u001b[0m\u001b[0;36m3\u001b[0m\u001b[0;34m,\u001b[0m\u001b[0;36m4\u001b[0m\u001b[0;34m,\u001b[0m\u001b[0;36m2\u001b[0m\u001b[0;34m,\u001b[0m\u001b[0;36m5\u001b[0m\u001b[0;34m,\u001b[0m\u001b[0;36m6\u001b[0m\u001b[0;34m]\u001b[0m\u001b[0;34m\u001b[0m\u001b[0;34m\u001b[0m\u001b[0m\n\u001b[0;32m----> 4\u001b[0;31m \u001b[0ma\u001b[0m\u001b[0;34m[\u001b[0m\u001b[0;36m12\u001b[0m\u001b[0;34m]\u001b[0m\u001b[0;34m\u001b[0m\u001b[0;34m\u001b[0m\u001b[0m\n\u001b[0m",
      "\u001b[0;31mIndexError\u001b[0m: list index out of range"
     ]
    }
   ],
   "source": [
    "# Exception - IndexError\n",
    "\n",
    "a = [1,3,4,2,5,6]\n",
    "a[12]"
   ]
  },
  {
   "cell_type": "code",
   "execution_count": 219,
   "id": "797108a0-3ea5-47d8-90d0-d9ff0663be97",
   "metadata": {},
   "outputs": [
    {
     "ename": "TypeError",
     "evalue": "can only concatenate str (not \"int\") to str",
     "output_type": "error",
     "traceback": [
      "\u001b[0;31m---------------------------------------------------------------------------\u001b[0m",
      "\u001b[0;31mTypeError\u001b[0m                                 Traceback (most recent call last)",
      "\u001b[0;32m/tmp/ipykernel_26572/852791697.py\u001b[0m in \u001b[0;36m<module>\u001b[0;34m\u001b[0m\n\u001b[1;32m      2\u001b[0m \u001b[0;34m\u001b[0m\u001b[0m\n\u001b[1;32m      3\u001b[0m \u001b[0ma\u001b[0m \u001b[0;34m=\u001b[0m \u001b[0;34m'hello'\u001b[0m\u001b[0;34m\u001b[0m\u001b[0;34m\u001b[0m\u001b[0m\n\u001b[0;32m----> 4\u001b[0;31m \u001b[0ma\u001b[0m \u001b[0;34m+\u001b[0m \u001b[0;36m12\u001b[0m\u001b[0;34m\u001b[0m\u001b[0;34m\u001b[0m\u001b[0m\n\u001b[0m",
      "\u001b[0;31mTypeError\u001b[0m: can only concatenate str (not \"int\") to str"
     ]
    }
   ],
   "source": [
    "# Exception - TypeError\n",
    "\n",
    "a = 'hello'\n",
    "a + 12"
   ]
  },
  {
   "cell_type": "code",
   "execution_count": 221,
   "id": "44f3fd8d-6d9b-48ee-a4b4-3b4289b78c7b",
   "metadata": {},
   "outputs": [
    {
     "ename": "NameError",
     "evalue": "name 'b' is not defined",
     "output_type": "error",
     "traceback": [
      "\u001b[0;31m---------------------------------------------------------------------------\u001b[0m",
      "\u001b[0;31mNameError\u001b[0m                                 Traceback (most recent call last)",
      "\u001b[0;32m/tmp/ipykernel_26572/360643525.py\u001b[0m in \u001b[0;36m<module>\u001b[0;34m\u001b[0m\n\u001b[1;32m      2\u001b[0m \u001b[0;34m\u001b[0m\u001b[0m\n\u001b[1;32m      3\u001b[0m \u001b[0ma\u001b[0m \u001b[0;34m=\u001b[0m \u001b[0;36m12\u001b[0m\u001b[0;34m\u001b[0m\u001b[0;34m\u001b[0m\u001b[0m\n\u001b[0;32m----> 4\u001b[0;31m \u001b[0ma\u001b[0m\u001b[0;34m+\u001b[0m\u001b[0mb\u001b[0m\u001b[0;34m\u001b[0m\u001b[0;34m\u001b[0m\u001b[0m\n\u001b[0m",
      "\u001b[0;31mNameError\u001b[0m: name 'b' is not defined"
     ]
    }
   ],
   "source": [
    "# Exception - NameError\n",
    "\n",
    "a = 12\n",
    "a+b"
   ]
  },
  {
   "cell_type": "markdown",
   "id": "8e573326-9768-44a0-b57a-a855011ebf1d",
   "metadata": {},
   "source": [
    "## Exception handing\n",
    "\n",
    "Prevent the program from terminating when an Exception is raised\n",
    "\n",
    "\n",
    "## if exceptions are not handled correctly, they will stop execution of program entirely\n",
    "\n",
    "try - except - finally\n"
   ]
  },
  {
   "cell_type": "code",
   "execution_count": null,
   "id": "c575e49e-ffcc-499d-b7cc-36b0b37e72cd",
   "metadata": {},
   "outputs": [],
   "source": [
    "try:\n",
    "    # try running some code or program\n",
    "    \n",
    "except ExceptionNameHere:\n",
    "    # run this code if ExceptionNameHere happened\n",
    "    \n",
    "except AnotherExceptionNameHere:\n",
    "    # run this code if AnotherExceptionNameHere happened\n",
    "    \n",
    "...\n",
    "    \n",
    "finally:  # <= this is optional\n",
    "    # run this code no matter what\n"
   ]
  },
  {
   "cell_type": "code",
   "execution_count": 275,
   "id": "2e5b738b-dd07-4ecf-a38d-8450d5eb81de",
   "metadata": {},
   "outputs": [
    {
     "name": "stdout",
     "output_type": "stream",
     "text": [
      "0.16666666666666666\n",
      "Cannot divide by zero!\n",
      "None\n",
      "Index out of range!\n",
      "None\n"
     ]
    }
   ],
   "source": [
    "# MODIFY the function to catch exceptions\n",
    "def invert_at_index(x, ind):\n",
    "    return 1/x[ind]\n",
    " \n",
    "a = [5,6,0,7]\n",
    "\n",
    "# Works okay\n",
    "print(invert_at_index(a, 1))\n",
    "\n",
    "# Potential ZeroDivisionError\n",
    "\n",
    "try:\n",
    "    invert_at_index(a,2)\n",
    "except ZeroDivisionError:\n",
    "    print(\"Cannot divide by zero!\\nNone\")\n",
    "except IndexError:\n",
    "    print(\"Index out of range!\\nNone\")\n",
    "    \n",
    "    \n",
    "try:\n",
    "    invert_at_index(a,5)\n",
    "except ZeroDivisionError:\n",
    "    print('Cannot divide by zero!\\nNone')\n",
    "except IndexError:\n",
    "    print(\"Index out of range!\\nNone\")\n",
    "\n",
    "###\n",
    "###\n",
    "###print(invert_at_index(a, 2))\n",
    "###\n",
    "#### Potential IndexError\n",
    "###print(invert_at_index(a, 5))"
   ]
  },
  {
   "cell_type": "code",
   "execution_count": 278,
   "id": "e5088510-474c-4c55-b73e-0f2829827cef",
   "metadata": {},
   "outputs": [
    {
     "ename": "ZeroDivisionError",
     "evalue": "division by zero",
     "output_type": "error",
     "traceback": [
      "\u001b[0;31m---------------------------------------------------------------------------\u001b[0m",
      "\u001b[0;31mZeroDivisionError\u001b[0m                         Traceback (most recent call last)",
      "\u001b[0;32m/tmp/ipykernel_26572/1849931655.py\u001b[0m in \u001b[0;36m<module>\u001b[0;34m\u001b[0m\n\u001b[1;32m      6\u001b[0m \u001b[0;34m\u001b[0m\u001b[0m\n\u001b[1;32m      7\u001b[0m \u001b[0;34m\u001b[0m\u001b[0m\n\u001b[0;32m----> 8\u001b[0;31m \u001b[0minve\u001b[0m \u001b[0;34m=\u001b[0m \u001b[0minvert_at_index\u001b[0m\u001b[0;34m(\u001b[0m\u001b[0ma\u001b[0m\u001b[0;34m,\u001b[0m\u001b[0;36m2\u001b[0m\u001b[0;34m)\u001b[0m\u001b[0;34m\u001b[0m\u001b[0;34m\u001b[0m\u001b[0m\n\u001b[0m",
      "\u001b[0;32m/tmp/ipykernel_26572/1849931655.py\u001b[0m in \u001b[0;36minvert_at_index\u001b[0;34m(x, ind)\u001b[0m\n\u001b[1;32m      1\u001b[0m \u001b[0;31m# MODIFY the function to catch exceptions\u001b[0m\u001b[0;34m\u001b[0m\u001b[0;34m\u001b[0m\u001b[0;34m\u001b[0m\u001b[0m\n\u001b[1;32m      2\u001b[0m \u001b[0;32mdef\u001b[0m \u001b[0minvert_at_index\u001b[0m\u001b[0;34m(\u001b[0m\u001b[0mx\u001b[0m\u001b[0;34m,\u001b[0m \u001b[0mind\u001b[0m\u001b[0;34m)\u001b[0m\u001b[0;34m:\u001b[0m\u001b[0;34m\u001b[0m\u001b[0;34m\u001b[0m\u001b[0m\n\u001b[0;32m----> 3\u001b[0;31m     \u001b[0;32mreturn\u001b[0m \u001b[0;36m1\u001b[0m\u001b[0;34m/\u001b[0m\u001b[0mx\u001b[0m\u001b[0;34m[\u001b[0m\u001b[0mind\u001b[0m\u001b[0;34m]\u001b[0m\u001b[0;34m\u001b[0m\u001b[0;34m\u001b[0m\u001b[0m\n\u001b[0m\u001b[1;32m      4\u001b[0m \u001b[0;34m\u001b[0m\u001b[0m\n\u001b[1;32m      5\u001b[0m \u001b[0ma\u001b[0m \u001b[0;34m=\u001b[0m \u001b[0;34m[\u001b[0m\u001b[0;36m5\u001b[0m\u001b[0;34m,\u001b[0m\u001b[0;36m6\u001b[0m\u001b[0;34m,\u001b[0m\u001b[0;36m0\u001b[0m\u001b[0;34m,\u001b[0m\u001b[0;36m7\u001b[0m\u001b[0;34m]\u001b[0m\u001b[0;34m\u001b[0m\u001b[0;34m\u001b[0m\u001b[0m\n",
      "\u001b[0;31mZeroDivisionError\u001b[0m: division by zero"
     ]
    }
   ],
   "source": [
    "# MODIFY the function to catch exceptions\n",
    "def invert_at_index(x, ind):\n",
    "    return 1/x[ind]\n",
    " \n",
    "a = [5,6,0,7]\n",
    "\n",
    "\n",
    "inve = invert_at_index(a,2)"
   ]
  },
  {
   "cell_type": "code",
   "execution_count": 279,
   "id": "f46de737-684d-406a-ac0a-2fb316898d73",
   "metadata": {},
   "outputs": [
    {
     "ename": "NameError",
     "evalue": "name 'inve' is not defined",
     "output_type": "error",
     "traceback": [
      "\u001b[0;31m---------------------------------------------------------------------------\u001b[0m",
      "\u001b[0;31mNameError\u001b[0m                                 Traceback (most recent call last)",
      "\u001b[0;32m/tmp/ipykernel_26572/3140125325.py\u001b[0m in \u001b[0;36m<module>\u001b[0;34m\u001b[0m\n\u001b[0;32m----> 1\u001b[0;31m \u001b[0minve\u001b[0m\u001b[0;34m\u001b[0m\u001b[0;34m\u001b[0m\u001b[0m\n\u001b[0m",
      "\u001b[0;31mNameError\u001b[0m: name 'inve' is not defined"
     ]
    }
   ],
   "source": [
    "inve"
   ]
  },
  {
   "cell_type": "code",
   "execution_count": null,
   "id": "eb6e578f-968f-489c-91f5-fdfaa13f145d",
   "metadata": {},
   "outputs": [],
   "source": [
    "To catch an exception and handle it, using try - except - finally code\n",
    "\n",
    "\n",
    "try:\n",
    "    # trying runing some code block\n",
    "except ExceptionName:\n",
    "    # Run this code block if ExceptionName happened\n",
    "except AnotherExceptionName:\n",
    "    #'''you can have many except'''\n",
    "\n",
    "finally:  # <= this is optional\n",
    "    # Run this code no matter what\n"
   ]
  },
  {
   "cell_type": "markdown",
   "id": "536cb29e-62c6-4646-b192-37fff9f2e090",
   "metadata": {},
   "source": [
    "## Rasing exceptions\n",
    "\n",
    " raise ExceptionNameHere('Error message here')\n",
    " "
   ]
  },
  {
   "cell_type": "code",
   "execution_count": null,
   "id": "f764465b-285a-4af2-afe9-71f1331c51b7",
   "metadata": {},
   "outputs": [],
   "source": [
    "raise ExceptionNameHere('Error message here')"
   ]
  },
  {
   "cell_type": "code",
   "execution_count": 341,
   "id": "dc48750a-582d-487a-9d74-f4af5490891a",
   "metadata": {},
   "outputs": [
    {
     "ename": "ValueError",
     "evalue": "Invalid Length! length should be positive",
     "output_type": "error",
     "traceback": [
      "\u001b[0;31m---------------------------------------------------------------------------\u001b[0m",
      "\u001b[0;31mValueError\u001b[0m                                Traceback (most recent call last)",
      "\u001b[0;32m/tmp/ipykernel_26572/1598971938.py\u001b[0m in \u001b[0;36m<module>\u001b[0;34m\u001b[0m\n\u001b[1;32m     11\u001b[0m \u001b[0;34m\u001b[0m\u001b[0m\n\u001b[1;32m     12\u001b[0m \u001b[0;34m\u001b[0m\u001b[0m\n\u001b[0;32m---> 13\u001b[0;31m \u001b[0mmake_list_of_one\u001b[0m\u001b[0;34m(\u001b[0m\u001b[0;36m0\u001b[0m\u001b[0;34m)\u001b[0m\u001b[0;34m\u001b[0m\u001b[0;34m\u001b[0m\u001b[0m\n\u001b[0m\u001b[1;32m     14\u001b[0m \u001b[0mmake_list_of_one\u001b[0m\u001b[0;34m(\u001b[0m\u001b[0;36m23\u001b[0m\u001b[0;34m)\u001b[0m\u001b[0;34m\u001b[0m\u001b[0;34m\u001b[0m\u001b[0m\n",
      "\u001b[0;32m/tmp/ipykernel_26572/1598971938.py\u001b[0m in \u001b[0;36mmake_list_of_one\u001b[0;34m(length)\u001b[0m\n\u001b[1;32m      7\u001b[0m \u001b[0;34m\u001b[0m\u001b[0m\n\u001b[1;32m      8\u001b[0m         \u001b[0;31m#<= will stop the program and raise an error message\u001b[0m\u001b[0;34m\u001b[0m\u001b[0;34m\u001b[0m\u001b[0;34m\u001b[0m\u001b[0m\n\u001b[0;32m----> 9\u001b[0;31m         \u001b[0;32mraise\u001b[0m \u001b[0mValueError\u001b[0m\u001b[0;34m(\u001b[0m\u001b[0;34m\"Invalid Length! length should be positive\"\u001b[0m\u001b[0;34m)\u001b[0m\u001b[0;34m\u001b[0m\u001b[0;34m\u001b[0m\u001b[0m\n\u001b[0m\u001b[1;32m     10\u001b[0m     \u001b[0;32mreturn\u001b[0m \u001b[0;34m[\u001b[0m\u001b[0;36m1\u001b[0m\u001b[0;34m]\u001b[0m\u001b[0;34m*\u001b[0m\u001b[0mlength\u001b[0m\u001b[0;34m\u001b[0m\u001b[0;34m\u001b[0m\u001b[0m\n\u001b[1;32m     11\u001b[0m \u001b[0;34m\u001b[0m\u001b[0m\n",
      "\u001b[0;31mValueError\u001b[0m: Invalid Length! length should be positive"
     ]
    }
   ],
   "source": [
    "## --------------------------------------------------- ##\n",
    "## Rasing exceptions\n",
    "\n",
    "\n",
    "def make_list_of_one(length):\n",
    "    if length <= 0:\n",
    "        \n",
    "        #<= will stop the program and raise an error message\n",
    "        raise ValueError(\"Invalid Length! length should be positive\")  \n",
    "    return [1]*length\n",
    "\n",
    "\n",
    "make_list_of_one(0)\n",
    "make_list_of_one(23)"
   ]
  },
  {
   "cell_type": "code",
   "execution_count": 273,
   "id": "070aee48-0702-4338-9b7a-73730485f2c7",
   "metadata": {},
   "outputs": [
    {
     "ename": "ValueError",
     "evalue": "Invalid Length! length should be positive",
     "output_type": "error",
     "traceback": [
      "\u001b[0;31m---------------------------------------------------------------------------\u001b[0m",
      "\u001b[0;31mValueError\u001b[0m                                Traceback (most recent call last)",
      "\u001b[0;32m/tmp/ipykernel_26572/505971691.py\u001b[0m in \u001b[0;36m<module>\u001b[0;34m\u001b[0m\n\u001b[0;32m----> 1\u001b[0;31m \u001b[0mmlist\u001b[0m \u001b[0;34m=\u001b[0m \u001b[0mmake_list_of_one\u001b[0m\u001b[0;34m(\u001b[0m\u001b[0;36m0\u001b[0m\u001b[0;34m)\u001b[0m\u001b[0;34m\u001b[0m\u001b[0;34m\u001b[0m\u001b[0m\n\u001b[0m",
      "\u001b[0;32m/tmp/ipykernel_26572/2512346771.py\u001b[0m in \u001b[0;36mmake_list_of_one\u001b[0;34m(length)\u001b[0m\n\u001b[1;32m      6\u001b[0m \u001b[0;34m\u001b[0m\u001b[0m\n\u001b[1;32m      7\u001b[0m         \u001b[0;31m#<= will stop the program and raise an error message\u001b[0m\u001b[0;34m\u001b[0m\u001b[0;34m\u001b[0m\u001b[0;34m\u001b[0m\u001b[0m\n\u001b[0;32m----> 8\u001b[0;31m         \u001b[0;32mraise\u001b[0m \u001b[0mValueError\u001b[0m\u001b[0;34m(\u001b[0m\u001b[0;34m\"Invalid Length! length should be positive\"\u001b[0m\u001b[0;34m)\u001b[0m\u001b[0;34m\u001b[0m\u001b[0;34m\u001b[0m\u001b[0m\n\u001b[0m\u001b[1;32m      9\u001b[0m     \u001b[0;32mreturn\u001b[0m \u001b[0;34m[\u001b[0m\u001b[0;36m1\u001b[0m\u001b[0;34m]\u001b[0m\u001b[0;34m*\u001b[0m\u001b[0mlength\u001b[0m\u001b[0;34m\u001b[0m\u001b[0;34m\u001b[0m\u001b[0m\n\u001b[1;32m     10\u001b[0m \u001b[0;34m\u001b[0m\u001b[0m\n",
      "\u001b[0;31mValueError\u001b[0m: Invalid Length! length should be positive"
     ]
    }
   ],
   "source": [
    "mlist = make_list_of_one(0)"
   ]
  },
  {
   "cell_type": "code",
   "execution_count": 274,
   "id": "52709186-fc89-4d04-97b5-7c0af1abdf6f",
   "metadata": {},
   "outputs": [
    {
     "ename": "NameError",
     "evalue": "name 'mlist' is not defined",
     "output_type": "error",
     "traceback": [
      "\u001b[0;31m---------------------------------------------------------------------------\u001b[0m",
      "\u001b[0;31mNameError\u001b[0m                                 Traceback (most recent call last)",
      "\u001b[0;32m/tmp/ipykernel_26572/837080809.py\u001b[0m in \u001b[0;36m<module>\u001b[0;34m\u001b[0m\n\u001b[0;32m----> 1\u001b[0;31m \u001b[0mmlist\u001b[0m\u001b[0;34m\u001b[0m\u001b[0;34m\u001b[0m\u001b[0m\n\u001b[0m",
      "\u001b[0;31mNameError\u001b[0m: name 'mlist' is not defined"
     ]
    }
   ],
   "source": [
    "mlist"
   ]
  },
  {
   "cell_type": "markdown",
   "id": "3326b9b4-1340-41b2-8e85-0bd44155878d",
   "metadata": {},
   "source": []
  },
  {
   "cell_type": "markdown",
   "id": "82cc43c0-ee01-4728-af2c-c706adda6528",
   "metadata": {},
   "source": [
    "### In Python, Exceptions are actually classes inherited from build-in classes BaseException or Exception\n",
    "\n",
    "BaseException\n",
    "+-- Exception\n",
    "    +-- ArithmeticError\n",
    "        +-- FloatingPointError\n",
    "        +-- OverFlowError\n",
    "        +-- ZeroDivisionError\n",
    "    +-- TypeError\n",
    "    +-- ValueError\n",
    "        +-- UnicodeError\n",
    "        +-- UnicodeDecodeError\n",
    "        +-- UnicodeEncodeError\n",
    "        +-- UnicodeTranslateError\n",
    "    +-- RuntimeError\n",
    "        +-- others\n",
    "        "
   ]
  },
  {
   "cell_type": "markdown",
   "id": "5de3aa7b-5de4-4947-adeb-d26c371536e6",
   "metadata": {},
   "source": [
    "## Costom Exception\n",
    "\n",
    "\n",
    "inherit from Exception class or one of its subclass\n",
    "usually an empty class\n"
   ]
  },
  {
   "cell_type": "code",
   "execution_count": 270,
   "id": "748573df-dd6a-417c-9cc5-c2d9b26902df",
   "metadata": {},
   "outputs": [
    {
     "ename": "BalanceError",
     "evalue": "Balance has to be positive number",
     "output_type": "error",
     "traceback": [
      "\u001b[0;31m---------------------------------------------------------------------------\u001b[0m",
      "\u001b[0;31mBalanceError\u001b[0m                              Traceback (most recent call last)",
      "\u001b[0;32m/tmp/ipykernel_26572/1256076971.py\u001b[0m in \u001b[0;36m<module>\u001b[0;34m\u001b[0m\n\u001b[1;32m     12\u001b[0m \u001b[0;34m\u001b[0m\u001b[0m\n\u001b[1;32m     13\u001b[0m \u001b[0;34m\u001b[0m\u001b[0m\n\u001b[0;32m---> 14\u001b[0;31m \u001b[0mcust\u001b[0m \u001b[0;34m=\u001b[0m \u001b[0mCustomer\u001b[0m\u001b[0;34m(\u001b[0m\u001b[0;34m'John'\u001b[0m\u001b[0;34m,\u001b[0m\u001b[0;34m-\u001b[0m\u001b[0;36m9\u001b[0m\u001b[0;34m)\u001b[0m\u001b[0;34m\u001b[0m\u001b[0;34m\u001b[0m\u001b[0m\n\u001b[0m\u001b[1;32m     15\u001b[0m \u001b[0mcust\u001b[0m\u001b[0;34m\u001b[0m\u001b[0;34m\u001b[0m\u001b[0m\n",
      "\u001b[0;32m/tmp/ipykernel_26572/1256076971.py\u001b[0m in \u001b[0;36m__init__\u001b[0;34m(self, name, balance)\u001b[0m\n\u001b[1;32m      7\u001b[0m \u001b[0;34m\u001b[0m\u001b[0m\n\u001b[1;32m      8\u001b[0m         \u001b[0;32mif\u001b[0m \u001b[0mbalance\u001b[0m \u001b[0;34m<\u001b[0m \u001b[0;36m0\u001b[0m\u001b[0;34m:\u001b[0m\u001b[0;34m\u001b[0m\u001b[0;34m\u001b[0m\u001b[0m\n\u001b[0;32m----> 9\u001b[0;31m             \u001b[0;32mraise\u001b[0m \u001b[0mBalanceError\u001b[0m\u001b[0;34m(\u001b[0m\u001b[0;34m'Balance has to be positive number'\u001b[0m\u001b[0;34m)\u001b[0m\u001b[0;34m\u001b[0m\u001b[0;34m\u001b[0m\u001b[0m\n\u001b[0m\u001b[1;32m     10\u001b[0m         \u001b[0;32melse\u001b[0m\u001b[0;34m:\u001b[0m\u001b[0;34m\u001b[0m\u001b[0;34m\u001b[0m\u001b[0m\n\u001b[1;32m     11\u001b[0m             \u001b[0mself\u001b[0m\u001b[0;34m.\u001b[0m\u001b[0mname\u001b[0m\u001b[0;34m,\u001b[0m\u001b[0mself\u001b[0m\u001b[0;34m.\u001b[0m\u001b[0mbalance\u001b[0m \u001b[0;34m=\u001b[0m \u001b[0mname\u001b[0m\u001b[0;34m,\u001b[0m\u001b[0mbalance\u001b[0m  \u001b[0;31m# <= we can put condition statements before\u001b[0m\u001b[0;34m\u001b[0m\u001b[0;34m\u001b[0m\u001b[0m\n",
      "\u001b[0;31mBalanceError\u001b[0m: Balance has to be positive number"
     ]
    }
   ],
   "source": [
    "class BalanceError(Exception): pass\n",
    "\n",
    "\n",
    "class Customer:\n",
    "    def __init__(self,name,balance):\n",
    "        #self.name,self.balance = name,balance\n",
    "        \n",
    "        if balance < 0:\n",
    "            raise BalanceError('Balance has to be positive number')\n",
    "        else:\n",
    "            self.name,self.balance = name,balance  # <= we can put condition statements before\n",
    "            \n",
    "            \n",
    "cust = Customer('John',-9)\n",
    "cust"
   ]
  },
  {
   "cell_type": "markdown",
   "id": "f78ef139-9006-4c19-9b3a-e1757053fef6",
   "metadata": {},
   "source": [
    "## handling it with exception is better, \n",
    "\n",
    "because in this case, **the constructor terminates** and the **Customer objuct is not created at all**, **instead of being implicitly created with account balance set to zero despite the error.** This send a clear signal to the user of the Customer class that something went wrong. The user can then decide to handle this exception using try,except,finally block if they want, but the we the author of the code do not make this decision for them.\n",
    "\n"
   ]
  },
  {
   "cell_type": "markdown",
   "id": "c406a625-b51a-4152-8951-a3016bc917b9",
   "metadata": {},
   "source": [
    "## Exception interrupted the constructor, object is not created\n",
    " \n",
    "\n",
    "**in the first chapter, we dealt with this situation by merely printing a message,and then creating an object with zero balance. Handling it with exception is better"
   ]
  },
  {
   "cell_type": "code",
   "execution_count": 345,
   "id": "2211a6fe-bc76-481a-96c6-38f7439a5cad",
   "metadata": {},
   "outputs": [
    {
     "name": "stdout",
     "output_type": "stream",
     "text": [
      "BalanceError! using o as defaule value of balance\n",
      "Customer: \n",
      "  name = John, \n",
      "  balance = 0\n"
     ]
    },
    {
     "data": {
      "text/plain": [
       "Customer: \n",
       "  name = John, \n",
       "  balance = 0"
      ]
     },
     "execution_count": 345,
     "metadata": {},
     "output_type": "execute_result"
    }
   ],
   "source": [
    "class BalanceError(Exception): pass\n",
    "\n",
    "\n",
    "class Customer:\n",
    "    def __init__(self,name,balance):\n",
    "        #self.name,self.balance = name,balance\n",
    "        \n",
    "        if balance < 0:\n",
    "            raise BalanceError('Balance has to be positive number')\n",
    "        else:\n",
    "            self.name,self.balance = name,balance  # <= we can put condition statements before\n",
    "            \n",
    "    def __repr__(self):\n",
    "        return 'Customer: \\n  name = {name}, \\n  balance = {balance}'\\\n",
    "    .format(name=self.name,balance=self.balance)\n",
    "\n",
    "\n",
    "try:\n",
    "    cust1 = Customer('John',-98)\n",
    "except BalanceError:\n",
    "    print('BalanceError! using o as defaule value of balance')\n",
    "    cust1 = Customer('John',0)\n",
    "\n",
    "    \n",
    "print(cust1)\n",
    "cust1"
   ]
  },
  {
   "cell_type": "markdown",
   "id": "66e7d1c6-b539-4638-8f0b-da7134e90930",
   "metadata": {},
   "source": [
    "## Catching exceptions\n",
    "\n",
    "Before you start writing your own custom exceptions, let's make sure you have the basics of handling exceptions down.\n",
    "\n",
    "In this exercise, you are given a function invert_at_index(x, ind) that takes two arguments, a list x and an index ind, and inverts the element of the list at that index. For example invert_at_index([5,6,7], 1) returns 1/6, or 0.166666 .\n",
    "\n",
    "Try running the code as-is and examine the output in the console. There are two unsafe operations in this function: first, if the element that we're trying to invert has the value 0, then the code will cause a ZeroDivisionError exception. Second, if the index passed to the function is out of range for the list, the code will cause a IndexError. In both cases, the script will be interrupted, which might not be desirable.\n",
    "\n",
    "\n",
    "\n",
    "Use a try - except - except pattern (with two except blocks) inside the function to catch and handle two exceptions as follows:\n",
    "\n",
    "    try executing the code as-is,\n",
    "    if ZeroDivisionError occurs, print \"Cannot divide by zero!\",\n",
    "    if IndexError occurs, print \"Index out of range!\"\n",
    "\n",
    "You know you got it right if the code runs without errors, and the output in the console is:\n",
    "\n",
    "0.16666666666666666\n",
    "Cannot divide by zero!\n",
    "None\n",
    "Index out of range!\n",
    "None"
   ]
  },
  {
   "cell_type": "code",
   "execution_count": 261,
   "id": "f904472c-fb40-408b-b453-5aa1776d21af",
   "metadata": {},
   "outputs": [
    {
     "name": "stdout",
     "output_type": "stream",
     "text": [
      "0.16666666666666666\n",
      "Cannot divide by zero!\n",
      "None\n",
      "Index out of range!\n",
      "None\n"
     ]
    }
   ],
   "source": [
    "# MODIFY the function to catch exceptions\n",
    "def invert_at_index(x, ind):\n",
    "    return 1/x[ind]\n",
    " \n",
    "a = [5,6,0,7]\n",
    "\n",
    "# Works okay\n",
    "print(invert_at_index(a, 1))\n",
    "\n",
    "# Potential ZeroDivisionError\n",
    "\n",
    "try:\n",
    "    invert_at_index(a,2)\n",
    "except ZeroDivisionError:\n",
    "    print(\"Cannot divide by zero!\\nNone\")\n",
    "except IndexError:\n",
    "    print(\"Index out of range!\\nNone\")\n",
    "finally:\n",
    "    pass\n",
    "    \n",
    "    \n",
    "try:\n",
    "      # --------------------------------------------------------------------\n",
    "      # <= the [try except finally] code was used for handling exception \n",
    "      # <= to prevent program terminating when an exception was raised\n",
    "    invert_at_index(a,5)\n",
    "except ZeroDivisionError:\n",
    "    print('Cannot divide by zero!\\nNone')\n",
    "except IndexError:\n",
    "    print(\"Index out of range!\\nNone\")\n",
    "finally:  # <= optional code block\n",
    "    pass\n",
    "\n",
    "###\n",
    "###\n",
    "###print(invert_at_index(a, 2))\n",
    "###\n",
    "#### Potential IndexError\n",
    "###print(invert_at_index(a, 5))"
   ]
  },
  {
   "cell_type": "code",
   "execution_count": 282,
   "id": "c00e1a7a-cc4b-44e6-9108-53d14361b583",
   "metadata": {},
   "outputs": [
    {
     "name": "stdout",
     "output_type": "stream",
     "text": [
      "0.16666666666666666\n",
      "Cannot divided by zero! \n",
      "None\n",
      "Index out of range! \n",
      "None\n"
     ]
    }
   ],
   "source": [
    "# MODIFY the function to catch exceptions\n",
    "def invert_at_index(x, ind):\n",
    "    try:\n",
    "        return 1/x[ind]\n",
    "    except IndexError:\n",
    "        print(\"Index out of range! \")\n",
    "    except ZeroDivisionError:\n",
    "        print(\"Cannot divided by zero! \")\n",
    "    finally:\n",
    "        pass\n",
    "\n",
    "    \n",
    "a = [5,6,0,7]\n",
    "\n",
    "# Works okay\n",
    "print(invert_at_index(a, 1))\n",
    "\n",
    "# Potential ZeroDivisionError\n",
    "print(invert_at_index(a, 2))\n",
    "\n",
    "# Potential IndexError\n",
    "print(invert_at_index(a, 5))"
   ]
  },
  {
   "cell_type": "code",
   "execution_count": 283,
   "id": "31874731-2788-4484-b0ed-ca2769ae247a",
   "metadata": {},
   "outputs": [
    {
     "name": "stdout",
     "output_type": "stream",
     "text": [
      "Cannot divided by zero! \n"
     ]
    }
   ],
   "source": [
    "intt = invert_at_index(a,2)\n",
    "intt"
   ]
  },
  {
   "cell_type": "markdown",
   "id": "e6009efe-cd88-4e7e-895a-24037f915dfb",
   "metadata": {},
   "source": [
    "## Handling exception hierarchies\n",
    "\n",
    "Previously, you defined an Employee class with a method get_bonus() that raises a BonusError and a SalaryError depending on parameters. But the BonusError exception was inherited from the SalaryError exception. How does exception inheritance affect exception handling?\n",
    "\n",
    "The Employee class has been defined for you. It has a minimal salary of 30000 and a maximal bonus amount of 5000.\n",
    "\n",
    "Question\n",
    "\n",
    "Experiment with the following code\n",
    "\n",
    "emp = Employee(\"Katze Rik\", salary=50000)\n",
    "try:\n",
    "  emp.give_bonus(7000)\n",
    "except SalaryError:\n",
    "  print(\"SalaryError caught!\")\n",
    "\n",
    "try:\n",
    "  emp.give_bonus(7000)\n",
    "except BonusError:\n",
    "  print(\"BonusError caught!\")\n",
    "\n",
    "try:\n",
    "  emp.give_bonus(-100000)\n",
    "except SalaryError:\n",
    "  print(\"SalaryError caught again!\")\n",
    "\n",
    "try:\n",
    "  emp.give_bonus(-100000)\n",
    "except BonusError:\n",
    "  print(\"BonusError caught again!\")  \n",
    "  \n",
    "\n",
    "and select the statement which is TRUE about handling parent/child exception classes:\n",
    "\n",
    "except block for a parent exception will catch child exceptions\n",
    "except block for a parent exception will not catch child exceptions\n",
    "\n",
    "\n",
    "## Hint\n",
    "\n",
    "    Giving a bonus over 5000 raises a BonusError which is inherited from the SalaryError, and giving a bonus that would result in a salary below 30000 will raise a SalaryError.\n",
    "    Copy-paste the code from the question into the console. You can see whether an exception was caught by examining the output: if there are errors, the exception wasn't caught.\n"
   ]
  },
  {
   "cell_type": "code",
   "execution_count": 296,
   "id": "1828ee84-4ef4-4bec-a208-662f71c2d4d7",
   "metadata": {},
   "outputs": [
    {
     "data": {
      "text/plain": [
       "500"
      ]
     },
     "execution_count": 296,
     "metadata": {},
     "output_type": "execute_result"
    }
   ],
   "source": [
    "class SalaryError(Exception): pass\n",
    "class BonusError(Exception): pass\n",
    "\n",
    "class Employee:\n",
    "    MIN_SALARY = 30000\n",
    "    \n",
    "    def __init__(self, name, salary=MIN_SALARY):\n",
    "        self.name = name\n",
    "        if salary >= Employee.MIN_SALARY:\n",
    "            self.salary = salary\n",
    "        else:\n",
    "            raise SalaryError(\"Salary below 30000 will raise SalaryError\")\n",
    "            self.salary = Employee.MIN_SALARY\n",
    "        \n",
    "    def give_raise(self, bonus):\n",
    "        if bonus > 5000:\n",
    "            raise BonusError(\"Bonus over 5000 raise BonusError\")\n",
    "            bonus = 5000\n",
    "        else:\n",
    "            self.salary += bonus      \n",
    "        \n",
    "# Define a new class Manager inheriting from Employee\n",
    "class Manager(Employee):\n",
    "    def __init__(self,name,salary):\n",
    "        self.name = name\n",
    "        self.salary = salary\n",
    "\n",
    "# Define a Manager object\n",
    "mng = Manager('Debbie Lashko',500)\n",
    "mng.salary\n",
    "# Print mng's name\n",
    "#mng.give_raise(6000)"
   ]
  },
  {
   "cell_type": "code",
   "execution_count": 15,
   "id": "50c9756e-6bf7-4726-9f42-4b3a9329e103",
   "metadata": {},
   "outputs": [
    {
     "ename": "SalaryError",
     "evalue": "Salary below 60000 will raise SalaryError",
     "output_type": "error",
     "traceback": [
      "\u001b[0;31m---------------------------------------------------------------------------\u001b[0m",
      "\u001b[0;31mSalaryError\u001b[0m                               Traceback (most recent call last)",
      "\u001b[0;32m/tmp/ipykernel_44506/2693201871.py\u001b[0m in \u001b[0;36m<module>\u001b[0;34m\u001b[0m\n\u001b[1;32m     35\u001b[0m \u001b[0;34m\u001b[0m\u001b[0m\n\u001b[1;32m     36\u001b[0m \u001b[0;31m# Define a Manager object\u001b[0m\u001b[0;34m\u001b[0m\u001b[0;34m\u001b[0m\u001b[0;34m\u001b[0m\u001b[0m\n\u001b[0;32m---> 37\u001b[0;31m \u001b[0mmng\u001b[0m \u001b[0;34m=\u001b[0m \u001b[0mManager\u001b[0m\u001b[0;34m(\u001b[0m\u001b[0;34m'Debbie Lashko'\u001b[0m\u001b[0;34m,\u001b[0m\u001b[0;36m500\u001b[0m\u001b[0;34m)\u001b[0m\u001b[0;34m\u001b[0m\u001b[0;34m\u001b[0m\u001b[0m\n\u001b[0m\u001b[1;32m     38\u001b[0m \u001b[0mmng\u001b[0m\u001b[0;34m.\u001b[0m\u001b[0msalary\u001b[0m\u001b[0;34m\u001b[0m\u001b[0;34m\u001b[0m\u001b[0m\n\u001b[1;32m     39\u001b[0m \u001b[0;34m\u001b[0m\u001b[0m\n",
      "\u001b[0;32m/tmp/ipykernel_44506/2693201871.py\u001b[0m in \u001b[0;36m__init__\u001b[0;34m(self, name, salary)\u001b[0m\n\u001b[1;32m     29\u001b[0m         \u001b[0mself\u001b[0m\u001b[0;34m.\u001b[0m\u001b[0mname\u001b[0m \u001b[0;34m=\u001b[0m \u001b[0mname\u001b[0m\u001b[0;34m\u001b[0m\u001b[0;34m\u001b[0m\u001b[0m\n\u001b[1;32m     30\u001b[0m         \u001b[0;32mif\u001b[0m \u001b[0msalary\u001b[0m \u001b[0;34m<\u001b[0m \u001b[0mManager\u001b[0m\u001b[0;34m.\u001b[0m\u001b[0mMIN_SALARY\u001b[0m\u001b[0;34m:\u001b[0m\u001b[0;34m\u001b[0m\u001b[0;34m\u001b[0m\u001b[0m\n\u001b[0;32m---> 31\u001b[0;31m             \u001b[0;32mraise\u001b[0m \u001b[0mSalaryError\u001b[0m\u001b[0;34m(\u001b[0m\u001b[0;34m\"Salary below 60000 will raise SalaryError\"\u001b[0m\u001b[0;34m)\u001b[0m\u001b[0;34m\u001b[0m\u001b[0;34m\u001b[0m\u001b[0m\n\u001b[0m\u001b[1;32m     32\u001b[0m             \u001b[0msalary\u001b[0m\u001b[0;34m=\u001b[0m\u001b[0mManager\u001b[0m\u001b[0;34m.\u001b[0m\u001b[0mMIN_SALARY\u001b[0m\u001b[0;34m\u001b[0m\u001b[0;34m\u001b[0m\u001b[0m\n\u001b[1;32m     33\u001b[0m         \u001b[0;32melse\u001b[0m\u001b[0;34m:\u001b[0m\u001b[0;34m\u001b[0m\u001b[0;34m\u001b[0m\u001b[0m\n",
      "\u001b[0;31mSalaryError\u001b[0m: Salary below 60000 will raise SalaryError"
     ]
    }
   ],
   "source": [
    "class SalaryError(Exception): pass\n",
    "class BonusError(Exception): pass\n",
    "\n",
    "class Employee:\n",
    "    MIN_SALARY = 30000\n",
    "    \n",
    "    def __init__(self, name, salary=MIN_SALARY):\n",
    "        self.name = name\n",
    "        if salary < Employee.MIN_SALARY:\n",
    "            raise SalaryError(\"Salary below 30000 will raise SalaryError\")\n",
    "            #self.salary = Employee.MIN_SALARY\n",
    "            salary = Employee.MIN_SALARY\n",
    "        else:\n",
    "            self.salary = salary\n",
    "        \n",
    "    def give_raise(self, bonus):\n",
    "        if bonus > 5000:\n",
    "            raise BonusError(\"Bonus over 5000 raise BonusError\")\n",
    "            bonus = 5000\n",
    "        else:\n",
    "            self.salary += bonus      \n",
    "        \n",
    "# Define a new class Manager inheriting from Employee\n",
    "class Manager(Employee):\n",
    "    MIN_SALARY = 60000\n",
    "    \n",
    "    def __init__(self,name,salary=MIN_SALARY):\n",
    "        Employee.__init__(self,name)  # not using salary in Employee class to provent wrong Exception\n",
    "        self.name = name\n",
    "        if salary < Manager.MIN_SALARY:\n",
    "            raise SalaryError(\"Salary below 60000 will raise SalaryError\")\n",
    "            salary=Manager.MIN_SALARY\n",
    "        else:\n",
    "            self.salary = salary\n",
    "\n",
    "# Define a Manager object\n",
    "mng = Manager('Debbie Lashko',500)\n",
    "mng.salary\n",
    "\n",
    "emp = Employee('John',400)"
   ]
  },
  {
   "cell_type": "code",
   "execution_count": 17,
   "id": "7749ecc9-f16b-4f7d-9cf0-998ee1cc210f",
   "metadata": {},
   "outputs": [
    {
     "data": {
      "text/plain": [
       "60000"
      ]
     },
     "execution_count": 17,
     "metadata": {},
     "output_type": "execute_result"
    }
   ],
   "source": [
    "class SalaryError(Exception): pass\n",
    "class BonusError(Exception): pass\n",
    "\n",
    "class Employee:\n",
    "    MIN_SALARY = 30000\n",
    "    \n",
    "    def __init__(self, name, salary=MIN_SALARY):\n",
    "        self.name = name\n",
    "        if salary < Employee.MIN_SALARY:\n",
    "            raise SalaryError(\"Salary below 30000 will raise SalaryError\")\n",
    "            #self.salary = Employee.MIN_SALARY\n",
    "            salary = Employee.MIN_SALARY\n",
    "        else:\n",
    "            self.salary = salary\n",
    "        \n",
    "    def give_raise(self, bonus):\n",
    "        if bonus > 5000:\n",
    "            raise BonusError(\"Bonus over 5000 raise BonusError\")\n",
    "            bonus = 5000\n",
    "        else:\n",
    "            self.salary += bonus      \n",
    "        \n",
    "# Define a new class Manager inheriting from Employee\n",
    "class Manager(Employee):\n",
    "    MIN_SALARY = 60000\n",
    "    \n",
    "    def __init__(self,name,salary=MIN_SALARY):\n",
    "        Employee.__init__(self,name)  # not using salary in Employee class to provent wrong Exception\n",
    "        self.name = name\n",
    "        if salary < Manager.MIN_SALARY:\n",
    "            raise SalaryError(\"Salary below 60000 will raise SalaryError\")\n",
    "            salary=Manager.MIN_SALARY\n",
    "        else:\n",
    "            self.salary = salary\n",
    "\n",
    "            \n",
    "# Define a Manager object\n",
    "try:\n",
    "    mng = Manager('Debbie Lashko',500)\n",
    "except SalaryError:\n",
    "    mng = Manager('Debbie Lashko')\n",
    "    \n",
    "mng.salary\n",
    "\n",
    "#emp = Employee('John',400)"
   ]
  },
  {
   "cell_type": "code",
   "execution_count": 16,
   "id": "27a5a94c-c502-466a-b93d-89860ef1be45",
   "metadata": {},
   "outputs": [
    {
     "ename": "BonusError",
     "evalue": "Bonus over 5000 raise BonusError",
     "output_type": "error",
     "traceback": [
      "\u001b[0;31m---------------------------------------------------------------------------\u001b[0m",
      "\u001b[0;31mBonusError\u001b[0m                                Traceback (most recent call last)",
      "\u001b[0;32m/tmp/ipykernel_44506/1222886840.py\u001b[0m in \u001b[0;36m<module>\u001b[0;34m\u001b[0m\n\u001b[1;32m     45\u001b[0m \u001b[0memp\u001b[0m \u001b[0;34m=\u001b[0m \u001b[0mEmployee\u001b[0m\u001b[0;34m(\u001b[0m\u001b[0;34m\"Katze Rik\"\u001b[0m\u001b[0;34m,\u001b[0m \u001b[0msalary\u001b[0m\u001b[0;34m=\u001b[0m\u001b[0;36m50000\u001b[0m\u001b[0;34m)\u001b[0m\u001b[0;34m\u001b[0m\u001b[0;34m\u001b[0m\u001b[0m\n\u001b[1;32m     46\u001b[0m \u001b[0;32mtry\u001b[0m\u001b[0;34m:\u001b[0m\u001b[0;34m\u001b[0m\u001b[0;34m\u001b[0m\u001b[0m\n\u001b[0;32m---> 47\u001b[0;31m     \u001b[0memp\u001b[0m\u001b[0;34m.\u001b[0m\u001b[0mgive_raise\u001b[0m\u001b[0;34m(\u001b[0m\u001b[0;36m7000\u001b[0m\u001b[0;34m)\u001b[0m\u001b[0;34m\u001b[0m\u001b[0;34m\u001b[0m\u001b[0m\n\u001b[0m\u001b[1;32m     48\u001b[0m \u001b[0;32mexcept\u001b[0m \u001b[0mSalaryError\u001b[0m\u001b[0;34m:\u001b[0m\u001b[0;34m\u001b[0m\u001b[0;34m\u001b[0m\u001b[0m\n\u001b[1;32m     49\u001b[0m     \u001b[0mprint\u001b[0m\u001b[0;34m(\u001b[0m\u001b[0;34m\"SalaryError caught!\"\u001b[0m\u001b[0;34m)\u001b[0m\u001b[0;34m\u001b[0m\u001b[0;34m\u001b[0m\u001b[0m\n",
      "\u001b[0;32m/tmp/ipykernel_44506/1222886840.py\u001b[0m in \u001b[0;36mgive_raise\u001b[0;34m(self, bonus)\u001b[0m\n\u001b[1;32m     16\u001b[0m     \u001b[0;32mdef\u001b[0m \u001b[0mgive_raise\u001b[0m\u001b[0;34m(\u001b[0m\u001b[0mself\u001b[0m\u001b[0;34m,\u001b[0m \u001b[0mbonus\u001b[0m\u001b[0;34m)\u001b[0m\u001b[0;34m:\u001b[0m\u001b[0;34m\u001b[0m\u001b[0;34m\u001b[0m\u001b[0m\n\u001b[1;32m     17\u001b[0m         \u001b[0;32mif\u001b[0m \u001b[0mbonus\u001b[0m \u001b[0;34m>\u001b[0m \u001b[0;36m5000\u001b[0m\u001b[0;34m:\u001b[0m\u001b[0;34m\u001b[0m\u001b[0;34m\u001b[0m\u001b[0m\n\u001b[0;32m---> 18\u001b[0;31m             \u001b[0;32mraise\u001b[0m \u001b[0mBonusError\u001b[0m\u001b[0;34m(\u001b[0m\u001b[0;34m\"Bonus over 5000 raise BonusError\"\u001b[0m\u001b[0;34m)\u001b[0m\u001b[0;34m\u001b[0m\u001b[0;34m\u001b[0m\u001b[0m\n\u001b[0m\u001b[1;32m     19\u001b[0m             \u001b[0mbonus\u001b[0m \u001b[0;34m=\u001b[0m \u001b[0;36m5000\u001b[0m\u001b[0;34m\u001b[0m\u001b[0;34m\u001b[0m\u001b[0m\n\u001b[1;32m     20\u001b[0m         \u001b[0;32melse\u001b[0m\u001b[0;34m:\u001b[0m\u001b[0;34m\u001b[0m\u001b[0;34m\u001b[0m\u001b[0m\n",
      "\u001b[0;31mBonusError\u001b[0m: Bonus over 5000 raise BonusError"
     ]
    }
   ],
   "source": [
    "class SalaryError(Exception): pass\n",
    "class BonusError(Exception): pass\n",
    "\n",
    "class Employee:\n",
    "    MIN_SALARY = 30000\n",
    "    \n",
    "    def __init__(self, name, salary=MIN_SALARY):\n",
    "        self.name = name\n",
    "        if salary < Employee.MIN_SALARY:\n",
    "            raise SalaryError(\"Salary below 30000 will raise SalaryError\")\n",
    "            #self.salary = Employee.MIN_SALARY\n",
    "            salary = Employee.MIN_SALARY\n",
    "        else:\n",
    "            self.salary = salary\n",
    "        \n",
    "    def give_raise(self, bonus):\n",
    "        if bonus > 5000:\n",
    "            raise BonusError(\"Bonus over 5000 raise BonusError\")\n",
    "            bonus = 5000\n",
    "        else:\n",
    "            self.salary += bonus      \n",
    "        \n",
    "# Define a new class Manager inheriting from Employee\n",
    "class Manager(Employee):\n",
    "    MIN_SALARY = 30000\n",
    "    \n",
    "    def __init__(self,name,salary=MIN_SALARY):\n",
    "        Employee.__init__(self,name)  # not using salary in Employee class to provent wrong Exception\n",
    "        self.name = name\n",
    "        if salary < Manager.MIN_SALARY:\n",
    "            raise SalaryError(\"Salary below 60000 will raise SalaryError\")\n",
    "            salary=Manager.MIN_SALARY\n",
    "        else:\n",
    "            self.salary = salary\n",
    "\n",
    "#### Define a Manager object\n",
    "###mng = Manager('Debbie Lashko',500)\n",
    "###mng.salary\n",
    "###\n",
    "###emp = Employee('John',400)\n",
    "###\n",
    "###\n",
    "\n",
    "\n",
    "emp = Employee(\"Katze Rik\", salary=50000)\n",
    "try:\n",
    "    emp.give_raise(7000)\n",
    "except SalaryError:\n",
    "    print(\"SalaryError caught!\")\n",
    "\n",
    "try:\n",
    "    emp.give_raise(7000)\n",
    "except BonusError:\n",
    "    print(\"BonusError caught!\")\n",
    "\n",
    "try:\n",
    "    emp.give_raise(-100000)\n",
    "except SalaryError:\n",
    "    print(\"SalaryError caught again!\")\n",
    "\n",
    "try:\n",
    "    emp.give_raise(-100000)\n",
    "except BonusError:\n",
    "    print(\"BonusError caught again!\")"
   ]
  },
  {
   "cell_type": "markdown",
   "id": "ad1d09d6-559d-4221-937e-2f5da28044e3",
   "metadata": {},
   "source": [
    "## Designing for inheritance and polymorphism\n",
    "\n",
    "**This is the finally chapter\n"
   ]
  },
  {
   "cell_type": "code",
   "execution_count": 348,
   "id": "e4115c96-be6a-4007-b275-f3fedcbfa31c",
   "metadata": {},
   "outputs": [
    {
     "name": "stdout",
     "output_type": "stream",
     "text": [
      "Parent talking!\n",
      "Child talking!\n",
      "TalkativeChild talking!\n",
      "Parent talking!\n"
     ]
    }
   ],
   "source": [
    "\n",
    "\n",
    "class Parent:\n",
    "    def talk(self):\n",
    "        print(\"Parent talking!\")     \n",
    "\n",
    "class Child(Parent):\n",
    "    def talk(self):\n",
    "        print(\"Child talking!\")          \n",
    "\n",
    "class TalkativeChild(Parent):\n",
    "    def talk(self):\n",
    "        print(\"TalkativeChild talking!\")\n",
    "        Parent.talk(self)\n",
    "\n",
    "\n",
    "p, c, tc = Parent(), Child(), TalkativeChild()\n",
    "\n",
    "for obj in (p, c, tc):\n",
    "    obj.talk()\n"
   ]
  },
  {
   "cell_type": "markdown",
   "id": "74a52241-4fe2-48ab-9841-390a871f21f3",
   "metadata": {},
   "source": [
    "## Square and rectangle\n",
    "\n",
    "The classic example of a problem that violates the Liskov Substitution Principle is the Circle-Ellipse problem, sometimes called the Square-Rectangle problem.\n",
    "\n",
    "By all means, it seems like you should be able to define a class Rectangle, with attributes h and w (for height and width), and then define a class Square that inherits from the Rectangle. After all, a square \"is-a\" rectangle!\n",
    "\n",
    "Unfortunately, this intuition doesn't apply to object-oriented design.\n",
    "\n",
    "\n",
    "\n",
    "    Create a class Rectangle with a constructor that accepts two parameters, h and w, and sets its h and w attributes to the values of h and w.\n",
    "    Create a class Square inherited from Rectangle with a constructor that accepts one parameter w, and sets both the h and w attributes to the value of w.\n"
   ]
  },
  {
   "cell_type": "code",
   "execution_count": 29,
   "id": "f73697db-c344-4278-8442-bf6d2488fcc4",
   "metadata": {},
   "outputs": [
    {
     "ename": "NameError",
     "evalue": "name 'h' is not defined",
     "output_type": "error",
     "traceback": [
      "\u001b[0;31m---------------------------------------------------------------------------\u001b[0m",
      "\u001b[0;31mNameError\u001b[0m                                 Traceback (most recent call last)",
      "\u001b[0;32m/tmp/ipykernel_44506/4196346906.py\u001b[0m in \u001b[0;36m<module>\u001b[0;34m\u001b[0m\n\u001b[1;32m     16\u001b[0m \u001b[0;34m\u001b[0m\u001b[0m\n\u001b[1;32m     17\u001b[0m \u001b[0mrec\u001b[0m \u001b[0;34m=\u001b[0m \u001b[0mRectangle\u001b[0m\u001b[0;34m(\u001b[0m\u001b[0;36m5\u001b[0m\u001b[0;34m,\u001b[0m\u001b[0;36m10\u001b[0m\u001b[0;34m)\u001b[0m\u001b[0;34m\u001b[0m\u001b[0;34m\u001b[0m\u001b[0m\n\u001b[0;32m---> 18\u001b[0;31m \u001b[0msqu\u001b[0m \u001b[0;34m=\u001b[0m \u001b[0mSquare\u001b[0m\u001b[0;34m(\u001b[0m\u001b[0;36m6\u001b[0m\u001b[0;34m)\u001b[0m\u001b[0;34m\u001b[0m\u001b[0;34m\u001b[0m\u001b[0m\n\u001b[0m",
      "\u001b[0;32m/tmp/ipykernel_44506/4196346906.py\u001b[0m in \u001b[0;36m__init__\u001b[0;34m(self, w)\u001b[0m\n\u001b[1;32m     10\u001b[0m \u001b[0;32mclass\u001b[0m \u001b[0mSquare\u001b[0m\u001b[0;34m(\u001b[0m\u001b[0mRectangle\u001b[0m\u001b[0;34m)\u001b[0m\u001b[0;34m:\u001b[0m\u001b[0;34m\u001b[0m\u001b[0;34m\u001b[0m\u001b[0m\n\u001b[1;32m     11\u001b[0m     \u001b[0;32mdef\u001b[0m \u001b[0m__init__\u001b[0m\u001b[0;34m(\u001b[0m\u001b[0mself\u001b[0m\u001b[0;34m,\u001b[0m\u001b[0mw\u001b[0m\u001b[0;34m)\u001b[0m\u001b[0;34m:\u001b[0m\u001b[0;34m\u001b[0m\u001b[0;34m\u001b[0m\u001b[0m\n\u001b[0;32m---> 12\u001b[0;31m         \u001b[0mRectangle\u001b[0m\u001b[0;34m.\u001b[0m\u001b[0m__init__\u001b[0m\u001b[0;34m(\u001b[0m\u001b[0mself\u001b[0m\u001b[0;34m,\u001b[0m\u001b[0mh\u001b[0m\u001b[0;34m,\u001b[0m\u001b[0mw\u001b[0m\u001b[0;34m)\u001b[0m  \u001b[0;31m# <= why we cant call parent constructor\u001b[0m\u001b[0;34m\u001b[0m\u001b[0;34m\u001b[0m\u001b[0m\n\u001b[0m\u001b[1;32m     13\u001b[0m         \u001b[0mself\u001b[0m\u001b[0;34m.\u001b[0m\u001b[0mw\u001b[0m \u001b[0;34m=\u001b[0m \u001b[0mw\u001b[0m\u001b[0;34m\u001b[0m\u001b[0;34m\u001b[0m\u001b[0m\n\u001b[1;32m     14\u001b[0m         \u001b[0mself\u001b[0m\u001b[0;34m.\u001b[0m\u001b[0mh\u001b[0m \u001b[0;34m=\u001b[0m \u001b[0mw\u001b[0m\u001b[0;34m\u001b[0m\u001b[0;34m\u001b[0m\u001b[0m\n",
      "\u001b[0;31mNameError\u001b[0m: name 'h' is not defined"
     ]
    }
   ],
   "source": [
    "# Define a Rectangle class\n",
    "class Rectangle:\n",
    "    def __init__(self,h,w):\n",
    "        ''' a constructor that accepts two parameters, h and w, \n",
    "            and sets its h and w attributes to the values of h and w '''\n",
    "        self.h,self.w = h,w\n",
    "\n",
    "\n",
    "# Define a Square class\n",
    "class Square(Rectangle):\n",
    "    def __init__(self,w):\n",
    "        Rectangle.__init__(self,h,w)  # <= why we cant call parent constructor \n",
    "        self.w = w \n",
    "        self.h = w\n",
    "        \n",
    "        \n",
    "rec = Rectangle(5,10)\n",
    "squ = Square(6)"
   ]
  },
  {
   "cell_type": "code",
   "execution_count": null,
   "id": "87ee4fc4-8810-4d68-b7b3-d68f25337ef1",
   "metadata": {},
   "outputs": [],
   "source": []
  },
  {
   "cell_type": "code",
   "execution_count": null,
   "id": "031573f6-07f1-4c2b-bed5-80f57480c419",
   "metadata": {},
   "outputs": [],
   "source": []
  },
  {
   "cell_type": "code",
   "execution_count": null,
   "id": "c9b33e82-0cc3-42ed-9261-396313f797b2",
   "metadata": {},
   "outputs": [],
   "source": []
  },
  {
   "cell_type": "raw",
   "id": "22e28cfe-d6e8-483d-8b14-0a812750a87b",
   "metadata": {},
   "source": [
    "\n",
    "\n",
    "Example: OOP in Python for Finance\n",
    "  DataCamp Python for Finance: Algorithmic Trading\n"
   ]
  },
  {
   "cell_type": "code",
   "execution_count": 8,
   "id": "39d1165e-551b-46a5-886b-03d337fdcc51",
   "metadata": {},
   "outputs": [
    {
     "name": "stdout",
     "output_type": "stream",
     "text": [
      "            signal  short_mavg   long_mavg  positions\n",
      "Date                                                 \n",
      "2016-11-08     0.0   27.764999   27.764999        NaN\n",
      "2016-11-09     0.0   27.742499   27.742499        0.0\n",
      "2016-11-10     0.0   27.477500   27.477500        0.0\n",
      "2016-11-11     0.0   27.385000   27.385000        0.0\n",
      "2016-11-14     0.0   27.193500   27.193500        0.0\n",
      "...            ...         ...         ...        ...\n",
      "2021-08-31     1.0  147.214750  137.043100        0.0\n",
      "2021-09-01     1.0  147.413250  137.255800        0.0\n",
      "2021-09-02     1.0  147.673499  137.448000        0.0\n",
      "2021-09-03     1.0  147.903249  137.670700        0.0\n",
      "2021-09-07     1.0  148.207999  137.892600        0.0\n",
      "\n",
      "[1215 rows x 4 columns]\n"
     ]
    }
   ],
   "source": [
    "# Initiatlize\n",
    "\n",
    "import pandas as pd\n",
    "import numpy as np\n",
    "import pandas_datareader as pdr\n",
    "\n",
    "aapl = pdr.get_data_yahoo('AAPL','2016-11-08')\n",
    "\n",
    "short_window = 40\n",
    "long_window = 100\n",
    "signals = pd.DataFrame(index = aapl.index)\n",
    "signals['signal'] = 0.0\n",
    "\n",
    "\n",
    "# Create short simple moving average over the short window\n",
    "signals['short_mavg'] = aapl['Close'].rolling(window = short_window, min_periods = 1, center = False).mean()\n",
    "\n",
    "# Create long simple moving average over the long window\n",
    "signals['long_mavg'] = aapl['Close'].rolling(window = long_window, min_periods = 1, center = False).mean()\n",
    "\n",
    "# Create signals\n",
    "signals['signal'][short_window:] = np.where(signals['short_mavg'][short_window:] > signals['long_mavg'][short_window:], 1.0, 0.0)\n",
    "\n",
    "# Generate trading orders\n",
    "signals['positions'] = signals['signal'].diff()\n",
    "\n",
    "# Print signals\n",
    "print(signals)"
   ]
  },
  {
   "cell_type": "code",
   "execution_count": 34,
   "id": "35b8891e-99d6-42eb-a93f-9459dcdf9c04",
   "metadata": {},
   "outputs": [
    {
     "data": {
      "text/html": [
       "<div>\n",
       "<style scoped>\n",
       "    .dataframe tbody tr th:only-of-type {\n",
       "        vertical-align: middle;\n",
       "    }\n",
       "\n",
       "    .dataframe tbody tr th {\n",
       "        vertical-align: top;\n",
       "    }\n",
       "\n",
       "    .dataframe thead th {\n",
       "        text-align: right;\n",
       "    }\n",
       "</style>\n",
       "<table border=\"1\" class=\"dataframe\">\n",
       "  <thead>\n",
       "    <tr style=\"text-align: right;\">\n",
       "      <th></th>\n",
       "      <th>signal</th>\n",
       "      <th>short_mavg</th>\n",
       "      <th>long_mavg</th>\n",
       "      <th>positions</th>\n",
       "    </tr>\n",
       "    <tr>\n",
       "      <th>Date</th>\n",
       "      <th></th>\n",
       "      <th></th>\n",
       "      <th></th>\n",
       "      <th></th>\n",
       "    </tr>\n",
       "  </thead>\n",
       "  <tbody>\n",
       "    <tr>\n",
       "      <th>2016-11-08</th>\n",
       "      <td>0.0</td>\n",
       "      <td>27.764999</td>\n",
       "      <td>27.764999</td>\n",
       "      <td>NaN</td>\n",
       "    </tr>\n",
       "    <tr>\n",
       "      <th>2016-11-09</th>\n",
       "      <td>0.0</td>\n",
       "      <td>27.742499</td>\n",
       "      <td>27.742499</td>\n",
       "      <td>0.0</td>\n",
       "    </tr>\n",
       "    <tr>\n",
       "      <th>2016-11-10</th>\n",
       "      <td>0.0</td>\n",
       "      <td>27.477500</td>\n",
       "      <td>27.477500</td>\n",
       "      <td>0.0</td>\n",
       "    </tr>\n",
       "    <tr>\n",
       "      <th>2016-11-11</th>\n",
       "      <td>0.0</td>\n",
       "      <td>27.385000</td>\n",
       "      <td>27.385000</td>\n",
       "      <td>0.0</td>\n",
       "    </tr>\n",
       "    <tr>\n",
       "      <th>2016-11-14</th>\n",
       "      <td>0.0</td>\n",
       "      <td>27.193500</td>\n",
       "      <td>27.193500</td>\n",
       "      <td>0.0</td>\n",
       "    </tr>\n",
       "    <tr>\n",
       "      <th>...</th>\n",
       "      <td>...</td>\n",
       "      <td>...</td>\n",
       "      <td>...</td>\n",
       "      <td>...</td>\n",
       "    </tr>\n",
       "    <tr>\n",
       "      <th>2021-08-31</th>\n",
       "      <td>1.0</td>\n",
       "      <td>147.214750</td>\n",
       "      <td>137.043100</td>\n",
       "      <td>0.0</td>\n",
       "    </tr>\n",
       "    <tr>\n",
       "      <th>2021-09-01</th>\n",
       "      <td>1.0</td>\n",
       "      <td>147.413250</td>\n",
       "      <td>137.255800</td>\n",
       "      <td>0.0</td>\n",
       "    </tr>\n",
       "    <tr>\n",
       "      <th>2021-09-02</th>\n",
       "      <td>1.0</td>\n",
       "      <td>147.673499</td>\n",
       "      <td>137.448000</td>\n",
       "      <td>0.0</td>\n",
       "    </tr>\n",
       "    <tr>\n",
       "      <th>2021-09-03</th>\n",
       "      <td>1.0</td>\n",
       "      <td>147.903249</td>\n",
       "      <td>137.670700</td>\n",
       "      <td>0.0</td>\n",
       "    </tr>\n",
       "    <tr>\n",
       "      <th>2021-09-07</th>\n",
       "      <td>1.0</td>\n",
       "      <td>148.207999</td>\n",
       "      <td>137.892600</td>\n",
       "      <td>0.0</td>\n",
       "    </tr>\n",
       "  </tbody>\n",
       "</table>\n",
       "<p>1215 rows × 4 columns</p>\n",
       "</div>"
      ],
      "text/plain": [
       "            signal  short_mavg   long_mavg  positions\n",
       "Date                                                 \n",
       "2016-11-08     0.0   27.764999   27.764999        NaN\n",
       "2016-11-09     0.0   27.742499   27.742499        0.0\n",
       "2016-11-10     0.0   27.477500   27.477500        0.0\n",
       "2016-11-11     0.0   27.385000   27.385000        0.0\n",
       "2016-11-14     0.0   27.193500   27.193500        0.0\n",
       "...            ...         ...         ...        ...\n",
       "2021-08-31     1.0  147.214750  137.043100        0.0\n",
       "2021-09-01     1.0  147.413250  137.255800        0.0\n",
       "2021-09-02     1.0  147.673499  137.448000        0.0\n",
       "2021-09-03     1.0  147.903249  137.670700        0.0\n",
       "2021-09-07     1.0  148.207999  137.892600        0.0\n",
       "\n",
       "[1215 rows x 4 columns]"
      ]
     },
     "execution_count": 34,
     "metadata": {},
     "output_type": "execute_result"
    }
   ],
   "source": [
    "class MovingAverage():\n",
    "    import pandas_datareader as pdr\n",
    "    import numpy as np\n",
    "    import pandas as pd\n",
    "        \n",
    "    def __init__(self,ticker,date,short_window,long_window):\n",
    "        self.ticker = ticker\n",
    "        self.date = date\n",
    "        self.short_window = short_window\n",
    "        self.long_window = long_window\n",
    "        \n",
    "    def generatesignals(self):\n",
    "        ticker = pdr.get_data_yahoo(self.ticker,self.date)\n",
    "        signals = pd.DataFrame(index = ticker.index)\n",
    "        signals['signal'] = 0.0\n",
    "        \n",
    "        signals['short_mavg'] = ticker.Close.rolling(window = self.short_window, min_periods = 1, center = False).mean()\n",
    "        signals['long_mavg'] = ticker.Close.rolling(window = self.long_window, min_periods = 1, center = False).mean()\n",
    "        \n",
    "        signals['signal'][self.short_window:] = np.where(signals['short_mavg'][self.short_window:] > signals['long_mavg'][self.short_window:],1.0, 0.0)\n",
    "        \n",
    "        signals['positions'] = signals['signal'].diff()\n",
    "        \n",
    "        return signals\n",
    "    \n",
    "aapl = MovingAverage('AAPL','2016-11-08',40,100)\n",
    "aapl.generatesignals()"
   ]
  },
  {
   "cell_type": "code",
   "execution_count": null,
   "id": "e3ed655e-72ae-4a27-9086-7690eeb99a7b",
   "metadata": {},
   "outputs": [],
   "source": []
  },
  {
   "cell_type": "code",
   "execution_count": null,
   "id": "e1b9115b-5e28-465b-9aa2-1942fe2e91d2",
   "metadata": {},
   "outputs": [],
   "source": []
  },
  {
   "cell_type": "code",
   "execution_count": null,
   "id": "2571f641-6c68-471f-acd7-f9358bb8ba7a",
   "metadata": {},
   "outputs": [],
   "source": []
  },
  {
   "cell_type": "raw",
   "id": "46ddf2c5-5bd3-42fb-a3ed-93c348b27faa",
   "metadata": {},
   "source": [
    "\n",
    "\n",
    "Study pandas rolling function"
   ]
  },
  {
   "cell_type": "code",
   "execution_count": 23,
   "id": "88d97fdb-96ac-4bb6-9dbd-63e0e479a1c4",
   "metadata": {},
   "outputs": [
    {
     "data": {
      "text/html": [
       "<div>\n",
       "<style scoped>\n",
       "    .dataframe tbody tr th:only-of-type {\n",
       "        vertical-align: middle;\n",
       "    }\n",
       "\n",
       "    .dataframe tbody tr th {\n",
       "        vertical-align: top;\n",
       "    }\n",
       "\n",
       "    .dataframe thead th {\n",
       "        text-align: right;\n",
       "    }\n",
       "</style>\n",
       "<table border=\"1\" class=\"dataframe\">\n",
       "  <thead>\n",
       "    <tr style=\"text-align: right;\">\n",
       "      <th></th>\n",
       "      <th>High</th>\n",
       "      <th>Low</th>\n",
       "      <th>Open</th>\n",
       "      <th>Close</th>\n",
       "      <th>Volume</th>\n",
       "      <th>Adj Close</th>\n",
       "    </tr>\n",
       "    <tr>\n",
       "      <th>Date</th>\n",
       "      <th></th>\n",
       "      <th></th>\n",
       "      <th></th>\n",
       "      <th></th>\n",
       "      <th></th>\n",
       "      <th></th>\n",
       "    </tr>\n",
       "  </thead>\n",
       "  <tbody>\n",
       "    <tr>\n",
       "      <th>2016-11-08</th>\n",
       "      <td>27.930000</td>\n",
       "      <td>27.424999</td>\n",
       "      <td>27.577499</td>\n",
       "      <td>27.764999</td>\n",
       "      <td>97016800.0</td>\n",
       "      <td>26.172829</td>\n",
       "    </tr>\n",
       "    <tr>\n",
       "      <th>2016-11-09</th>\n",
       "      <td>27.830000</td>\n",
       "      <td>27.012501</td>\n",
       "      <td>27.469999</td>\n",
       "      <td>27.719999</td>\n",
       "      <td>236705600.0</td>\n",
       "      <td>26.130411</td>\n",
       "    </tr>\n",
       "    <tr>\n",
       "      <th>2016-11-10</th>\n",
       "      <td>27.772499</td>\n",
       "      <td>26.457500</td>\n",
       "      <td>27.772499</td>\n",
       "      <td>26.947500</td>\n",
       "      <td>228538000.0</td>\n",
       "      <td>25.402210</td>\n",
       "    </tr>\n",
       "    <tr>\n",
       "      <th>2016-11-11</th>\n",
       "      <td>27.217501</td>\n",
       "      <td>26.637501</td>\n",
       "      <td>26.780001</td>\n",
       "      <td>27.107500</td>\n",
       "      <td>136575600.0</td>\n",
       "      <td>25.553038</td>\n",
       "    </tr>\n",
       "    <tr>\n",
       "      <th>2016-11-14</th>\n",
       "      <td>26.952499</td>\n",
       "      <td>26.020000</td>\n",
       "      <td>26.927500</td>\n",
       "      <td>26.427500</td>\n",
       "      <td>204702000.0</td>\n",
       "      <td>24.912027</td>\n",
       "    </tr>\n",
       "    <tr>\n",
       "      <th>2016-11-15</th>\n",
       "      <td>26.920000</td>\n",
       "      <td>26.540001</td>\n",
       "      <td>26.642500</td>\n",
       "      <td>26.777500</td>\n",
       "      <td>129058000.0</td>\n",
       "      <td>25.241957</td>\n",
       "    </tr>\n",
       "    <tr>\n",
       "      <th>2016-11-16</th>\n",
       "      <td>27.557501</td>\n",
       "      <td>26.650000</td>\n",
       "      <td>26.674999</td>\n",
       "      <td>27.497499</td>\n",
       "      <td>235362000.0</td>\n",
       "      <td>25.920671</td>\n",
       "    </tr>\n",
       "    <tr>\n",
       "      <th>2016-11-17</th>\n",
       "      <td>27.587500</td>\n",
       "      <td>27.207500</td>\n",
       "      <td>27.452499</td>\n",
       "      <td>27.487499</td>\n",
       "      <td>110528000.0</td>\n",
       "      <td>25.911245</td>\n",
       "    </tr>\n",
       "    <tr>\n",
       "      <th>2016-11-18</th>\n",
       "      <td>27.635000</td>\n",
       "      <td>27.415001</td>\n",
       "      <td>27.430000</td>\n",
       "      <td>27.514999</td>\n",
       "      <td>113715600.0</td>\n",
       "      <td>25.937164</td>\n",
       "    </tr>\n",
       "    <tr>\n",
       "      <th>2016-11-21</th>\n",
       "      <td>27.997499</td>\n",
       "      <td>27.502501</td>\n",
       "      <td>27.530001</td>\n",
       "      <td>27.932501</td>\n",
       "      <td>117058400.0</td>\n",
       "      <td>26.330730</td>\n",
       "    </tr>\n",
       "    <tr>\n",
       "      <th>2016-11-22</th>\n",
       "      <td>28.105000</td>\n",
       "      <td>27.850000</td>\n",
       "      <td>27.987499</td>\n",
       "      <td>27.950001</td>\n",
       "      <td>103862000.0</td>\n",
       "      <td>26.347223</td>\n",
       "    </tr>\n",
       "    <tr>\n",
       "      <th>2016-11-23</th>\n",
       "      <td>27.877501</td>\n",
       "      <td>27.582500</td>\n",
       "      <td>27.840000</td>\n",
       "      <td>27.807501</td>\n",
       "      <td>109705600.0</td>\n",
       "      <td>26.212894</td>\n",
       "    </tr>\n",
       "    <tr>\n",
       "      <th>2016-11-25</th>\n",
       "      <td>27.967501</td>\n",
       "      <td>27.737499</td>\n",
       "      <td>27.782499</td>\n",
       "      <td>27.947500</td>\n",
       "      <td>45903600.0</td>\n",
       "      <td>26.344868</td>\n",
       "    </tr>\n",
       "    <tr>\n",
       "      <th>2016-11-28</th>\n",
       "      <td>28.117500</td>\n",
       "      <td>27.847500</td>\n",
       "      <td>27.857500</td>\n",
       "      <td>27.892500</td>\n",
       "      <td>108776000.0</td>\n",
       "      <td>26.293018</td>\n",
       "    </tr>\n",
       "    <tr>\n",
       "      <th>2016-11-29</th>\n",
       "      <td>28.007500</td>\n",
       "      <td>27.517500</td>\n",
       "      <td>27.695000</td>\n",
       "      <td>27.865000</td>\n",
       "      <td>114115200.0</td>\n",
       "      <td>26.267097</td>\n",
       "    </tr>\n",
       "  </tbody>\n",
       "</table>\n",
       "</div>"
      ],
      "text/plain": [
       "                 High        Low       Open      Close       Volume  Adj Close\n",
       "Date                                                                          \n",
       "2016-11-08  27.930000  27.424999  27.577499  27.764999   97016800.0  26.172829\n",
       "2016-11-09  27.830000  27.012501  27.469999  27.719999  236705600.0  26.130411\n",
       "2016-11-10  27.772499  26.457500  27.772499  26.947500  228538000.0  25.402210\n",
       "2016-11-11  27.217501  26.637501  26.780001  27.107500  136575600.0  25.553038\n",
       "2016-11-14  26.952499  26.020000  26.927500  26.427500  204702000.0  24.912027\n",
       "2016-11-15  26.920000  26.540001  26.642500  26.777500  129058000.0  25.241957\n",
       "2016-11-16  27.557501  26.650000  26.674999  27.497499  235362000.0  25.920671\n",
       "2016-11-17  27.587500  27.207500  27.452499  27.487499  110528000.0  25.911245\n",
       "2016-11-18  27.635000  27.415001  27.430000  27.514999  113715600.0  25.937164\n",
       "2016-11-21  27.997499  27.502501  27.530001  27.932501  117058400.0  26.330730\n",
       "2016-11-22  28.105000  27.850000  27.987499  27.950001  103862000.0  26.347223\n",
       "2016-11-23  27.877501  27.582500  27.840000  27.807501  109705600.0  26.212894\n",
       "2016-11-25  27.967501  27.737499  27.782499  27.947500   45903600.0  26.344868\n",
       "2016-11-28  28.117500  27.847500  27.857500  27.892500  108776000.0  26.293018\n",
       "2016-11-29  28.007500  27.517500  27.695000  27.865000  114115200.0  26.267097"
      ]
     },
     "execution_count": 23,
     "metadata": {},
     "output_type": "execute_result"
    }
   ],
   "source": [
    "import pandas_datareader as pdr\n",
    "\n",
    "aapl = pdr.get_data_yahoo('AAPL','2016-11-08')\n",
    "aapl.head(15)"
   ]
  },
  {
   "cell_type": "code",
   "execution_count": 45,
   "id": "c95fbeea-7ebd-4f69-b84b-9e77d90d4861",
   "metadata": {},
   "outputs": [
    {
     "data": {
      "text/html": [
       "<div>\n",
       "<style scoped>\n",
       "    .dataframe tbody tr th:only-of-type {\n",
       "        vertical-align: middle;\n",
       "    }\n",
       "\n",
       "    .dataframe tbody tr th {\n",
       "        vertical-align: top;\n",
       "    }\n",
       "\n",
       "    .dataframe thead th {\n",
       "        text-align: right;\n",
       "    }\n",
       "</style>\n",
       "<table border=\"1\" class=\"dataframe\">\n",
       "  <thead>\n",
       "    <tr style=\"text-align: right;\">\n",
       "      <th></th>\n",
       "      <th>High</th>\n",
       "      <th>Low</th>\n",
       "      <th>Open</th>\n",
       "      <th>Close</th>\n",
       "      <th>Volume</th>\n",
       "      <th>Adj Close</th>\n",
       "      <th>Close_ma7</th>\n",
       "    </tr>\n",
       "    <tr>\n",
       "      <th>Date</th>\n",
       "      <th></th>\n",
       "      <th></th>\n",
       "      <th></th>\n",
       "      <th></th>\n",
       "      <th></th>\n",
       "      <th></th>\n",
       "      <th></th>\n",
       "    </tr>\n",
       "  </thead>\n",
       "  <tbody>\n",
       "    <tr>\n",
       "      <th>2016-11-08</th>\n",
       "      <td>27.930000</td>\n",
       "      <td>27.424999</td>\n",
       "      <td>27.577499</td>\n",
       "      <td>27.764999</td>\n",
       "      <td>97016800.0</td>\n",
       "      <td>26.172829</td>\n",
       "      <td>NaN</td>\n",
       "    </tr>\n",
       "    <tr>\n",
       "      <th>2016-11-09</th>\n",
       "      <td>27.830000</td>\n",
       "      <td>27.012501</td>\n",
       "      <td>27.469999</td>\n",
       "      <td>27.719999</td>\n",
       "      <td>236705600.0</td>\n",
       "      <td>26.130411</td>\n",
       "      <td>NaN</td>\n",
       "    </tr>\n",
       "    <tr>\n",
       "      <th>2016-11-10</th>\n",
       "      <td>27.772499</td>\n",
       "      <td>26.457500</td>\n",
       "      <td>27.772499</td>\n",
       "      <td>26.947500</td>\n",
       "      <td>228538000.0</td>\n",
       "      <td>25.402210</td>\n",
       "      <td>NaN</td>\n",
       "    </tr>\n",
       "    <tr>\n",
       "      <th>2016-11-11</th>\n",
       "      <td>27.217501</td>\n",
       "      <td>26.637501</td>\n",
       "      <td>26.780001</td>\n",
       "      <td>27.107500</td>\n",
       "      <td>136575600.0</td>\n",
       "      <td>25.553038</td>\n",
       "      <td>27.177500</td>\n",
       "    </tr>\n",
       "    <tr>\n",
       "      <th>2016-11-14</th>\n",
       "      <td>26.952499</td>\n",
       "      <td>26.020000</td>\n",
       "      <td>26.927500</td>\n",
       "      <td>26.427500</td>\n",
       "      <td>204702000.0</td>\n",
       "      <td>24.912027</td>\n",
       "      <td>27.137857</td>\n",
       "    </tr>\n",
       "    <tr>\n",
       "      <th>2016-11-15</th>\n",
       "      <td>26.920000</td>\n",
       "      <td>26.540001</td>\n",
       "      <td>26.642500</td>\n",
       "      <td>26.777500</td>\n",
       "      <td>129058000.0</td>\n",
       "      <td>25.241957</td>\n",
       "      <td>27.108571</td>\n",
       "    </tr>\n",
       "    <tr>\n",
       "      <th>2016-11-16</th>\n",
       "      <td>27.557501</td>\n",
       "      <td>26.650000</td>\n",
       "      <td>26.674999</td>\n",
       "      <td>27.497499</td>\n",
       "      <td>235362000.0</td>\n",
       "      <td>25.920671</td>\n",
       "      <td>27.249286</td>\n",
       "    </tr>\n",
       "    <tr>\n",
       "      <th>2016-11-17</th>\n",
       "      <td>27.587500</td>\n",
       "      <td>27.207500</td>\n",
       "      <td>27.452499</td>\n",
       "      <td>27.487499</td>\n",
       "      <td>110528000.0</td>\n",
       "      <td>25.911245</td>\n",
       "      <td>27.369643</td>\n",
       "    </tr>\n",
       "    <tr>\n",
       "      <th>2016-11-18</th>\n",
       "      <td>27.635000</td>\n",
       "      <td>27.415001</td>\n",
       "      <td>27.430000</td>\n",
       "      <td>27.514999</td>\n",
       "      <td>113715600.0</td>\n",
       "      <td>25.937164</td>\n",
       "      <td>27.566786</td>\n",
       "    </tr>\n",
       "    <tr>\n",
       "      <th>2016-11-21</th>\n",
       "      <td>27.997499</td>\n",
       "      <td>27.502501</td>\n",
       "      <td>27.530001</td>\n",
       "      <td>27.932501</td>\n",
       "      <td>117058400.0</td>\n",
       "      <td>26.330730</td>\n",
       "      <td>27.733929</td>\n",
       "    </tr>\n",
       "    <tr>\n",
       "      <th>2016-11-22</th>\n",
       "      <td>28.105000</td>\n",
       "      <td>27.850000</td>\n",
       "      <td>27.987499</td>\n",
       "      <td>27.950001</td>\n",
       "      <td>103862000.0</td>\n",
       "      <td>26.347223</td>\n",
       "      <td>27.790357</td>\n",
       "    </tr>\n",
       "    <tr>\n",
       "      <th>2016-11-23</th>\n",
       "      <td>27.877501</td>\n",
       "      <td>27.582500</td>\n",
       "      <td>27.840000</td>\n",
       "      <td>27.807501</td>\n",
       "      <td>109705600.0</td>\n",
       "      <td>26.212894</td>\n",
       "      <td>27.844286</td>\n",
       "    </tr>\n",
       "    <tr>\n",
       "      <th>2016-11-25</th>\n",
       "      <td>27.967501</td>\n",
       "      <td>27.737499</td>\n",
       "      <td>27.782499</td>\n",
       "      <td>27.947500</td>\n",
       "      <td>45903600.0</td>\n",
       "      <td>26.344868</td>\n",
       "      <td>27.860715</td>\n",
       "    </tr>\n",
       "    <tr>\n",
       "      <th>2016-11-28</th>\n",
       "      <td>28.117500</td>\n",
       "      <td>27.847500</td>\n",
       "      <td>27.857500</td>\n",
       "      <td>27.892500</td>\n",
       "      <td>108776000.0</td>\n",
       "      <td>26.293018</td>\n",
       "      <td>27.780714</td>\n",
       "    </tr>\n",
       "    <tr>\n",
       "      <th>2016-11-29</th>\n",
       "      <td>28.007500</td>\n",
       "      <td>27.517500</td>\n",
       "      <td>27.695000</td>\n",
       "      <td>27.865000</td>\n",
       "      <td>114115200.0</td>\n",
       "      <td>26.267097</td>\n",
       "      <td>27.712857</td>\n",
       "    </tr>\n",
       "  </tbody>\n",
       "</table>\n",
       "</div>"
      ],
      "text/plain": [
       "                 High        Low       Open      Close       Volume  \\\n",
       "Date                                                                  \n",
       "2016-11-08  27.930000  27.424999  27.577499  27.764999   97016800.0   \n",
       "2016-11-09  27.830000  27.012501  27.469999  27.719999  236705600.0   \n",
       "2016-11-10  27.772499  26.457500  27.772499  26.947500  228538000.0   \n",
       "2016-11-11  27.217501  26.637501  26.780001  27.107500  136575600.0   \n",
       "2016-11-14  26.952499  26.020000  26.927500  26.427500  204702000.0   \n",
       "2016-11-15  26.920000  26.540001  26.642500  26.777500  129058000.0   \n",
       "2016-11-16  27.557501  26.650000  26.674999  27.497499  235362000.0   \n",
       "2016-11-17  27.587500  27.207500  27.452499  27.487499  110528000.0   \n",
       "2016-11-18  27.635000  27.415001  27.430000  27.514999  113715600.0   \n",
       "2016-11-21  27.997499  27.502501  27.530001  27.932501  117058400.0   \n",
       "2016-11-22  28.105000  27.850000  27.987499  27.950001  103862000.0   \n",
       "2016-11-23  27.877501  27.582500  27.840000  27.807501  109705600.0   \n",
       "2016-11-25  27.967501  27.737499  27.782499  27.947500   45903600.0   \n",
       "2016-11-28  28.117500  27.847500  27.857500  27.892500  108776000.0   \n",
       "2016-11-29  28.007500  27.517500  27.695000  27.865000  114115200.0   \n",
       "\n",
       "            Adj Close  Close_ma7  \n",
       "Date                              \n",
       "2016-11-08  26.172829        NaN  \n",
       "2016-11-09  26.130411        NaN  \n",
       "2016-11-10  25.402210        NaN  \n",
       "2016-11-11  25.553038  27.177500  \n",
       "2016-11-14  24.912027  27.137857  \n",
       "2016-11-15  25.241957  27.108571  \n",
       "2016-11-16  25.920671  27.249286  \n",
       "2016-11-17  25.911245  27.369643  \n",
       "2016-11-18  25.937164  27.566786  \n",
       "2016-11-21  26.330730  27.733929  \n",
       "2016-11-22  26.347223  27.790357  \n",
       "2016-11-23  26.212894  27.844286  \n",
       "2016-11-25  26.344868  27.860715  \n",
       "2016-11-28  26.293018  27.780714  \n",
       "2016-11-29  26.267097  27.712857  "
      ]
     },
     "execution_count": 45,
     "metadata": {},
     "output_type": "execute_result"
    }
   ],
   "source": [
    "import pandas as pd\n",
    "\n",
    "aapl_clone = pd.DataFrame(aapl.copy())\n",
    "aapl_clone['Close_ma7'] = aapl_clone.Close.rolling(window = 7, center = True).mean()\n",
    "aapl_clone.head(15)"
   ]
  },
  {
   "cell_type": "code",
   "execution_count": 46,
   "id": "27b90126-8b13-4ea2-9fe8-73d53b426e1c",
   "metadata": {},
   "outputs": [
    {
     "data": {
      "text/plain": [
       "Date\n",
       "2016-11-08    27.764999\n",
       "2016-11-09    27.719999\n",
       "2016-11-10    26.947500\n",
       "2016-11-11    27.107500\n",
       "2016-11-14    26.427500\n",
       "Name: Close, dtype: float64"
      ]
     },
     "execution_count": 46,
     "metadata": {},
     "output_type": "execute_result"
    }
   ],
   "source": [
    "aapl_clone['Close'].head()"
   ]
  },
  {
   "cell_type": "code",
   "execution_count": 47,
   "id": "1dd3222a-845a-442e-9cf8-b2621de217a8",
   "metadata": {},
   "outputs": [
    {
     "data": {
      "text/plain": [
       "<matplotlib.legend.Legend at 0x7f4e58dd8e50>"
      ]
     },
     "execution_count": 47,
     "metadata": {},
     "output_type": "execute_result"
    },
    {
     "data": {
      "image/png": "[encoded data removed]",
      "text/plain": [
       "<Figure size 1080x720 with 1 Axes>"
      ]
     },
     "metadata": {
      "needs_background": "light"
     },
     "output_type": "display_data"
    }
   ],
   "source": [
    "import matplotlib.pyplot as plt\n",
    "%matplotlib inline\n",
    "\n",
    "plt.figure(figsize = (15, 10))\n",
    "plt.plot(aapl_clone['Close'], label = 'Close')\n",
    "plt.plot(aapl_clone['Close_ma7'],label = 'Cma7')\n",
    "plt.legend(loc = 2)"
   ]
  },
  {
   "cell_type": "code",
   "execution_count": 52,
   "id": "2fde026a-52e4-43c7-9e42-c1577e8e5d7c",
   "metadata": {},
   "outputs": [],
   "source": [
    "import numpy as np\n",
    "\n",
    "aapl_clone['change'] = aapl_clone.Close - aapl.Close.shift()\n",
    "aapl_clone['chg'] = np.log(aapl_clone.Close / aapl_clone.Close.shift())"
   ]
  },
  {
   "cell_type": "code",
   "execution_count": 56,
   "id": "580402cc-78a0-429a-98f6-b7836b604d59",
   "metadata": {},
   "outputs": [
    {
     "data": {
      "text/plain": [
       "<matplotlib.legend.Legend at 0x7f4e58c58eb0>"
      ]
     },
     "execution_count": 56,
     "metadata": {},
     "output_type": "execute_result"
    },
    {
     "data": {
      "image/png": "[encoded data removed]",
      "text/plain": [
       "<Figure size 1080x720 with 1 Axes>"
      ]
     },
     "metadata": {
      "needs_background": "light"
     },
     "output_type": "display_data"
    }
   ],
   "source": [
    "plt.figure(figsize = (15, 10))\n",
    "'''plt.plot(aapl_clone['Close'], label = 'Close')\n",
    "plt.plot(aapl_clone['Close_ma7'],label = 'Cma7')'''\n",
    "plt.plot(aapl_clone['change'],label = 'Change')\n",
    "plt.plot(aapl_clone['chg'],label = 'Chg')\n",
    "plt.legend(loc = 2)"
   ]
  },
  {
   "cell_type": "code",
   "execution_count": 57,
   "id": "582a76d1-5f35-473e-b663-8f61fa3ab26a",
   "metadata": {},
   "outputs": [
    {
     "data": {
      "text/plain": [
       "<matplotlib.legend.Legend at 0x7f4e582e8c70>"
      ]
     },
     "execution_count": 57,
     "metadata": {},
     "output_type": "execute_result"
    },
    {
     "data": {
      "image/png": "[encoded data removed]",
      "text/plain": [
       "<Figure size 1080x720 with 1 Axes>"
      ]
     },
     "metadata": {
      "needs_background": "light"
     },
     "output_type": "display_data"
    }
   ],
   "source": [
    "plt.figure(figsize = (15, 10))\n",
    "'''plt.plot(aapl_clone['Close'], label = 'Close')\n",
    "plt.plot(aapl_clone['Close_ma7'],label = 'Cma7')\n",
    "plt.plot(aapl_clone['change'],label = 'Change')'''\n",
    "plt.plot(aapl_clone['chg'],label = 'Chg')\n",
    "plt.legend(loc = 2)"
   ]
  },
  {
   "cell_type": "code",
   "execution_count": 59,
   "id": "7aa7cf48-acaf-40a0-9f6c-3ac93880b0f2",
   "metadata": {},
   "outputs": [
    {
     "data": {
      "text/plain": [
       "DatetimeIndex(['2016-11-08', '2016-11-09', '2016-11-10', '2016-11-11',\n",
       "               '2016-11-14', '2016-11-15', '2016-11-16', '2016-11-17',\n",
       "               '2016-11-18', '2016-11-21',\n",
       "               ...\n",
       "               '2021-08-24', '2021-08-25', '2021-08-26', '2021-08-27',\n",
       "               '2021-08-30', '2021-08-31', '2021-09-01', '2021-09-02',\n",
       "               '2021-09-03', '2021-09-07'],\n",
       "              dtype='datetime64[ns]', name='Date', length=1215, freq=None)"
      ]
     },
     "execution_count": 59,
     "metadata": {},
     "output_type": "execute_result"
    }
   ],
   "source": [
    "aapl_clone.index"
   ]
  },
  {
   "cell_type": "raw",
   "id": "37e5474b-b124-4660-b6e2-86dba6933bdf",
   "metadata": {},
   "source": [
    "!pip install pandas_datareader"
   ]
  },
  {
   "cell_type": "raw",
   "id": "41dcd8de-07ec-4e4d-b68d-749c20625864",
   "metadata": {},
   "source": [
    "!pip install matplotlib"
   ]
  },
  {
   "cell_type": "code",
   "execution_count": null,
   "id": "7a622d57-3387-4539-9e42-220a37cf06b5",
   "metadata": {},
   "outputs": [],
   "source": []
  }
 ],
 "metadata": {
  "kernelspec": {
   "display_name": "Python 3 (ipykernel)",
   "language": "python",
   "name": "python3"
  },
  "language_info": {
   "codemirror_mode": {
    "name": "ipython",
    "version": 3
   },
   "file_extension": ".py",
   "mimetype": "text/x-python",
   "name": "python",
   "nbconvert_exporter": "python",
   "pygments_lexer": "ipython3",
   "version": "3.9.2"
  }
 },
 "nbformat": 4,
 "nbformat_minor": 5
}
